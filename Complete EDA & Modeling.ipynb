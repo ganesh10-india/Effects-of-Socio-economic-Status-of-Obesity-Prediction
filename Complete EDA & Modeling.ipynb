{
 "cells": [
  {
   "cell_type": "code",
   "execution_count": 1,
   "metadata": {},
   "outputs": [],
   "source": [
    "import os\n",
    "import pandas as pd\n",
    "import seaborn as sns\n",
    "import numpy as np\n",
    "import matplotlib.pyplot as plt\n",
    "%matplotlib inline"
   ]
  },
  {
   "cell_type": "code",
   "execution_count": 2,
   "metadata": {},
   "outputs": [
    {
     "data": {
      "text/html": [
       "<div>\n",
       "<style scoped>\n",
       "    .dataframe tbody tr th:only-of-type {\n",
       "        vertical-align: middle;\n",
       "    }\n",
       "\n",
       "    .dataframe tbody tr th {\n",
       "        vertical-align: top;\n",
       "    }\n",
       "\n",
       "    .dataframe thead th {\n",
       "        text-align: right;\n",
       "    }\n",
       "</style>\n",
       "<table border=\"1\" class=\"dataframe\">\n",
       "  <thead>\n",
       "    <tr style=\"text-align: right;\">\n",
       "      <th></th>\n",
       "      <th>PCT_LACCESS_POP10</th>\n",
       "      <th>PCT_LACCESS_LOWI10</th>\n",
       "      <th>PCT_LACCESS_CHILD10</th>\n",
       "      <th>PCT_LACCESS_SENIORS10</th>\n",
       "      <th>PCT_LACCESS_HHNV10</th>\n",
       "      <th>GROCPTH07</th>\n",
       "      <th>SUPERCPTH07</th>\n",
       "      <th>CONVSPTH07</th>\n",
       "      <th>SPECSPTH07</th>\n",
       "      <th>SNAPSPTH08</th>\n",
       "      <th>...</th>\n",
       "      <th>PCT_65OLDER10</th>\n",
       "      <th>PCT_18YOUNGER10</th>\n",
       "      <th>MEDHHINC10</th>\n",
       "      <th>POVRATE10</th>\n",
       "      <th>PERPOV10</th>\n",
       "      <th>CHILDPOVRATE10</th>\n",
       "      <th>PERCHLDPOV10</th>\n",
       "      <th>METRO13</th>\n",
       "      <th>POPLOSS00</th>\n",
       "      <th>PCT_OBESE_ADULTS10</th>\n",
       "    </tr>\n",
       "    <tr>\n",
       "      <th>FIPS</th>\n",
       "      <th></th>\n",
       "      <th></th>\n",
       "      <th></th>\n",
       "      <th></th>\n",
       "      <th></th>\n",
       "      <th></th>\n",
       "      <th></th>\n",
       "      <th></th>\n",
       "      <th></th>\n",
       "      <th></th>\n",
       "      <th></th>\n",
       "      <th></th>\n",
       "      <th></th>\n",
       "      <th></th>\n",
       "      <th></th>\n",
       "      <th></th>\n",
       "      <th></th>\n",
       "      <th></th>\n",
       "      <th></th>\n",
       "      <th></th>\n",
       "      <th></th>\n",
       "    </tr>\n",
       "  </thead>\n",
       "  <tbody>\n",
       "    <tr>\n",
       "      <th>17057</th>\n",
       "      <td>12.447050</td>\n",
       "      <td>3.967083</td>\n",
       "      <td>2.816930</td>\n",
       "      <td>2.249617</td>\n",
       "      <td>2.106049</td>\n",
       "      <td>0.190057</td>\n",
       "      <td>0.000000</td>\n",
       "      <td>0.950286</td>\n",
       "      <td>0.027151</td>\n",
       "      <td>0.719526</td>\n",
       "      <td>...</td>\n",
       "      <td>18.052820</td>\n",
       "      <td>20.915050</td>\n",
       "      <td>40749</td>\n",
       "      <td>14.5</td>\n",
       "      <td>0</td>\n",
       "      <td>19.4</td>\n",
       "      <td>0</td>\n",
       "      <td>0</td>\n",
       "      <td>0</td>\n",
       "      <td>30.3</td>\n",
       "    </tr>\n",
       "    <tr>\n",
       "      <th>19103</th>\n",
       "      <td>16.736065</td>\n",
       "      <td>3.717899</td>\n",
       "      <td>4.097261</td>\n",
       "      <td>1.784079</td>\n",
       "      <td>1.467352</td>\n",
       "      <td>0.207112</td>\n",
       "      <td>0.007966</td>\n",
       "      <td>1.011662</td>\n",
       "      <td>0.047795</td>\n",
       "      <td>0.317999</td>\n",
       "      <td>...</td>\n",
       "      <td>8.565731</td>\n",
       "      <td>19.802570</td>\n",
       "      <td>51014</td>\n",
       "      <td>17</td>\n",
       "      <td>0</td>\n",
       "      <td>12.5</td>\n",
       "      <td>0</td>\n",
       "      <td>1</td>\n",
       "      <td>0</td>\n",
       "      <td>24.0</td>\n",
       "    </tr>\n",
       "    <tr>\n",
       "      <th>5135</th>\n",
       "      <td>20.678178</td>\n",
       "      <td>8.833366</td>\n",
       "      <td>3.741109</td>\n",
       "      <td>6.442812</td>\n",
       "      <td>4.012840</td>\n",
       "      <td>0.225505</td>\n",
       "      <td>0.056376</td>\n",
       "      <td>1.353027</td>\n",
       "      <td>0.000000</td>\n",
       "      <td>0.612503</td>\n",
       "      <td>...</td>\n",
       "      <td>23.945783</td>\n",
       "      <td>21.530352</td>\n",
       "      <td>28933</td>\n",
       "      <td>25.1</td>\n",
       "      <td>0</td>\n",
       "      <td>39.3</td>\n",
       "      <td>1</td>\n",
       "      <td>0</td>\n",
       "      <td>0</td>\n",
       "      <td>30.3</td>\n",
       "    </tr>\n",
       "    <tr>\n",
       "      <th>29019</th>\n",
       "      <td>32.164619</td>\n",
       "      <td>11.618021</td>\n",
       "      <td>6.755868</td>\n",
       "      <td>2.513050</td>\n",
       "      <td>1.878729</td>\n",
       "      <td>0.144439</td>\n",
       "      <td>0.013131</td>\n",
       "      <td>1.030772</td>\n",
       "      <td>0.078785</td>\n",
       "      <td>0.366096</td>\n",
       "      <td>...</td>\n",
       "      <td>9.266979</td>\n",
       "      <td>21.059136</td>\n",
       "      <td>42202</td>\n",
       "      <td>18.8</td>\n",
       "      <td>0</td>\n",
       "      <td>16.6</td>\n",
       "      <td>0</td>\n",
       "      <td>1</td>\n",
       "      <td>0</td>\n",
       "      <td>25.7</td>\n",
       "    </tr>\n",
       "    <tr>\n",
       "      <th>38047</th>\n",
       "      <td>95.832377</td>\n",
       "      <td>31.416795</td>\n",
       "      <td>20.430822</td>\n",
       "      <td>27.035329</td>\n",
       "      <td>4.116095</td>\n",
       "      <td>0.512295</td>\n",
       "      <td>0.000000</td>\n",
       "      <td>2.049180</td>\n",
       "      <td>0.512295</td>\n",
       "      <td>0.519481</td>\n",
       "      <td>...</td>\n",
       "      <td>27.989950</td>\n",
       "      <td>21.105528</td>\n",
       "      <td>38380</td>\n",
       "      <td>14.4</td>\n",
       "      <td>0</td>\n",
       "      <td>19.4</td>\n",
       "      <td>0</td>\n",
       "      <td>0</td>\n",
       "      <td>1</td>\n",
       "      <td>34.8</td>\n",
       "    </tr>\n",
       "  </tbody>\n",
       "</table>\n",
       "<p>5 rows × 64 columns</p>\n",
       "</div>"
      ],
      "text/plain": [
       "       PCT_LACCESS_POP10  PCT_LACCESS_LOWI10  PCT_LACCESS_CHILD10  \\\n",
       "FIPS                                                                \n",
       "17057          12.447050            3.967083             2.816930   \n",
       "19103          16.736065            3.717899             4.097261   \n",
       "5135           20.678178            8.833366             3.741109   \n",
       "29019          32.164619           11.618021             6.755868   \n",
       "38047          95.832377           31.416795            20.430822   \n",
       "\n",
       "       PCT_LACCESS_SENIORS10  PCT_LACCESS_HHNV10  GROCPTH07  SUPERCPTH07  \\\n",
       "FIPS                                                                       \n",
       "17057               2.249617            2.106049   0.190057     0.000000   \n",
       "19103               1.784079            1.467352   0.207112     0.007966   \n",
       "5135                6.442812            4.012840   0.225505     0.056376   \n",
       "29019               2.513050            1.878729   0.144439     0.013131   \n",
       "38047              27.035329            4.116095   0.512295     0.000000   \n",
       "\n",
       "       CONVSPTH07  SPECSPTH07  SNAPSPTH08  ...  PCT_65OLDER10  \\\n",
       "FIPS                                       ...                  \n",
       "17057    0.950286    0.027151    0.719526  ...      18.052820   \n",
       "19103    1.011662    0.047795    0.317999  ...       8.565731   \n",
       "5135     1.353027    0.000000    0.612503  ...      23.945783   \n",
       "29019    1.030772    0.078785    0.366096  ...       9.266979   \n",
       "38047    2.049180    0.512295    0.519481  ...      27.989950   \n",
       "\n",
       "       PCT_18YOUNGER10  MEDHHINC10  POVRATE10  PERPOV10  CHILDPOVRATE10  \\\n",
       "FIPS                                                                      \n",
       "17057        20.915050       40749       14.5         0            19.4   \n",
       "19103        19.802570       51014         17         0            12.5   \n",
       "5135         21.530352       28933       25.1         0            39.3   \n",
       "29019        21.059136       42202       18.8         0            16.6   \n",
       "38047        21.105528       38380       14.4         0            19.4   \n",
       "\n",
       "       PERCHLDPOV10  METRO13  POPLOSS00  PCT_OBESE_ADULTS10  \n",
       "FIPS                                                         \n",
       "17057             0        0          0                30.3  \n",
       "19103             0        1          0                24.0  \n",
       "5135              1        0          0                30.3  \n",
       "29019             0        1          0                25.7  \n",
       "38047             0        0          1                34.8  \n",
       "\n",
       "[5 rows x 64 columns]"
      ]
     },
     "execution_count": 2,
     "metadata": {},
     "output_type": "execute_result"
    }
   ],
   "source": [
    "#export train and test data\n",
    "#assign FIPS as an index\n",
    "data = pd.read_csv('data_train.csv')\n",
    "data.index=data.FIPS\n",
    "data.drop('FIPS',axis=1,inplace=True)\n",
    "\n",
    "data_test = pd.read_csv('data_test.csv')\n",
    "data_test.index=data_test.FIPS\n",
    "data_test.drop('FIPS',axis=1,inplace=True)\n",
    "\n",
    "data.head()"
   ]
  },
  {
   "cell_type": "markdown",
   "metadata": {},
   "source": [
    "### Description of the columns with the variable types is below\n"
   ]
  },
  {
   "cell_type": "markdown",
   "metadata": {},
   "source": [
    "- Index|FieldName|Type|Unit|Description\n",
    "-------|---------|----|-----------\n",
    "- 0|PCT_LACCESS_POP10|Percent|float|Population, low access to store (%), 2010\n",
    "- 1|PCT_LACCESS_LOWI10|Percent|float|Low income & low access to store (%), 2010\n",
    "- 2|PCT_LACCESS_CHILD10|Percent|float|Children, low access to store (%), 2010\n",
    "- 3|PCT_LACCESS_SENIORS10|Percent|float|Seniors, low access to store (%), 2010\n",
    "- 4|PCT_LACCESS_HHNV10|Percent|float|Households, no car & low access to store (%), 2010\n",
    "- 5|GROCPTH07|# per 1,000 pop|float|Grocery stores/1,000 pop, 2007\n",
    "- 6|SUPERCPTH07|# per 1,000 pop|float|Supercenters & club stores/1,000 pop, 2007\n",
    "- 7|CONVSPTH07|# per 1,000 pop|float|Convenience stores/1,000 pop, 2007\n",
    "- 8|SPECSPTH07|# per 1,000 pop|float|Specialized food stores/1,000 pop, 2007\n",
    "- 9|SNAPSPTH08|# per 1,000 pop|float|SNAP-authorized stores/1,000 pop, 2008\n",
    "- 10|WICSPTH08|# per 1,000 pop|float|WIC-authorized stores/1,000 pop, 2008\n",
    "- 11|FFRPTH07|# per 1,000 pop|float|Fast-food restaurants/1,000 pop, 2007\n",
    "- 12|FSRPTH07|# per 1,000 pop|float|Full-service restaurants/1,000 pop, 2007\n",
    "- 13|PC_FFRSALES07|Dollars|float|Expenditures per capita, fast food, 2007 (State level)\n",
    "- 14|PC_FSRSALES07|Dollars|float|Expenditures per capita, restaurants, 2007 (State level)\n",
    "- 15|PCT_SNAP09|Percent|float|SNAP participants (% pop), 2009  (State level)\n",
    "- 16|SNAP_PART_RATE10|Percent|float|SNAP participants (% eligible pop), 2010  (State level)\n",
    "- 17|SNAP_OAPP10|Classification|float (0, 0.5 or 1)|SNAP online application, 2010  (State level)\n",
    "- 18|SNAP_FACEWAIVER10|Classification|float (0, 0.5 or 1)|SNAP face interview waiver, 2010  (State level)\n",
    "- 19|SNAP_VEHEXCL10|Classification|integer (0 or 1)|SNAP vehicle exclusion, 2010  (State level)\n",
    "- 20|SNAP_BBCE10|Classification|integer (0 or 1)|SNAP Broad-based Categorical Eligibility, 2010  (State level)\n",
    "- 21|SNAP_REPORTSIMPLE10|Classification|integer (0 or 1)|SNAP simplified reporting, 2010  (State level)\n",
    "- 22|PCT_NSLP09|Percent|float|National School Lunch Program participants (% pop), 2009  (State level)\n",
    "- 23|PCT_FREE_LUNCH10|Percent|float|Students eligible for free lunch (%), 2010\n",
    "- 24|PCT_REDUCED_LUNCH10|Percent|float|Students eligible for reduced-price lunch (%), 2010\n",
    "- 25|PCT_SBP09|Percent|float|School Breakfast Program participants (% pop), 2009  (State level)\n",
    "- 26|PCT_SFSP09|Percent|float|Summer Food Service Program participants (% pop), 2009  (State level)\n",
    "- 27|PCT_WIC09|Percent|float|WIC participants (% pop), 2009  (State level)\n",
    "- 28|PCT_CACFP09|Percent|float|Child & Adult Care (% pop), 2009  (State level)\n",
    "- 29|FOODINSEC_07_09|Percent|float|Household food insecurity (%, three-year average), 2007-09  (State level)\n",
    "- 30|VLFOODSEC_07_09|Percent|float|Household very low food security (%, three-year average), 2007-09  (State level)\n",
    "- 31|FOODINSEC_CHILD_01_07|Percent|float|Child food insecurity (% households, multiple-year average), 2001-07  (State level)\n",
    "- 32|MILK_PRICE10|Ratio|float|Price of low-fat milk/national average, 2010 (Region level)\n",
    "- 33|SODA_PRICE10|Ratio|float|Price of sodas/national average, 2010  (Region level)\n",
    "- 34|MILK_SODA_PRICE10|Ratio|float|Price of low-fat milk/price of sodas, 2010  (Region level)\n",
    "- 35|PCT_LOCLFARM07|Percent|float|Farms with direct sales (%), 2007\n",
    "- 36|FMRKTPTH09|# per 1,000 pop|float|Farmers' markets/1,000 pop, 2009\n",
    "- 37|VEG_FARMS07|Count|integer|Vegetable farms, 2007\n",
    "- 38|FRESHVEG_FARMS07|Count|integer|Farms with vegetables harvested for fresh market, 2007\n",
    "- 39|ORCHARD_FARMS07|Count|integer|Orchard farms, 2007\n",
    "- 40|BERRY_FARMS07|Count|integer|Berry farms, 2007\n",
    "- 41|SLHOUSE07|Count|integer|Small slaughterhouse facilities, 2007\n",
    "- 42|GHVEG_FARMS07|Count|integer|Greenhouse vegetable and fresh herb farms, 2007\n",
    "- 43|CSA07|Count|integer|CSA farms, 2007\n",
    "- 44|AGRITRSM_OPS07|Count|integer|Agritourism operations\n",
    "- 45|FARM_TO_SCHOOL|Classification|integer (0 or 1)|Farm to school program, 2009\n",
    "- 46|RECFACPTH07|# per 1,000 pop|float|Recreation & fitness facilities/1,000 pop, 2007\n",
    "- 47|NATAMEN|Legend|integer|ERS natural amenity index, 1999\n",
    "- 48|PCT_NHWHITE10|Percent|float|% White, 2010\n",
    "- 49|PCT_NHBLACK10|Percent|float|% Black, 2010\n",
    "- 50|PCT_HISP10|Percent|float|% Hispanic, 2010\n",
    "- 51|PCT_NHASIAN10|Percent|float|% Asian, 2010\n",
    "- 52|PCT_NHNA10|Percent|float|% American Indian or Alaska Native, 2010\n",
    "- 53|PCT_NHPI10|Percent|float|% Hawaiian or Pacific Islander, 2010\n",
    "- 54|PCT_65OLDER10|Percent|float|% Population 65 years or older, 2010\n",
    "- 55|PCT_18YOUNGER10|Percent|float|% Population under age 18, 2010\n",
    "- 56|MEDHHINC10|Dollars|integer|Median household income, 2010\n",
    "- 57|POVRATE10|Percent|float|Poverty rate, 2010\n",
    "- 58|PERPOV10|Legend|integer (0 or 1)|Persistent-poverty counties, 2010\n",
    "- 59|CHILDPOVRATE10|Percent|float|Child poverty rate, 2010\n",
    "- 60|PERCHLDPOV10|Legend|integer (0 or 1)|Persistent-child-poverty counties, 2010\n",
    "- 61|METRO13|Legend|integer (0 or 1)|Metro/nonmetro counties, 2010\n",
    "- 62|POPLOSS00|Legend|integer (0 or 1)|Population-loss counties, 2000\n",
    "- 63|PCT_OBESE_ADULTS10|Percent|float|Adult obesity rate (county), 2010"
   ]
  },
  {
   "cell_type": "markdown",
   "metadata": {},
   "source": [
    "# *EDA on Train Dataset*."
   ]
  },
  {
   "cell_type": "code",
   "execution_count": 3,
   "metadata": {},
   "outputs": [
    {
     "name": "stdout",
     "output_type": "stream",
     "text": [
      "<class 'pandas.core.frame.DataFrame'>\n",
      "Int64Index: 2357 entries, 17057 to 51840\n",
      "Data columns (total 64 columns):\n",
      " #   Column                 Non-Null Count  Dtype  \n",
      "---  ------                 --------------  -----  \n",
      " 0   PCT_LACCESS_POP10      2357 non-null   float64\n",
      " 1   PCT_LACCESS_LOWI10     2357 non-null   float64\n",
      " 2   PCT_LACCESS_CHILD10    2357 non-null   float64\n",
      " 3   PCT_LACCESS_SENIORS10  2357 non-null   float64\n",
      " 4   PCT_LACCESS_HHNV10     2357 non-null   float64\n",
      " 5   GROCPTH07              2357 non-null   float64\n",
      " 6   SUPERCPTH07            2357 non-null   float64\n",
      " 7   CONVSPTH07             2357 non-null   float64\n",
      " 8   SPECSPTH07             2357 non-null   float64\n",
      " 9   SNAPSPTH08             2357 non-null   float64\n",
      " 10  WICSPTH08              2357 non-null   float64\n",
      " 11  FFRPTH07               2354 non-null   float64\n",
      " 12  FSRPTH07               2354 non-null   float64\n",
      " 13  PC_FFRSALES07          2357 non-null   float64\n",
      " 14  PC_FSRSALES07          2357 non-null   float64\n",
      " 15  PCT_SNAP09             2357 non-null   float64\n",
      " 16  SNAP_PART_RATE10       2357 non-null   float64\n",
      " 17  SNAP_OAPP10            2357 non-null   float64\n",
      " 18  SNAP_FACEWAIVER10      2357 non-null   float64\n",
      " 19  SNAP_VEHEXCL10         2357 non-null   int64  \n",
      " 20  SNAP_BBCE10            2357 non-null   int64  \n",
      " 21  SNAP_REPORTSIMPLE10    2357 non-null   int64  \n",
      " 22  PCT_NSLP09             2357 non-null   float64\n",
      " 23  PCT_FREE_LUNCH10       2343 non-null   float64\n",
      " 24  PCT_REDUCED_LUNCH10    2343 non-null   float64\n",
      " 25  PCT_SBP09              2357 non-null   float64\n",
      " 26  PCT_SFSP09             2357 non-null   float64\n",
      " 27  PCT_WIC09              2357 non-null   float64\n",
      " 28  PCT_CACFP09            2357 non-null   float64\n",
      " 29  FOODINSEC_07_09        2357 non-null   float64\n",
      " 30  VLFOODSEC_07_09        2357 non-null   float64\n",
      " 31  FOODINSEC_CHILD_01_07  2357 non-null   float64\n",
      " 32  MILK_PRICE10           2332 non-null   float64\n",
      " 33  SODA_PRICE10           2332 non-null   float64\n",
      " 34  MILK_SODA_PRICE10      2332 non-null   float64\n",
      " 35  PCT_LOCLFARM07         2270 non-null   float64\n",
      " 36  FMRKTPTH09             2354 non-null   float64\n",
      " 37  VEG_FARMS07            2314 non-null   float64\n",
      " 38  FRESHVEG_FARMS07       2314 non-null   float64\n",
      " 39  ORCHARD_FARMS07        2314 non-null   float64\n",
      " 40  BERRY_FARMS07          2314 non-null   float64\n",
      " 41  SLHOUSE07              2354 non-null   float64\n",
      " 42  GHVEG_FARMS07          2314 non-null   float64\n",
      " 43  CSA07                  2354 non-null   float64\n",
      " 44  AGRITRSM_OPS07         2354 non-null   float64\n",
      " 45  FARM_TO_SCHOOL         2354 non-null   float64\n",
      " 46  RECFACPTH07            2354 non-null   float64\n",
      " 47  NATAMEN                2332 non-null   float64\n",
      " 48  PCT_NHWHITE10          2357 non-null   float64\n",
      " 49  PCT_NHBLACK10          2357 non-null   float64\n",
      " 50  PCT_HISP10             2357 non-null   float64\n",
      " 51  PCT_NHASIAN10          2357 non-null   float64\n",
      " 52  PCT_NHNA10             2357 non-null   float64\n",
      " 53  PCT_NHPI10             2357 non-null   float64\n",
      " 54  PCT_65OLDER10          2357 non-null   float64\n",
      " 55  PCT_18YOUNGER10        2357 non-null   float64\n",
      " 56  MEDHHINC10             2357 non-null   object \n",
      " 57  POVRATE10              2357 non-null   object \n",
      " 58  PERPOV10               2357 non-null   int64  \n",
      " 59  CHILDPOVRATE10         2357 non-null   object \n",
      " 60  PERCHLDPOV10           2357 non-null   int64  \n",
      " 61  METRO13                2357 non-null   int64  \n",
      " 62  POPLOSS00              2357 non-null   object \n",
      " 63  PCT_OBESE_ADULTS10     2354 non-null   float64\n",
      "dtypes: float64(54), int64(6), object(4)\n",
      "memory usage: 1.2+ MB\n"
     ]
    }
   ],
   "source": [
    "data.info()"
   ]
  },
  {
   "cell_type": "code",
   "execution_count": 4,
   "metadata": {},
   "outputs": [],
   "source": [
    "# drop rows with null vales\n",
    "data.dropna(axis= 0,inplace=True)"
   ]
  },
  {
   "cell_type": "code",
   "execution_count": 5,
   "metadata": {},
   "outputs": [],
   "source": [
    "# several columns (MEDHHINC10, POVRATE10, CHILDPOVRATE10, PERCHLDPOV10) \n",
    "# convert columns with type 'object' info float and coers invalid values to NaN\n",
    "data[['MEDHHINC10','POVRATE10','CHILDPOVRATE10',\n",
    "      'POPLOSS00']]=data[['MEDHHINC10',\n",
    "                          'POVRATE10','CHILDPOVRATE10','POPLOSS00']].apply(lambda x: pd.to_numeric(x, errors='coerce'))"
   ]
  },
  {
   "cell_type": "code",
   "execution_count": 6,
   "metadata": {},
   "outputs": [
    {
     "name": "stdout",
     "output_type": "stream",
     "text": [
      "<class 'pandas.core.frame.DataFrame'>\n",
      "Int64Index: 2253 entries, 17057 to 5051\n",
      "Data columns (total 4 columns):\n",
      " #   Column          Non-Null Count  Dtype  \n",
      "---  ------          --------------  -----  \n",
      " 0   MEDHHINC10      2253 non-null   int64  \n",
      " 1   POVRATE10       2253 non-null   float64\n",
      " 2   CHILDPOVRATE10  2253 non-null   float64\n",
      " 3   POPLOSS00       2253 non-null   int64  \n",
      "dtypes: float64(2), int64(2)\n",
      "memory usage: 88.0 KB\n"
     ]
    }
   ],
   "source": [
    "data[['MEDHHINC10','POVRATE10','CHILDPOVRATE10','POPLOSS00']].info()"
   ]
  },
  {
   "cell_type": "code",
   "execution_count": 7,
   "metadata": {},
   "outputs": [
    {
     "data": {
      "text/html": [
       "<div>\n",
       "<style scoped>\n",
       "    .dataframe tbody tr th:only-of-type {\n",
       "        vertical-align: middle;\n",
       "    }\n",
       "\n",
       "    .dataframe tbody tr th {\n",
       "        vertical-align: top;\n",
       "    }\n",
       "\n",
       "    .dataframe thead th {\n",
       "        text-align: right;\n",
       "    }\n",
       "</style>\n",
       "<table border=\"1\" class=\"dataframe\">\n",
       "  <thead>\n",
       "    <tr style=\"text-align: right;\">\n",
       "      <th></th>\n",
       "      <th>count</th>\n",
       "      <th>mean</th>\n",
       "      <th>std</th>\n",
       "      <th>min</th>\n",
       "      <th>25%</th>\n",
       "      <th>50%</th>\n",
       "      <th>75%</th>\n",
       "      <th>max</th>\n",
       "    </tr>\n",
       "  </thead>\n",
       "  <tbody>\n",
       "    <tr>\n",
       "      <th>PCT_LACCESS_POP10</th>\n",
       "      <td>2253.0</td>\n",
       "      <td>22.884722</td>\n",
       "      <td>19.334220</td>\n",
       "      <td>0.0</td>\n",
       "      <td>10.741424</td>\n",
       "      <td>19.401001</td>\n",
       "      <td>28.946664</td>\n",
       "      <td>100.000001</td>\n",
       "    </tr>\n",
       "    <tr>\n",
       "      <th>PCT_LACCESS_LOWI10</th>\n",
       "      <td>2253.0</td>\n",
       "      <td>8.074257</td>\n",
       "      <td>7.759924</td>\n",
       "      <td>0.0</td>\n",
       "      <td>3.409245</td>\n",
       "      <td>6.107436</td>\n",
       "      <td>10.130099</td>\n",
       "      <td>72.274456</td>\n",
       "    </tr>\n",
       "    <tr>\n",
       "      <th>PCT_LACCESS_CHILD10</th>\n",
       "      <td>2253.0</td>\n",
       "      <td>5.332851</td>\n",
       "      <td>4.585524</td>\n",
       "      <td>0.0</td>\n",
       "      <td>2.383706</td>\n",
       "      <td>4.393517</td>\n",
       "      <td>6.868396</td>\n",
       "      <td>34.015595</td>\n",
       "    </tr>\n",
       "    <tr>\n",
       "      <th>PCT_LACCESS_SENIORS10</th>\n",
       "      <td>2253.0</td>\n",
       "      <td>3.862513</td>\n",
       "      <td>4.127223</td>\n",
       "      <td>0.0</td>\n",
       "      <td>1.590391</td>\n",
       "      <td>2.805166</td>\n",
       "      <td>4.486883</td>\n",
       "      <td>27.946309</td>\n",
       "    </tr>\n",
       "    <tr>\n",
       "      <th>PCT_LACCESS_HHNV10</th>\n",
       "      <td>2253.0</td>\n",
       "      <td>3.025946</td>\n",
       "      <td>2.097046</td>\n",
       "      <td>0.0</td>\n",
       "      <td>1.640771</td>\n",
       "      <td>2.578616</td>\n",
       "      <td>3.764840</td>\n",
       "      <td>29.507523</td>\n",
       "    </tr>\n",
       "    <tr>\n",
       "      <th>...</th>\n",
       "      <td>...</td>\n",
       "      <td>...</td>\n",
       "      <td>...</td>\n",
       "      <td>...</td>\n",
       "      <td>...</td>\n",
       "      <td>...</td>\n",
       "      <td>...</td>\n",
       "      <td>...</td>\n",
       "    </tr>\n",
       "    <tr>\n",
       "      <th>CHILDPOVRATE10</th>\n",
       "      <td>2253.0</td>\n",
       "      <td>24.086418</td>\n",
       "      <td>8.922472</td>\n",
       "      <td>4.2</td>\n",
       "      <td>17.400000</td>\n",
       "      <td>23.500000</td>\n",
       "      <td>29.900000</td>\n",
       "      <td>61.100000</td>\n",
       "    </tr>\n",
       "    <tr>\n",
       "      <th>PERCHLDPOV10</th>\n",
       "      <td>2253.0</td>\n",
       "      <td>0.227696</td>\n",
       "      <td>0.419439</td>\n",
       "      <td>0.0</td>\n",
       "      <td>0.000000</td>\n",
       "      <td>0.000000</td>\n",
       "      <td>0.000000</td>\n",
       "      <td>1.000000</td>\n",
       "    </tr>\n",
       "    <tr>\n",
       "      <th>METRO13</th>\n",
       "      <td>2253.0</td>\n",
       "      <td>0.373280</td>\n",
       "      <td>0.483783</td>\n",
       "      <td>0.0</td>\n",
       "      <td>0.000000</td>\n",
       "      <td>0.000000</td>\n",
       "      <td>1.000000</td>\n",
       "      <td>1.000000</td>\n",
       "    </tr>\n",
       "    <tr>\n",
       "      <th>POPLOSS00</th>\n",
       "      <td>2253.0</td>\n",
       "      <td>0.190413</td>\n",
       "      <td>0.392714</td>\n",
       "      <td>0.0</td>\n",
       "      <td>0.000000</td>\n",
       "      <td>0.000000</td>\n",
       "      <td>0.000000</td>\n",
       "      <td>1.000000</td>\n",
       "    </tr>\n",
       "    <tr>\n",
       "      <th>PCT_OBESE_ADULTS10</th>\n",
       "      <td>2253.0</td>\n",
       "      <td>30.577408</td>\n",
       "      <td>4.147914</td>\n",
       "      <td>13.2</td>\n",
       "      <td>28.400000</td>\n",
       "      <td>30.800000</td>\n",
       "      <td>33.000000</td>\n",
       "      <td>47.900000</td>\n",
       "    </tr>\n",
       "  </tbody>\n",
       "</table>\n",
       "<p>64 rows × 8 columns</p>\n",
       "</div>"
      ],
      "text/plain": [
       "                        count       mean        std   min        25%  \\\n",
       "PCT_LACCESS_POP10      2253.0  22.884722  19.334220   0.0  10.741424   \n",
       "PCT_LACCESS_LOWI10     2253.0   8.074257   7.759924   0.0   3.409245   \n",
       "PCT_LACCESS_CHILD10    2253.0   5.332851   4.585524   0.0   2.383706   \n",
       "PCT_LACCESS_SENIORS10  2253.0   3.862513   4.127223   0.0   1.590391   \n",
       "PCT_LACCESS_HHNV10     2253.0   3.025946   2.097046   0.0   1.640771   \n",
       "...                       ...        ...        ...   ...        ...   \n",
       "CHILDPOVRATE10         2253.0  24.086418   8.922472   4.2  17.400000   \n",
       "PERCHLDPOV10           2253.0   0.227696   0.419439   0.0   0.000000   \n",
       "METRO13                2253.0   0.373280   0.483783   0.0   0.000000   \n",
       "POPLOSS00              2253.0   0.190413   0.392714   0.0   0.000000   \n",
       "PCT_OBESE_ADULTS10     2253.0  30.577408   4.147914  13.2  28.400000   \n",
       "\n",
       "                             50%        75%         max  \n",
       "PCT_LACCESS_POP10      19.401001  28.946664  100.000001  \n",
       "PCT_LACCESS_LOWI10      6.107436  10.130099   72.274456  \n",
       "PCT_LACCESS_CHILD10     4.393517   6.868396   34.015595  \n",
       "PCT_LACCESS_SENIORS10   2.805166   4.486883   27.946309  \n",
       "PCT_LACCESS_HHNV10      2.578616   3.764840   29.507523  \n",
       "...                          ...        ...         ...  \n",
       "CHILDPOVRATE10         23.500000  29.900000   61.100000  \n",
       "PERCHLDPOV10            0.000000   0.000000    1.000000  \n",
       "METRO13                 0.000000   1.000000    1.000000  \n",
       "POPLOSS00               0.000000   0.000000    1.000000  \n",
       "PCT_OBESE_ADULTS10     30.800000  33.000000   47.900000  \n",
       "\n",
       "[64 rows x 8 columns]"
      ]
     },
     "execution_count": 7,
     "metadata": {},
     "output_type": "execute_result"
    }
   ],
   "source": [
    "# Summary Table - transpose for ease of reading\n",
    "summary_table = data.describe().transpose()\n",
    "summary_table"
   ]
  },
  {
   "cell_type": "markdown",
   "metadata": {},
   "source": [
    "# Check for Outliers"
   ]
  },
  {
   "cell_type": "code",
   "execution_count": 8,
   "metadata": {},
   "outputs": [
    {
     "data": {
      "text/plain": [
       "count    2253.000000\n",
       "mean       30.577408\n",
       "std         4.147914\n",
       "min        13.200000\n",
       "25%        28.400000\n",
       "50%        30.800000\n",
       "75%        33.000000\n",
       "max        47.900000\n",
       "Name: PCT_OBESE_ADULTS10, dtype: float64"
      ]
     },
     "execution_count": 8,
     "metadata": {},
     "output_type": "execute_result"
    }
   ],
   "source": [
    "# check the response variable distribution\n",
    "data['PCT_OBESE_ADULTS10'].describe()"
   ]
  },
  {
   "cell_type": "code",
   "execution_count": 9,
   "metadata": {},
   "outputs": [
    {
     "data": {
      "text/plain": [
       "Text(0.5, 1.0, 'Obesity Rates, %')"
      ]
     },
     "execution_count": 9,
     "metadata": {},
     "output_type": "execute_result"
    },
    {
     "data": {
      "image/png": "[encoded data removed]",
      "text/plain": [
       "<Figure size 432x288 with 1 Axes>"
      ]
     },
     "metadata": {
      "needs_background": "light"
     },
     "output_type": "display_data"
    }
   ],
   "source": [
    "plt.hist(data['PCT_OBESE_ADULTS10'],bins=50)\n",
    "plt.title('Obesity Rates, %', size = 14)"
   ]
  },
  {
   "cell_type": "code",
   "execution_count": 10,
   "metadata": {},
   "outputs": [
    {
     "name": "stdout",
     "output_type": "stream",
     "text": [
      "18.133667355374023\n",
      "43.02114844578008\n"
     ]
    }
   ],
   "source": [
    "# calculate bottom and top values for 3 STD from the mean for the outcome variable\n",
    "bottom_border=data['PCT_OBESE_ADULTS10'].mean()-3*data['PCT_OBESE_ADULTS10'].std()\n",
    "top_border=data['PCT_OBESE_ADULTS10'].mean()+3*data['PCT_OBESE_ADULTS10'].std()\n",
    "print (bottom_border)\n",
    "print (top_border)"
   ]
  },
  {
   "cell_type": "code",
   "execution_count": 11,
   "metadata": {},
   "outputs": [
    {
     "data": {
      "text/plain": [
       "FIPS\n",
       "8037     13.2\n",
       "8107     13.4\n",
       "35049    13.8\n",
       "8097     14.2\n",
       "8117     14.5\n",
       "8013     14.9\n",
       "6041     15.4\n",
       "8051     15.9\n",
       "8015     16.2\n",
       "8019     16.6\n",
       "8113     16.9\n",
       "8007     17.0\n",
       "36119    17.2\n",
       "8045     17.4\n",
       "30031    17.5\n",
       "8021     17.7\n",
       "25001    18.0\n",
       "28103    43.6\n",
       "1085     43.8\n",
       "28133    43.9\n",
       "38085    44.3\n",
       "28027    47.4\n",
       "1063     47.9\n",
       "Name: PCT_OBESE_ADULTS10, dtype: float64"
      ]
     },
     "execution_count": 11,
     "metadata": {},
     "output_type": "execute_result"
    }
   ],
   "source": [
    "outliers = data[(data['PCT_OBESE_ADULTS10']<bottom_border) | (data['PCT_OBESE_ADULTS10']>top_border)]['PCT_OBESE_ADULTS10'].sort_values()\n",
    "outliers"
   ]
  },
  {
   "cell_type": "markdown",
   "metadata": {},
   "source": [
    "### There are 23 rows with outliers in the outcome variable in the train data set"
   ]
  },
  {
   "cell_type": "code",
   "execution_count": 12,
   "metadata": {},
   "outputs": [
    {
     "data": {
      "text/html": [
       "<div>\n",
       "<style scoped>\n",
       "    .dataframe tbody tr th:only-of-type {\n",
       "        vertical-align: middle;\n",
       "    }\n",
       "\n",
       "    .dataframe tbody tr th {\n",
       "        vertical-align: top;\n",
       "    }\n",
       "\n",
       "    .dataframe thead th {\n",
       "        text-align: right;\n",
       "    }\n",
       "</style>\n",
       "<table border=\"1\" class=\"dataframe\">\n",
       "  <thead>\n",
       "    <tr style=\"text-align: right;\">\n",
       "      <th></th>\n",
       "      <th>PCT_LACCESS_POP10</th>\n",
       "      <th>PCT_LACCESS_LOWI10</th>\n",
       "      <th>PCT_LACCESS_CHILD10</th>\n",
       "      <th>PCT_LACCESS_SENIORS10</th>\n",
       "      <th>PCT_LACCESS_HHNV10</th>\n",
       "    </tr>\n",
       "  </thead>\n",
       "  <tbody>\n",
       "    <tr>\n",
       "      <th>PCT_LACCESS_POP10</th>\n",
       "      <td>1.000000</td>\n",
       "      <td>0.908437</td>\n",
       "      <td>0.965992</td>\n",
       "      <td>0.928583</td>\n",
       "      <td>0.034298</td>\n",
       "    </tr>\n",
       "    <tr>\n",
       "      <th>PCT_LACCESS_LOWI10</th>\n",
       "      <td>0.908437</td>\n",
       "      <td>1.000000</td>\n",
       "      <td>0.882470</td>\n",
       "      <td>0.852606</td>\n",
       "      <td>0.202966</td>\n",
       "    </tr>\n",
       "    <tr>\n",
       "      <th>PCT_LACCESS_CHILD10</th>\n",
       "      <td>0.965992</td>\n",
       "      <td>0.882470</td>\n",
       "      <td>1.000000</td>\n",
       "      <td>0.842699</td>\n",
       "      <td>0.017263</td>\n",
       "    </tr>\n",
       "    <tr>\n",
       "      <th>PCT_LACCESS_SENIORS10</th>\n",
       "      <td>0.928583</td>\n",
       "      <td>0.852606</td>\n",
       "      <td>0.842699</td>\n",
       "      <td>1.000000</td>\n",
       "      <td>0.045465</td>\n",
       "    </tr>\n",
       "    <tr>\n",
       "      <th>PCT_LACCESS_HHNV10</th>\n",
       "      <td>0.034298</td>\n",
       "      <td>0.202966</td>\n",
       "      <td>0.017263</td>\n",
       "      <td>0.045465</td>\n",
       "      <td>1.000000</td>\n",
       "    </tr>\n",
       "  </tbody>\n",
       "</table>\n",
       "</div>"
      ],
      "text/plain": [
       "                       PCT_LACCESS_POP10  PCT_LACCESS_LOWI10  \\\n",
       "PCT_LACCESS_POP10               1.000000            0.908437   \n",
       "PCT_LACCESS_LOWI10              0.908437            1.000000   \n",
       "PCT_LACCESS_CHILD10             0.965992            0.882470   \n",
       "PCT_LACCESS_SENIORS10           0.928583            0.852606   \n",
       "PCT_LACCESS_HHNV10              0.034298            0.202966   \n",
       "\n",
       "                       PCT_LACCESS_CHILD10  PCT_LACCESS_SENIORS10  \\\n",
       "PCT_LACCESS_POP10                 0.965992               0.928583   \n",
       "PCT_LACCESS_LOWI10                0.882470               0.852606   \n",
       "PCT_LACCESS_CHILD10               1.000000               0.842699   \n",
       "PCT_LACCESS_SENIORS10             0.842699               1.000000   \n",
       "PCT_LACCESS_HHNV10                0.017263               0.045465   \n",
       "\n",
       "                       PCT_LACCESS_HHNV10  \n",
       "PCT_LACCESS_POP10                0.034298  \n",
       "PCT_LACCESS_LOWI10               0.202966  \n",
       "PCT_LACCESS_CHILD10              0.017263  \n",
       "PCT_LACCESS_SENIORS10            0.045465  \n",
       "PCT_LACCESS_HHNV10               1.000000  "
      ]
     },
     "execution_count": 12,
     "metadata": {},
     "output_type": "execute_result"
    }
   ],
   "source": [
    "# Access and Proximity to Grocery Store variable\n",
    "data.iloc[:,:5].corr()"
   ]
  },
  {
   "cell_type": "markdown",
   "metadata": {},
   "source": [
    "#### All  'Access and Proximity' predictor variables with the exception of PCT_LACCESS_HHNV10 are highly correlated"
   ]
  },
  {
   "cell_type": "code",
   "execution_count": 13,
   "metadata": {},
   "outputs": [
    {
     "data": {
      "text/plain": [
       "Text(0.5, 1.0, 'Access to Stores')"
      ]
     },
     "execution_count": 13,
     "metadata": {},
     "output_type": "execute_result"
    },
    {
     "data": {
      "image/png": "[encoded data removed]",
      "text/plain": [
       "<Figure size 432x288 with 1 Axes>"
      ]
     },
     "metadata": {
      "needs_background": "light"
     },
     "output_type": "display_data"
    }
   ],
   "source": [
    "# create a scatter plot for two variables with high correlation\n",
    "plt.scatter(data.PCT_LACCESS_POP10, data.PCT_LACCESS_CHILD10)\n",
    "plt.xlabel('Population, low access to store (%), 2010',size = 14)\n",
    "plt.ylabel('Children, low access to store (%), 2010',size = 14)\n",
    "plt.title('Access to Stores', size=16)"
   ]
  },
  {
   "cell_type": "code",
   "execution_count": 14,
   "metadata": {},
   "outputs": [
    {
     "data": {
      "text/plain": [
       "Text(0, 0.5, 'Adult obesity rate (%)')"
      ]
     },
     "execution_count": 14,
     "metadata": {},
     "output_type": "execute_result"
    },
    {
     "data": {
      "image/png": "[encoded data removed]",
      "text/plain": [
       "<Figure size 432x288 with 1 Axes>"
      ]
     },
     "metadata": {
      "needs_background": "light"
     },
     "output_type": "display_data"
    }
   ],
   "source": [
    "plt.scatter(data.PCT_LACCESS_HHNV10, data.PCT_OBESE_ADULTS10)\n",
    "plt.xlabel('Households, no car & low access to store (%)', size = 14)\n",
    "plt.ylabel('Adult obesity rate (%)', size = 14)"
   ]
  },
  {
   "cell_type": "code",
   "execution_count": 15,
   "metadata": {},
   "outputs": [
    {
     "data": {
      "text/plain": [
       "PCT_OBESE_ADULTS10    1.000000\n",
       "PCT_FREE_LUNCH10      0.496426\n",
       "PCT_SNAP09            0.464713\n",
       "CHILDPOVRATE10        0.459830\n",
       "POVRATE10             0.452709\n",
       "PCT_NHBLACK10         0.411699\n",
       "Name: PCT_OBESE_ADULTS10, dtype: float64"
      ]
     },
     "execution_count": 15,
     "metadata": {},
     "output_type": "execute_result"
    }
   ],
   "source": [
    "# Run correlations with all variables\n",
    "# see the top 10 predicotrs (i.e. highest correlation with the outcome variable)\n",
    "\n",
    "corr = data.corr()\n",
    "corr['PCT_OBESE_ADULTS10'].sort_values(ascending=False).head(6)"
   ]
  },
  {
   "cell_type": "code",
   "execution_count": 16,
   "metadata": {},
   "outputs": [
    {
     "data": {
      "text/plain": [
       "Text(0, 0.5, 'Adult obesity rate (%)')"
      ]
     },
     "execution_count": 16,
     "metadata": {},
     "output_type": "execute_result"
    },
    {
     "data": {
      "image/png": "[encoded data removed]",
      "text/plain": [
       "<Figure size 432x288 with 1 Axes>"
      ]
     },
     "metadata": {
      "needs_background": "light"
     },
     "output_type": "display_data"
    }
   ],
   "source": [
    "# create scatterplot of the most correlated variable\n",
    "fit = np.polyfit(data.PCT_FREE_LUNCH10,data.PCT_OBESE_ADULTS10,1)\n",
    "fit_fn = np.poly1d(fit) \n",
    "\n",
    "plt.plot(data.PCT_FREE_LUNCH10,data.PCT_OBESE_ADULTS10, 'yo', data.PCT_FREE_LUNCH10, fit_fn(data.PCT_FREE_LUNCH10), '--k')\n",
    "plt.xlabel('Students eligible for free lunch (%), 2010', size=14)\n",
    "plt.ylabel('Adult obesity rate (%)', size=14)"
   ]
  },
  {
   "cell_type": "code",
   "execution_count": 17,
   "metadata": {},
   "outputs": [
    {
     "data": {
      "text/html": [
       "<div>\n",
       "<style scoped>\n",
       "    .dataframe tbody tr th:only-of-type {\n",
       "        vertical-align: middle;\n",
       "    }\n",
       "\n",
       "    .dataframe tbody tr th {\n",
       "        vertical-align: top;\n",
       "    }\n",
       "\n",
       "    .dataframe thead th {\n",
       "        text-align: right;\n",
       "    }\n",
       "</style>\n",
       "<table border=\"1\" class=\"dataframe\">\n",
       "  <thead>\n",
       "    <tr style=\"text-align: right;\">\n",
       "      <th></th>\n",
       "      <th>PCT_OBESE_ADULTS10</th>\n",
       "    </tr>\n",
       "    <tr>\n",
       "      <th>PERPOV10</th>\n",
       "      <th></th>\n",
       "    </tr>\n",
       "  </thead>\n",
       "  <tbody>\n",
       "    <tr>\n",
       "      <th>0</th>\n",
       "      <td>30.068082</td>\n",
       "    </tr>\n",
       "    <tr>\n",
       "      <th>1</th>\n",
       "      <td>34.639841</td>\n",
       "    </tr>\n",
       "  </tbody>\n",
       "</table>\n",
       "</div>"
      ],
      "text/plain": [
       "          PCT_OBESE_ADULTS10\n",
       "PERPOV10                    \n",
       "0                  30.068082\n",
       "1                  34.639841"
      ]
     },
     "execution_count": 17,
     "metadata": {},
     "output_type": "execute_result"
    }
   ],
   "source": [
    "# compute the average of obesity rate for Persistent-poverty counties predictor\n",
    "data.groupby(['PERPOV10'])[['PCT_OBESE_ADULTS10']].mean()"
   ]
  },
  {
   "cell_type": "code",
   "execution_count": 18,
   "metadata": {},
   "outputs": [
    {
     "data": {
      "text/html": [
       "<div>\n",
       "<style scoped>\n",
       "    .dataframe tbody tr th:only-of-type {\n",
       "        vertical-align: middle;\n",
       "    }\n",
       "\n",
       "    .dataframe tbody tr th {\n",
       "        vertical-align: top;\n",
       "    }\n",
       "\n",
       "    .dataframe thead th {\n",
       "        text-align: right;\n",
       "    }\n",
       "</style>\n",
       "<table border=\"1\" class=\"dataframe\">\n",
       "  <thead>\n",
       "    <tr style=\"text-align: right;\">\n",
       "      <th></th>\n",
       "      <th>PCT_OBESE_ADULTS10</th>\n",
       "    </tr>\n",
       "    <tr>\n",
       "      <th>PERCHLDPOV10</th>\n",
       "      <th></th>\n",
       "    </tr>\n",
       "  </thead>\n",
       "  <tbody>\n",
       "    <tr>\n",
       "      <th>0</th>\n",
       "      <td>29.791954</td>\n",
       "    </tr>\n",
       "    <tr>\n",
       "      <th>1</th>\n",
       "      <td>33.241520</td>\n",
       "    </tr>\n",
       "  </tbody>\n",
       "</table>\n",
       "</div>"
      ],
      "text/plain": [
       "              PCT_OBESE_ADULTS10\n",
       "PERCHLDPOV10                    \n",
       "0                      29.791954\n",
       "1                      33.241520"
      ]
     },
     "execution_count": 18,
     "metadata": {},
     "output_type": "execute_result"
    }
   ],
   "source": [
    "# compute the average of obesity rate for Persistent-child-poverty counties counties\n",
    "data.groupby(['PERCHLDPOV10'])[['PCT_OBESE_ADULTS10']].mean()"
   ]
  },
  {
   "cell_type": "code",
   "execution_count": 19,
   "metadata": {},
   "outputs": [
    {
     "data": {
      "text/html": [
       "<div>\n",
       "<style scoped>\n",
       "    .dataframe tbody tr th:only-of-type {\n",
       "        vertical-align: middle;\n",
       "    }\n",
       "\n",
       "    .dataframe tbody tr th {\n",
       "        vertical-align: top;\n",
       "    }\n",
       "\n",
       "    .dataframe thead th {\n",
       "        text-align: right;\n",
       "    }\n",
       "</style>\n",
       "<table border=\"1\" class=\"dataframe\">\n",
       "  <thead>\n",
       "    <tr style=\"text-align: right;\">\n",
       "      <th></th>\n",
       "      <th>PCT_LACCESS_POP10</th>\n",
       "      <th>PCT_LACCESS_LOWI10</th>\n",
       "      <th>PCT_LACCESS_CHILD10</th>\n",
       "      <th>PCT_LACCESS_SENIORS10</th>\n",
       "      <th>PCT_LACCESS_HHNV10</th>\n",
       "      <th>GROCPTH07</th>\n",
       "      <th>SUPERCPTH07</th>\n",
       "      <th>CONVSPTH07</th>\n",
       "      <th>SPECSPTH07</th>\n",
       "      <th>SNAPSPTH08</th>\n",
       "      <th>...</th>\n",
       "      <th>PCT_65OLDER10</th>\n",
       "      <th>PCT_18YOUNGER10</th>\n",
       "      <th>MEDHHINC10</th>\n",
       "      <th>POVRATE10</th>\n",
       "      <th>PERPOV10</th>\n",
       "      <th>CHILDPOVRATE10</th>\n",
       "      <th>PERCHLDPOV10</th>\n",
       "      <th>METRO13</th>\n",
       "      <th>POPLOSS00</th>\n",
       "      <th>PCT_OBESE_ADULTS10</th>\n",
       "    </tr>\n",
       "    <tr>\n",
       "      <th>FIPS</th>\n",
       "      <th></th>\n",
       "      <th></th>\n",
       "      <th></th>\n",
       "      <th></th>\n",
       "      <th></th>\n",
       "      <th></th>\n",
       "      <th></th>\n",
       "      <th></th>\n",
       "      <th></th>\n",
       "      <th></th>\n",
       "      <th></th>\n",
       "      <th></th>\n",
       "      <th></th>\n",
       "      <th></th>\n",
       "      <th></th>\n",
       "      <th></th>\n",
       "      <th></th>\n",
       "      <th></th>\n",
       "      <th></th>\n",
       "      <th></th>\n",
       "      <th></th>\n",
       "    </tr>\n",
       "  </thead>\n",
       "  <tbody>\n",
       "    <tr>\n",
       "      <th>17057</th>\n",
       "      <td>12.447050</td>\n",
       "      <td>3.967083</td>\n",
       "      <td>2.816930</td>\n",
       "      <td>2.249617</td>\n",
       "      <td>2.106049</td>\n",
       "      <td>0.190057</td>\n",
       "      <td>0.000000</td>\n",
       "      <td>0.950286</td>\n",
       "      <td>0.027151</td>\n",
       "      <td>0.719526</td>\n",
       "      <td>...</td>\n",
       "      <td>18.052820</td>\n",
       "      <td>20.915050</td>\n",
       "      <td>40749</td>\n",
       "      <td>14.5</td>\n",
       "      <td>0</td>\n",
       "      <td>19.4</td>\n",
       "      <td>0</td>\n",
       "      <td>0</td>\n",
       "      <td>0</td>\n",
       "      <td>30.3</td>\n",
       "    </tr>\n",
       "    <tr>\n",
       "      <th>19103</th>\n",
       "      <td>16.736065</td>\n",
       "      <td>3.717899</td>\n",
       "      <td>4.097261</td>\n",
       "      <td>1.784079</td>\n",
       "      <td>1.467352</td>\n",
       "      <td>0.207112</td>\n",
       "      <td>0.007966</td>\n",
       "      <td>1.011662</td>\n",
       "      <td>0.047795</td>\n",
       "      <td>0.317999</td>\n",
       "      <td>...</td>\n",
       "      <td>8.565731</td>\n",
       "      <td>19.802570</td>\n",
       "      <td>51014</td>\n",
       "      <td>17.0</td>\n",
       "      <td>0</td>\n",
       "      <td>12.5</td>\n",
       "      <td>0</td>\n",
       "      <td>1</td>\n",
       "      <td>0</td>\n",
       "      <td>24.0</td>\n",
       "    </tr>\n",
       "    <tr>\n",
       "      <th>5135</th>\n",
       "      <td>20.678178</td>\n",
       "      <td>8.833366</td>\n",
       "      <td>3.741109</td>\n",
       "      <td>6.442812</td>\n",
       "      <td>4.012840</td>\n",
       "      <td>0.225505</td>\n",
       "      <td>0.056376</td>\n",
       "      <td>1.353027</td>\n",
       "      <td>0.000000</td>\n",
       "      <td>0.612503</td>\n",
       "      <td>...</td>\n",
       "      <td>23.945783</td>\n",
       "      <td>21.530352</td>\n",
       "      <td>28933</td>\n",
       "      <td>25.1</td>\n",
       "      <td>0</td>\n",
       "      <td>39.3</td>\n",
       "      <td>1</td>\n",
       "      <td>0</td>\n",
       "      <td>0</td>\n",
       "      <td>30.3</td>\n",
       "    </tr>\n",
       "    <tr>\n",
       "      <th>29019</th>\n",
       "      <td>32.164619</td>\n",
       "      <td>11.618021</td>\n",
       "      <td>6.755868</td>\n",
       "      <td>2.513050</td>\n",
       "      <td>1.878729</td>\n",
       "      <td>0.144439</td>\n",
       "      <td>0.013131</td>\n",
       "      <td>1.030772</td>\n",
       "      <td>0.078785</td>\n",
       "      <td>0.366096</td>\n",
       "      <td>...</td>\n",
       "      <td>9.266979</td>\n",
       "      <td>21.059136</td>\n",
       "      <td>42202</td>\n",
       "      <td>18.8</td>\n",
       "      <td>0</td>\n",
       "      <td>16.6</td>\n",
       "      <td>0</td>\n",
       "      <td>1</td>\n",
       "      <td>0</td>\n",
       "      <td>25.7</td>\n",
       "    </tr>\n",
       "    <tr>\n",
       "      <th>38047</th>\n",
       "      <td>95.832377</td>\n",
       "      <td>31.416795</td>\n",
       "      <td>20.430822</td>\n",
       "      <td>27.035329</td>\n",
       "      <td>4.116095</td>\n",
       "      <td>0.512295</td>\n",
       "      <td>0.000000</td>\n",
       "      <td>2.049180</td>\n",
       "      <td>0.512295</td>\n",
       "      <td>0.519481</td>\n",
       "      <td>...</td>\n",
       "      <td>27.989950</td>\n",
       "      <td>21.105528</td>\n",
       "      <td>38380</td>\n",
       "      <td>14.4</td>\n",
       "      <td>0</td>\n",
       "      <td>19.4</td>\n",
       "      <td>0</td>\n",
       "      <td>0</td>\n",
       "      <td>1</td>\n",
       "      <td>34.8</td>\n",
       "    </tr>\n",
       "  </tbody>\n",
       "</table>\n",
       "<p>5 rows × 64 columns</p>\n",
       "</div>"
      ],
      "text/plain": [
       "       PCT_LACCESS_POP10  PCT_LACCESS_LOWI10  PCT_LACCESS_CHILD10  \\\n",
       "FIPS                                                                \n",
       "17057          12.447050            3.967083             2.816930   \n",
       "19103          16.736065            3.717899             4.097261   \n",
       "5135           20.678178            8.833366             3.741109   \n",
       "29019          32.164619           11.618021             6.755868   \n",
       "38047          95.832377           31.416795            20.430822   \n",
       "\n",
       "       PCT_LACCESS_SENIORS10  PCT_LACCESS_HHNV10  GROCPTH07  SUPERCPTH07  \\\n",
       "FIPS                                                                       \n",
       "17057               2.249617            2.106049   0.190057     0.000000   \n",
       "19103               1.784079            1.467352   0.207112     0.007966   \n",
       "5135                6.442812            4.012840   0.225505     0.056376   \n",
       "29019               2.513050            1.878729   0.144439     0.013131   \n",
       "38047              27.035329            4.116095   0.512295     0.000000   \n",
       "\n",
       "       CONVSPTH07  SPECSPTH07  SNAPSPTH08  ...  PCT_65OLDER10  \\\n",
       "FIPS                                       ...                  \n",
       "17057    0.950286    0.027151    0.719526  ...      18.052820   \n",
       "19103    1.011662    0.047795    0.317999  ...       8.565731   \n",
       "5135     1.353027    0.000000    0.612503  ...      23.945783   \n",
       "29019    1.030772    0.078785    0.366096  ...       9.266979   \n",
       "38047    2.049180    0.512295    0.519481  ...      27.989950   \n",
       "\n",
       "       PCT_18YOUNGER10  MEDHHINC10  POVRATE10  PERPOV10  CHILDPOVRATE10  \\\n",
       "FIPS                                                                      \n",
       "17057        20.915050       40749       14.5         0            19.4   \n",
       "19103        19.802570       51014       17.0         0            12.5   \n",
       "5135         21.530352       28933       25.1         0            39.3   \n",
       "29019        21.059136       42202       18.8         0            16.6   \n",
       "38047        21.105528       38380       14.4         0            19.4   \n",
       "\n",
       "       PERCHLDPOV10  METRO13  POPLOSS00  PCT_OBESE_ADULTS10  \n",
       "FIPS                                                         \n",
       "17057             0        0          0                30.3  \n",
       "19103             0        1          0                24.0  \n",
       "5135              1        0          0                30.3  \n",
       "29019             0        1          0                25.7  \n",
       "38047             0        0          1                34.8  \n",
       "\n",
       "[5 rows x 64 columns]"
      ]
     },
     "execution_count": 19,
     "metadata": {},
     "output_type": "execute_result"
    }
   ],
   "source": [
    "data.head()"
   ]
  },
  {
   "cell_type": "markdown",
   "metadata": {},
   "source": [
    "## Check for multicollinearity\n"
   ]
  },
  {
   "cell_type": "code",
   "execution_count": 20,
   "metadata": {},
   "outputs": [],
   "source": [
    "corr=data.iloc[:,:-1].corr()"
   ]
  },
  {
   "cell_type": "code",
   "execution_count": 21,
   "metadata": {},
   "outputs": [
    {
     "data": {
      "text/html": [
       "<div>\n",
       "<style scoped>\n",
       "    .dataframe tbody tr th:only-of-type {\n",
       "        vertical-align: middle;\n",
       "    }\n",
       "\n",
       "    .dataframe tbody tr th {\n",
       "        vertical-align: top;\n",
       "    }\n",
       "\n",
       "    .dataframe thead th {\n",
       "        text-align: right;\n",
       "    }\n",
       "</style>\n",
       "<table border=\"1\" class=\"dataframe\">\n",
       "  <thead>\n",
       "    <tr style=\"text-align: right;\">\n",
       "      <th></th>\n",
       "      <th>feature</th>\n",
       "      <th>epigen_value</th>\n",
       "    </tr>\n",
       "  </thead>\n",
       "  <tbody>\n",
       "    <tr>\n",
       "      <th>0</th>\n",
       "      <td>PCT_LACCESS_POP10</td>\n",
       "      <td>9.618749</td>\n",
       "    </tr>\n",
       "    <tr>\n",
       "      <th>1</th>\n",
       "      <td>PCT_LACCESS_LOWI10</td>\n",
       "      <td>6.861235</td>\n",
       "    </tr>\n",
       "    <tr>\n",
       "      <th>2</th>\n",
       "      <td>PCT_LACCESS_CHILD10</td>\n",
       "      <td>4.867373</td>\n",
       "    </tr>\n",
       "    <tr>\n",
       "      <th>3</th>\n",
       "      <td>PCT_LACCESS_SENIORS10</td>\n",
       "      <td>3.634000</td>\n",
       "    </tr>\n",
       "    <tr>\n",
       "      <th>4</th>\n",
       "      <td>PCT_LACCESS_HHNV10</td>\n",
       "      <td>2.764372</td>\n",
       "    </tr>\n",
       "    <tr>\n",
       "      <th>...</th>\n",
       "      <td>...</td>\n",
       "      <td>...</td>\n",
       "    </tr>\n",
       "    <tr>\n",
       "      <th>58</th>\n",
       "      <td>PERPOV10</td>\n",
       "      <td>0.303745</td>\n",
       "    </tr>\n",
       "    <tr>\n",
       "      <th>59</th>\n",
       "      <td>CHILDPOVRATE10</td>\n",
       "      <td>0.323831</td>\n",
       "    </tr>\n",
       "    <tr>\n",
       "      <th>60</th>\n",
       "      <td>PERCHLDPOV10</td>\n",
       "      <td>0.337743</td>\n",
       "    </tr>\n",
       "    <tr>\n",
       "      <th>61</th>\n",
       "      <td>METRO13</td>\n",
       "      <td>0.346907</td>\n",
       "    </tr>\n",
       "    <tr>\n",
       "      <th>62</th>\n",
       "      <td>POPLOSS00</td>\n",
       "      <td>0.359855</td>\n",
       "    </tr>\n",
       "  </tbody>\n",
       "</table>\n",
       "<p>63 rows × 2 columns</p>\n",
       "</div>"
      ],
      "text/plain": [
       "                  feature  epigen_value\n",
       "0       PCT_LACCESS_POP10      9.618749\n",
       "1      PCT_LACCESS_LOWI10      6.861235\n",
       "2     PCT_LACCESS_CHILD10      4.867373\n",
       "3   PCT_LACCESS_SENIORS10      3.634000\n",
       "4      PCT_LACCESS_HHNV10      2.764372\n",
       "..                    ...           ...\n",
       "58               PERPOV10      0.303745\n",
       "59         CHILDPOVRATE10      0.323831\n",
       "60           PERCHLDPOV10      0.337743\n",
       "61                METRO13      0.346907\n",
       "62              POPLOSS00      0.359855\n",
       "\n",
       "[63 rows x 2 columns]"
      ]
     },
     "execution_count": 21,
     "metadata": {},
     "output_type": "execute_result"
    }
   ],
   "source": [
    "# get eigen values for predictor variables\n",
    "w, v = np.linalg.eig(corr)\n",
    "eigen_val=pd.DataFrame({'feature':corr.columns,'epigen_value':w})\n",
    "eigen_val"
   ]
  },
  {
   "cell_type": "code",
   "execution_count": 22,
   "metadata": {},
   "outputs": [],
   "source": [
    "# get predictors with eigen values close to zero\n",
    "low_eigen = eigen_val[eigen_val.epigen_value < 0.01]"
   ]
  },
  {
   "cell_type": "code",
   "execution_count": 23,
   "metadata": {},
   "outputs": [
    {
     "data": {
      "text/html": [
       "<div>\n",
       "<style scoped>\n",
       "    .dataframe tbody tr th:only-of-type {\n",
       "        vertical-align: middle;\n",
       "    }\n",
       "\n",
       "    .dataframe tbody tr th {\n",
       "        vertical-align: top;\n",
       "    }\n",
       "\n",
       "    .dataframe thead th {\n",
       "        text-align: right;\n",
       "    }\n",
       "</style>\n",
       "<table border=\"1\" class=\"dataframe\">\n",
       "  <thead>\n",
       "    <tr style=\"text-align: right;\">\n",
       "      <th></th>\n",
       "      <th>feature</th>\n",
       "      <th>epigen_value</th>\n",
       "    </tr>\n",
       "  </thead>\n",
       "  <tbody>\n",
       "    <tr>\n",
       "      <th>25</th>\n",
       "      <td>PCT_SBP09</td>\n",
       "      <td>0.000562</td>\n",
       "    </tr>\n",
       "    <tr>\n",
       "      <th>26</th>\n",
       "      <td>PCT_SFSP09</td>\n",
       "      <td>0.001560</td>\n",
       "    </tr>\n",
       "    <tr>\n",
       "      <th>27</th>\n",
       "      <td>PCT_WIC09</td>\n",
       "      <td>0.007699</td>\n",
       "    </tr>\n",
       "  </tbody>\n",
       "</table>\n",
       "</div>"
      ],
      "text/plain": [
       "       feature  epigen_value\n",
       "25   PCT_SBP09      0.000562\n",
       "26  PCT_SFSP09      0.001560\n",
       "27   PCT_WIC09      0.007699"
      ]
     },
     "execution_count": 23,
     "metadata": {},
     "output_type": "execute_result"
    }
   ],
   "source": [
    "low_eigen "
   ]
  },
  {
   "cell_type": "code",
   "execution_count": 24,
   "metadata": {},
   "outputs": [
    {
     "data": {
      "text/html": [
       "<div>\n",
       "<style scoped>\n",
       "    .dataframe tbody tr th:only-of-type {\n",
       "        vertical-align: middle;\n",
       "    }\n",
       "\n",
       "    .dataframe tbody tr th {\n",
       "        vertical-align: top;\n",
       "    }\n",
       "\n",
       "    .dataframe thead th {\n",
       "        text-align: right;\n",
       "    }\n",
       "</style>\n",
       "<table border=\"1\" class=\"dataframe\">\n",
       "  <thead>\n",
       "    <tr style=\"text-align: right;\">\n",
       "      <th></th>\n",
       "      <th>Feature</th>\n",
       "      <th>PCT_SBP09</th>\n",
       "      <th>PCT_SFSP09</th>\n",
       "      <th>PCT_WIC09</th>\n",
       "    </tr>\n",
       "  </thead>\n",
       "  <tbody>\n",
       "    <tr>\n",
       "      <th>0</th>\n",
       "      <td>PCT_LACCESS_POP10</td>\n",
       "      <td>-0.009215</td>\n",
       "      <td>-0.003063</td>\n",
       "      <td>0.800440</td>\n",
       "    </tr>\n",
       "    <tr>\n",
       "      <th>1</th>\n",
       "      <td>PCT_LACCESS_LOWI10</td>\n",
       "      <td>0.002483</td>\n",
       "      <td>-0.004091</td>\n",
       "      <td>-0.046247</td>\n",
       "    </tr>\n",
       "    <tr>\n",
       "      <th>2</th>\n",
       "      <td>PCT_LACCESS_CHILD10</td>\n",
       "      <td>0.002910</td>\n",
       "      <td>0.006473</td>\n",
       "      <td>-0.489472</td>\n",
       "    </tr>\n",
       "    <tr>\n",
       "      <th>3</th>\n",
       "      <td>PCT_LACCESS_SENIORS10</td>\n",
       "      <td>0.001815</td>\n",
       "      <td>-0.001399</td>\n",
       "      <td>-0.311843</td>\n",
       "    </tr>\n",
       "    <tr>\n",
       "      <th>4</th>\n",
       "      <td>PCT_LACCESS_HHNV10</td>\n",
       "      <td>0.003949</td>\n",
       "      <td>0.002466</td>\n",
       "      <td>-0.004536</td>\n",
       "    </tr>\n",
       "  </tbody>\n",
       "</table>\n",
       "</div>"
      ],
      "text/plain": [
       "                 Feature  PCT_SBP09  PCT_SFSP09  PCT_WIC09\n",
       "0      PCT_LACCESS_POP10  -0.009215   -0.003063   0.800440\n",
       "1     PCT_LACCESS_LOWI10   0.002483   -0.004091  -0.046247\n",
       "2    PCT_LACCESS_CHILD10   0.002910    0.006473  -0.489472\n",
       "3  PCT_LACCESS_SENIORS10   0.001815   -0.001399  -0.311843\n",
       "4     PCT_LACCESS_HHNV10   0.003949    0.002466  -0.004536"
      ]
     },
     "execution_count": 24,
     "metadata": {},
     "output_type": "execute_result"
    }
   ],
   "source": [
    "# Get vecors for features with eigen values close to zero\n",
    "columns=data.columns.values[:-1]\n",
    "\n",
    "vectors = pd.DataFrame({'Feature':columns})\n",
    "\n",
    "for i in low_eigen.feature.values:\n",
    "    index = low_eigen[low_eigen.feature == i].index\n",
    "    vectors[i]=v[:,index]\n",
    "vectors.head()"
   ]
  },
  {
   "cell_type": "code",
   "execution_count": 25,
   "metadata": {},
   "outputs": [],
   "source": [
    "# get features with eigen vectors that are NOT close to zero (i.e. strongly correlated with each other)\n",
    "vectors.iloc[:,1:]=vectors.iloc[:,1:].abs()"
   ]
  },
  {
   "cell_type": "code",
   "execution_count": 26,
   "metadata": {},
   "outputs": [
    {
     "name": "stdout",
     "output_type": "stream",
     "text": [
      "              Feature  PCT_SBP09\n",
      "15         PCT_SNAP09   0.012875\n",
      "22         PCT_NSLP09   0.020085\n",
      "25          PCT_SBP09   0.023164\n",
      "29    FOODINSEC_07_09   0.017457\n",
      "30    VLFOODSEC_07_09   0.016663\n",
      "32       MILK_PRICE10   0.016374\n",
      "33       SODA_PRICE10   0.010165\n",
      "34  MILK_SODA_PRICE10   0.017982\n",
      "48      PCT_NHWHITE10   0.685627\n",
      "49      PCT_NHBLACK10   0.504695\n",
      "50         PCT_HISP10   0.465546\n",
      "51      PCT_NHASIAN10   0.078198\n",
      "52         PCT_NHNA10   0.221595\n",
      "XXX\n",
      "                  Feature  PCT_SFSP09\n",
      "12               FSRPTH07    0.011004\n",
      "13          PC_FFRSALES07    0.023562\n",
      "14          PC_FSRSALES07    0.019566\n",
      "16       SNAP_PART_RATE10    0.014434\n",
      "21    SNAP_REPORTSIMPLE10    0.010075\n",
      "22             PCT_NSLP09    0.024869\n",
      "25              PCT_SBP09    0.013373\n",
      "27              PCT_WIC09    0.013641\n",
      "28            PCT_CACFP09    0.012205\n",
      "29        FOODINSEC_07_09    0.027119\n",
      "31  FOODINSEC_CHILD_01_07    0.021195\n",
      "32           MILK_PRICE10    0.644886\n",
      "33           SODA_PRICE10    0.283242\n",
      "34      MILK_SODA_PRICE10    0.706146\n",
      "48          PCT_NHWHITE10    0.021731\n",
      "50             PCT_HISP10    0.014717\n",
      "XXX\n",
      "                  Feature  PCT_WIC09\n",
      "0       PCT_LACCESS_POP10   0.800440\n",
      "1      PCT_LACCESS_LOWI10   0.046247\n",
      "2     PCT_LACCESS_CHILD10   0.489472\n",
      "3   PCT_LACCESS_SENIORS10   0.311843\n",
      "7              CONVSPTH07   0.018533\n",
      "12               FSRPTH07   0.019433\n",
      "15             PCT_SNAP09   0.011497\n",
      "22             PCT_NSLP09   0.013467\n",
      "25              PCT_SBP09   0.013033\n",
      "27              PCT_WIC09   0.021710\n",
      "29        FOODINSEC_07_09   0.022677\n",
      "31  FOODINSEC_CHILD_01_07   0.020095\n",
      "49          PCT_NHBLACK10   0.010845\n",
      "50             PCT_HISP10   0.011722\n",
      "54          PCT_65OLDER10   0.081348\n",
      "55        PCT_18YOUNGER10   0.093166\n",
      "57              POVRATE10   0.033529\n",
      "59         CHILDPOVRATE10   0.017116\n",
      "XXX\n"
     ]
    }
   ],
   "source": [
    "# For each vector print features that have high collinearity\n",
    "d={}\n",
    "for i in range(1,len(vectors.columns)):\n",
    "    d['collinear{0}'.format(i)] = vectors[vectors.iloc[:,i]>0.01].iloc[:,[0,i]]\n",
    "    print (vectors[vectors.iloc[:,i]>0.01].iloc[:,[0,i]])\n",
    "    print (\"XXX\")"
   ]
  },
  {
   "cell_type": "code",
   "execution_count": 27,
   "metadata": {},
   "outputs": [
    {
     "data": {
      "text/html": [
       "<div>\n",
       "<style scoped>\n",
       "    .dataframe tbody tr th:only-of-type {\n",
       "        vertical-align: middle;\n",
       "    }\n",
       "\n",
       "    .dataframe tbody tr th {\n",
       "        vertical-align: top;\n",
       "    }\n",
       "\n",
       "    .dataframe thead th {\n",
       "        text-align: right;\n",
       "    }\n",
       "</style>\n",
       "<table border=\"1\" class=\"dataframe\">\n",
       "  <thead>\n",
       "    <tr style=\"text-align: right;\">\n",
       "      <th></th>\n",
       "      <th>Feature</th>\n",
       "      <th>PCT_SBP09</th>\n",
       "    </tr>\n",
       "  </thead>\n",
       "  <tbody>\n",
       "    <tr>\n",
       "      <th>15</th>\n",
       "      <td>PCT_SNAP09</td>\n",
       "      <td>0.012875</td>\n",
       "    </tr>\n",
       "    <tr>\n",
       "      <th>22</th>\n",
       "      <td>PCT_NSLP09</td>\n",
       "      <td>0.020085</td>\n",
       "    </tr>\n",
       "    <tr>\n",
       "      <th>25</th>\n",
       "      <td>PCT_SBP09</td>\n",
       "      <td>0.023164</td>\n",
       "    </tr>\n",
       "    <tr>\n",
       "      <th>29</th>\n",
       "      <td>FOODINSEC_07_09</td>\n",
       "      <td>0.017457</td>\n",
       "    </tr>\n",
       "    <tr>\n",
       "      <th>30</th>\n",
       "      <td>VLFOODSEC_07_09</td>\n",
       "      <td>0.016663</td>\n",
       "    </tr>\n",
       "  </tbody>\n",
       "</table>\n",
       "</div>"
      ],
      "text/plain": [
       "            Feature  PCT_SBP09\n",
       "15       PCT_SNAP09   0.012875\n",
       "22       PCT_NSLP09   0.020085\n",
       "25        PCT_SBP09   0.023164\n",
       "29  FOODINSEC_07_09   0.017457\n",
       "30  VLFOODSEC_07_09   0.016663"
      ]
     },
     "execution_count": 27,
     "metadata": {},
     "output_type": "execute_result"
    }
   ],
   "source": [
    "# Collinear variables can be tested to identify the best predictor and drop the rest of them\n",
    "d['collinear1'].head()"
   ]
  },
  {
   "cell_type": "markdown",
   "metadata": {},
   "source": [
    "### Summary"
   ]
  },
  {
   "cell_type": "markdown",
   "metadata": {},
   "source": [
    "- **Records with the response variable = NULL were removed from the dataset**"
   ]
  },
  {
   "cell_type": "markdown",
   "metadata": {},
   "source": [
    "- **Numerical columns that contained string values were converted to foat and string values were converted to NULLs**"
   ]
  },
  {
   "cell_type": "markdown",
   "metadata": {},
   "source": [
    "- **Response variable (\"Obesity rate\") follows the normal distribution. Outliers are present on both bottom and top end of the value range of thee standard deviations**"
   ]
  },
  {
   "cell_type": "markdown",
   "metadata": {},
   "source": [
    "- **Many predicor variables have outliers: *need to check if removing outliers will improve model preformace**"
   ]
  },
  {
   "cell_type": "markdown",
   "metadata": {},
   "source": [
    "- **Some of the predictor variables are highly correlated**"
   ]
  },
  {
   "cell_type": "markdown",
   "metadata": {},
   "source": [
    "- **Multicollinearity test (using eigenvalues and eigenvectors) returned sets of collinear variables: *test and remove collinear features**"
   ]
  },
  {
   "cell_type": "markdown",
   "metadata": {},
   "source": [
    "### Initial findings"
   ]
  },
  {
   "cell_type": "markdown",
   "metadata": {},
   "source": [
    "- **Counties with high poverty rates have ~5% higher obesity rates than counties with lower poverty rates as was stated in the hypothesis**"
   ]
  },
  {
   "cell_type": "markdown",
   "metadata": {},
   "source": [
    "- **Percent of students in a County eligible for free lunch had the strongest correlation with a predictor variable**"
   ]
  },
  {
   "cell_type": "markdown",
   "metadata": {},
   "source": [
    "# Modeling"
   ]
  },
  {
   "cell_type": "markdown",
   "metadata": {},
   "source": [
    "### Benchmark:"
   ]
  },
  {
   "cell_type": "code",
   "execution_count": 28,
   "metadata": {},
   "outputs": [
    {
     "name": "stdout",
     "output_type": "stream",
     "text": [
      "Performance benchmark MSE = 17.197550\n"
     ]
    }
   ],
   "source": [
    "# Set a benchmark for linear regression model - MSE\n",
    "y_mean = data['PCT_OBESE_ADULTS10'].mean()\n",
    "MSE_benchmark = ((data['PCT_OBESE_ADULTS10'] - y_mean)**2).mean()\n",
    "print(\"Performance benchmark MSE = %f\" %(MSE_benchmark))"
   ]
  },
  {
   "cell_type": "code",
   "execution_count": 29,
   "metadata": {},
   "outputs": [],
   "source": [
    "# convert columns with type 'object' info float and coers invalid values to NaN\n",
    "data_test[['MEDHHINC10','POVRATE10','CHILDPOVRATE10',\n",
    "      'POPLOSS00']]=data_test[['MEDHHINC10',\n",
    "                          'POVRATE10','CHILDPOVRATE10','POPLOSS00']].apply(lambda x: pd.to_numeric(x, errors='coerce'))"
   ]
  },
  {
   "cell_type": "code",
   "execution_count": 30,
   "metadata": {},
   "outputs": [],
   "source": [
    "#drop rows with NULL values in predictor variable\n",
    "data_test.dropna(subset=['PCT_OBESE_ADULTS10'],inplace=True)"
   ]
  },
  {
   "cell_type": "code",
   "execution_count": 31,
   "metadata": {},
   "outputs": [],
   "source": [
    "# Fill zero instead of NULL values \n",
    "data_test.fillna(value=0,inplace=True)"
   ]
  },
  {
   "cell_type": "code",
   "execution_count": 32,
   "metadata": {},
   "outputs": [],
   "source": [
    "# set a list of features for the model \n",
    "feature_cols = list(data.columns.values)[:-1]\n",
    "X_train = data[feature_cols]\n",
    "y_train = data['PCT_OBESE_ADULTS10']\n",
    "\n",
    "X_test = data_test[feature_cols]\n",
    "y_test = data_test['PCT_OBESE_ADULTS10']"
   ]
  },
  {
   "cell_type": "code",
   "execution_count": 33,
   "metadata": {},
   "outputs": [
    {
     "name": "stdout",
     "output_type": "stream",
     "text": [
      "2253\n",
      "784\n"
     ]
    }
   ],
   "source": [
    "print (len(X_train))\n",
    "print (len(X_test))"
   ]
  },
  {
   "cell_type": "markdown",
   "metadata": {},
   "source": [
    "## Build a Random Forest Model to identify feature importance"
   ]
  },
  {
   "cell_type": "code",
   "execution_count": 34,
   "metadata": {},
   "outputs": [
    {
     "data": {
      "text/plain": [
       "RandomForestRegressor()"
      ]
     },
     "execution_count": 34,
     "metadata": {},
     "output_type": "execute_result"
    }
   ],
   "source": [
    "from sklearn.ensemble import RandomForestRegressor\n",
    "from sklearn.metrics import r2_score\n",
    "\n",
    "model = RandomForestRegressor(n_estimators = 100)\n",
    "\n",
    "model.fit(X_train,y_train)"
   ]
  },
  {
   "cell_type": "code",
   "execution_count": 35,
   "metadata": {},
   "outputs": [
    {
     "name": "stdout",
     "output_type": "stream",
     "text": [
      "Features sorted by their Importance score:\n"
     ]
    },
    {
     "data": {
      "text/html": [
       "<div>\n",
       "<style scoped>\n",
       "    .dataframe tbody tr th:only-of-type {\n",
       "        vertical-align: middle;\n",
       "    }\n",
       "\n",
       "    .dataframe tbody tr th {\n",
       "        vertical-align: top;\n",
       "    }\n",
       "\n",
       "    .dataframe thead th {\n",
       "        text-align: right;\n",
       "    }\n",
       "</style>\n",
       "<table border=\"1\" class=\"dataframe\">\n",
       "  <thead>\n",
       "    <tr style=\"text-align: right;\">\n",
       "      <th></th>\n",
       "      <th>Features</th>\n",
       "      <th>Importance Score</th>\n",
       "    </tr>\n",
       "  </thead>\n",
       "  <tbody>\n",
       "    <tr>\n",
       "      <th>15</th>\n",
       "      <td>PCT_SNAP09</td>\n",
       "      <td>0.1292</td>\n",
       "    </tr>\n",
       "    <tr>\n",
       "      <th>23</th>\n",
       "      <td>PCT_FREE_LUNCH10</td>\n",
       "      <td>0.0985</td>\n",
       "    </tr>\n",
       "    <tr>\n",
       "      <th>47</th>\n",
       "      <td>NATAMEN</td>\n",
       "      <td>0.0880</td>\n",
       "    </tr>\n",
       "    <tr>\n",
       "      <th>49</th>\n",
       "      <td>PCT_NHBLACK10</td>\n",
       "      <td>0.0696</td>\n",
       "    </tr>\n",
       "    <tr>\n",
       "      <th>14</th>\n",
       "      <td>PC_FSRSALES07</td>\n",
       "      <td>0.0652</td>\n",
       "    </tr>\n",
       "    <tr>\n",
       "      <th>51</th>\n",
       "      <td>PCT_NHASIAN10</td>\n",
       "      <td>0.0460</td>\n",
       "    </tr>\n",
       "    <tr>\n",
       "      <th>22</th>\n",
       "      <td>PCT_NSLP09</td>\n",
       "      <td>0.0299</td>\n",
       "    </tr>\n",
       "    <tr>\n",
       "      <th>12</th>\n",
       "      <td>FSRPTH07</td>\n",
       "      <td>0.0272</td>\n",
       "    </tr>\n",
       "    <tr>\n",
       "      <th>9</th>\n",
       "      <td>SNAPSPTH08</td>\n",
       "      <td>0.0268</td>\n",
       "    </tr>\n",
       "    <tr>\n",
       "      <th>48</th>\n",
       "      <td>PCT_NHWHITE10</td>\n",
       "      <td>0.0199</td>\n",
       "    </tr>\n",
       "  </tbody>\n",
       "</table>\n",
       "</div>"
      ],
      "text/plain": [
       "            Features  Importance Score\n",
       "15        PCT_SNAP09            0.1292\n",
       "23  PCT_FREE_LUNCH10            0.0985\n",
       "47           NATAMEN            0.0880\n",
       "49     PCT_NHBLACK10            0.0696\n",
       "14     PC_FSRSALES07            0.0652\n",
       "51     PCT_NHASIAN10            0.0460\n",
       "22        PCT_NSLP09            0.0299\n",
       "12          FSRPTH07            0.0272\n",
       "9         SNAPSPTH08            0.0268\n",
       "48     PCT_NHWHITE10            0.0199"
      ]
     },
     "execution_count": 35,
     "metadata": {},
     "output_type": "execute_result"
    }
   ],
   "source": [
    "features = X_train.columns\n",
    "\n",
    "features_df = pd.DataFrame({'Features': features, 'Importance Score': model.feature_importances_.round(4)})\n",
    "features_df.sort_values('Importance Score', inplace=True, ascending=False)\n",
    "\n",
    "# crete a table with top 20 featueres\n",
    "top_20_rf = features_df['Features'].head(20)\n",
    "\n",
    "print (\"Features sorted by their Importance score:\")\n",
    "features_df.head(10)"
   ]
  },
  {
   "cell_type": "markdown",
   "metadata": {},
   "source": [
    "### Top Ten Predictors with the Highest Importance Score (Random Forest Model, n=estimators=100:)"
   ]
  },
  {
   "cell_type": "markdown",
   "metadata": {},
   "source": [
    "- Students eligible for free lunch (%), 2010\n",
    "- SNAP participants (% pop), 2009*\n",
    "- ERS natural amenity index, 1999\n",
    "- % Black, 2010\n",
    "- Expenditures per capita, restaurants ($), 2007*\n",
    "- National School Lunch Program participants (% pop), 2009*\n",
    "- % Asian, 2010\n",
    "- Full-service restaurants/1,000 pop, 2007\n",
    "- SNAP-authorized stores/1,000 pop, 2008\n",
    "- % White, 2010"
   ]
  },
  {
   "cell_type": "code",
   "execution_count": 36,
   "metadata": {},
   "outputs": [],
   "source": [
    "# 5 cross validation iterations\n",
    "from sklearn.model_selection import KFold,cross_val_score\n",
    "cv = KFold(n_splits=5,shuffle=True)"
   ]
  },
  {
   "cell_type": "code",
   "execution_count": 37,
   "metadata": {},
   "outputs": [
    {
     "name": "stdout",
     "output_type": "stream",
     "text": [
      "Random Forest MSE on the train set: 5.410264\n"
     ]
    }
   ],
   "source": [
    "score = -np.mean(cross_val_score(model, X_train, y_train, scoring='neg_mean_squared_error', cv=cv))\n",
    "print (\"Random Forest MSE on the train set: %f\" %(score))"
   ]
  },
  {
   "cell_type": "code",
   "execution_count": 38,
   "metadata": {},
   "outputs": [
    {
     "name": "stdout",
     "output_type": "stream",
     "text": [
      "R-squared = 0.709040\n"
     ]
    }
   ],
   "source": [
    "# check how close the data are to the fitted regression line \n",
    "r2 = r2_score(y_test, model.predict(X_test))\n",
    "print (\"R-squared = %f\" %(r2))"
   ]
  },
  {
   "cell_type": "code",
   "execution_count": 39,
   "metadata": {},
   "outputs": [
    {
     "data": {
      "text/plain": [
       "Text(0.5, 1.0, 'Obesity Rates, %')"
      ]
     },
     "execution_count": 39,
     "metadata": {},
     "output_type": "execute_result"
    },
    {
     "data": {
      "image/png": "[encoded data removed]",
      "text/plain": [
       "<Figure size 432x288 with 1 Axes>"
      ]
     },
     "metadata": {
      "needs_background": "light"
     },
     "output_type": "display_data"
    }
   ],
   "source": [
    "fit = np.polyfit(y_test,model.predict(X_test),1)\n",
    "fit_fn = np.poly1d(fit) \n",
    "\n",
    "# fit_fn is now a function which takes in x and returns an estimate for y\n",
    "\n",
    "plt.plot(y_test,model.predict(X_test), 'rd', y_test, fit_fn(y_test), '--k')\n",
    "plt.xlabel('Actual obesity rate, %')\n",
    "plt.ylabel('Predicted obesity rate, %')\n",
    "plt.title('Obesity Rates, %')"
   ]
  },
  {
   "cell_type": "code",
   "execution_count": 40,
   "metadata": {},
   "outputs": [],
   "source": [
    "from sklearn.metrics import mean_squared_error"
   ]
  },
  {
   "cell_type": "code",
   "execution_count": 41,
   "metadata": {},
   "outputs": [
    {
     "data": {
      "text/plain": [
       "5.587452076530613"
      ]
     },
     "execution_count": 41,
     "metadata": {},
     "output_type": "execute_result"
    }
   ],
   "source": [
    "# get MSE for test data set\n",
    "MSE_rf = mean_squared_error(y_test, model.predict(X_test))\n",
    "MSE_rf"
   ]
  },
  {
   "cell_type": "code",
   "execution_count": 42,
   "metadata": {},
   "outputs": [],
   "source": [
    "# Create performance score table to collect MSE resulrs for all tested models\n",
    "Performance = pd.DataFrame({'Model': 'Random Forest', 'n_features': len(X_test.columns),'MSE':MSE_rf},index=[1])\n",
    "Performance = Performance[['Model','n_features','MSE']]"
   ]
  },
  {
   "cell_type": "markdown",
   "metadata": {},
   "source": [
    "# Linear Regression Model"
   ]
  },
  {
   "cell_type": "markdown",
   "metadata": {},
   "source": [
    "## FOR LOOP for Linear Regression - feature testing "
   ]
  },
  {
   "cell_type": "code",
   "execution_count": 43,
   "metadata": {},
   "outputs": [],
   "source": [
    "from sklearn.linear_model import LinearRegression"
   ]
  },
  {
   "cell_type": "code",
   "execution_count": 44,
   "metadata": {},
   "outputs": [],
   "source": [
    "from sklearn.preprocessing import StandardScaler\n",
    "stdsc = StandardScaler()"
   ]
  },
  {
   "cell_type": "code",
   "execution_count": 45,
   "metadata": {},
   "outputs": [],
   "source": [
    "# loop through the features by adding one feature each step starting with feature with the highest importance score (RF)\n",
    "\n",
    "features = features_df.Features.values\n",
    "\n",
    "feature_cols=[]\n",
    "scores = []\n",
    "\n",
    "y_train = data['PCT_OBESE_ADULTS10']\n",
    "y_test = data_test['PCT_OBESE_ADULTS10']\n",
    "\n",
    "for i in features:\n",
    "    feature_cols.append(i)\n",
    "    \n",
    "    X_train=data[feature_cols]\n",
    "    X_test=data_test[feature_cols]\n",
    "\n",
    "    X_train_std = stdsc.fit_transform(X_train)\n",
    "    X_test_std = stdsc.transform(X_test)\n",
    "    \n",
    "    lr = LinearRegression()\n",
    "    lr.fit(X_train_std, y_train)\n",
    "    \n",
    "    score = -np.mean(cross_val_score(lr, X_train_std, y_train, scoring='neg_mean_squared_error', cv=cv))\n",
    "    scores.append(score)"
   ]
  },
  {
   "cell_type": "code",
   "execution_count": 46,
   "metadata": {},
   "outputs": [],
   "source": [
    "scores = pd.DataFrame(scores, index=range(1,len(features)+1),columns=[\"MSE\"])\n",
    "scores.index.name = 'N of Features'"
   ]
  },
  {
   "cell_type": "code",
   "execution_count": 47,
   "metadata": {},
   "outputs": [
    {
     "data": {
      "text/plain": [
       "Text(0, 0.5, 'MSE')"
      ]
     },
     "execution_count": 47,
     "metadata": {},
     "output_type": "execute_result"
    },
    {
     "data": {
      "image/png": "[encoded data removed]",
      "text/plain": [
       "<Figure size 432x288 with 1 Axes>"
      ]
     },
     "metadata": {
      "needs_background": "light"
     },
     "output_type": "display_data"
    }
   ],
   "source": [
    "plt.plot(scores.index, scores.MSE)\n",
    "plt.xlabel('N of Features', size = 14)\n",
    "plt.ylabel('MSE', size = 14)"
   ]
  },
  {
   "cell_type": "code",
   "execution_count": 48,
   "metadata": {},
   "outputs": [
    {
     "data": {
      "text/plain": [
       "11.291271137766596"
      ]
     },
     "execution_count": 48,
     "metadata": {},
     "output_type": "execute_result"
    }
   ],
   "source": [
    "MSE_lr_all = mean_squared_error(y_test, lr.predict(X_test_std))\n",
    "MSE_lr_all"
   ]
  },
  {
   "cell_type": "code",
   "execution_count": 49,
   "metadata": {},
   "outputs": [],
   "source": [
    "Performance.loc[-1] = ['Linear Regression _all_features', len(X_test.columns), MSE_lr_all]\n",
    "Performance.index = Performance.index + 1 "
   ]
  },
  {
   "cell_type": "code",
   "execution_count": 50,
   "metadata": {},
   "outputs": [
    {
     "data": {
      "text/html": [
       "<div>\n",
       "<style scoped>\n",
       "    .dataframe tbody tr th:only-of-type {\n",
       "        vertical-align: middle;\n",
       "    }\n",
       "\n",
       "    .dataframe tbody tr th {\n",
       "        vertical-align: top;\n",
       "    }\n",
       "\n",
       "    .dataframe thead th {\n",
       "        text-align: right;\n",
       "    }\n",
       "</style>\n",
       "<table border=\"1\" class=\"dataframe\">\n",
       "  <thead>\n",
       "    <tr style=\"text-align: right;\">\n",
       "      <th></th>\n",
       "      <th>Model</th>\n",
       "      <th>n_features</th>\n",
       "      <th>MSE</th>\n",
       "    </tr>\n",
       "  </thead>\n",
       "  <tbody>\n",
       "    <tr>\n",
       "      <th>2</th>\n",
       "      <td>Random Forest</td>\n",
       "      <td>63</td>\n",
       "      <td>5.587452</td>\n",
       "    </tr>\n",
       "    <tr>\n",
       "      <th>0</th>\n",
       "      <td>Linear Regression _all_features</td>\n",
       "      <td>63</td>\n",
       "      <td>11.291271</td>\n",
       "    </tr>\n",
       "  </tbody>\n",
       "</table>\n",
       "</div>"
      ],
      "text/plain": [
       "                             Model  n_features        MSE\n",
       "2                    Random Forest          63   5.587452\n",
       "0  Linear Regression _all_features          63  11.291271"
      ]
     },
     "execution_count": 50,
     "metadata": {},
     "output_type": "execute_result"
    }
   ],
   "source": [
    "Performance"
   ]
  },
  {
   "cell_type": "code",
   "execution_count": 51,
   "metadata": {},
   "outputs": [
    {
     "data": {
      "text/plain": [
       "Text(0.5, 1.0, 'Obesity Rates, %')"
      ]
     },
     "execution_count": 51,
     "metadata": {},
     "output_type": "execute_result"
    },
    {
     "data": {
      "image/png": "[encoded data removed]",
      "text/plain": [
       "<Figure size 432x288 with 1 Axes>"
      ]
     },
     "metadata": {
      "needs_background": "light"
     },
     "output_type": "display_data"
    }
   ],
   "source": [
    "fit = np.polyfit(y_test,lr.predict(X_test_std),1)\n",
    "fit_fn = np.poly1d(fit) \n",
    "\n",
    "plt.plot(y_test,lr.predict(X_test_std), 'rd', y_test, fit_fn(y_test), '--k')\n",
    "plt.xlabel('Actual obesity rate, %')\n",
    "plt.ylabel('Predicted obesity rate, %')\n",
    "plt.title('Obesity Rates, %')"
   ]
  },
  {
   "cell_type": "markdown",
   "metadata": {},
   "source": [
    "## Linear regression with top 80% features from Random Forest"
   ]
  },
  {
   "cell_type": "code",
   "execution_count": 52,
   "metadata": {},
   "outputs": [
    {
     "data": {
      "text/html": [
       "<div>\n",
       "<style scoped>\n",
       "    .dataframe tbody tr th:only-of-type {\n",
       "        vertical-align: middle;\n",
       "    }\n",
       "\n",
       "    .dataframe tbody tr th {\n",
       "        vertical-align: top;\n",
       "    }\n",
       "\n",
       "    .dataframe thead th {\n",
       "        text-align: right;\n",
       "    }\n",
       "</style>\n",
       "<table border=\"1\" class=\"dataframe\">\n",
       "  <thead>\n",
       "    <tr style=\"text-align: right;\">\n",
       "      <th></th>\n",
       "      <th>Features</th>\n",
       "      <th>Importance Score</th>\n",
       "      <th>Running Sum</th>\n",
       "    </tr>\n",
       "  </thead>\n",
       "  <tbody>\n",
       "    <tr>\n",
       "      <th>15</th>\n",
       "      <td>PCT_SNAP09</td>\n",
       "      <td>0.1292</td>\n",
       "      <td>0.1292</td>\n",
       "    </tr>\n",
       "    <tr>\n",
       "      <th>23</th>\n",
       "      <td>PCT_FREE_LUNCH10</td>\n",
       "      <td>0.0985</td>\n",
       "      <td>0.2277</td>\n",
       "    </tr>\n",
       "    <tr>\n",
       "      <th>47</th>\n",
       "      <td>NATAMEN</td>\n",
       "      <td>0.0880</td>\n",
       "      <td>0.3157</td>\n",
       "    </tr>\n",
       "    <tr>\n",
       "      <th>49</th>\n",
       "      <td>PCT_NHBLACK10</td>\n",
       "      <td>0.0696</td>\n",
       "      <td>0.3853</td>\n",
       "    </tr>\n",
       "    <tr>\n",
       "      <th>14</th>\n",
       "      <td>PC_FSRSALES07</td>\n",
       "      <td>0.0652</td>\n",
       "      <td>0.4505</td>\n",
       "    </tr>\n",
       "    <tr>\n",
       "      <th>51</th>\n",
       "      <td>PCT_NHASIAN10</td>\n",
       "      <td>0.0460</td>\n",
       "      <td>0.4965</td>\n",
       "    </tr>\n",
       "    <tr>\n",
       "      <th>22</th>\n",
       "      <td>PCT_NSLP09</td>\n",
       "      <td>0.0299</td>\n",
       "      <td>0.5264</td>\n",
       "    </tr>\n",
       "    <tr>\n",
       "      <th>12</th>\n",
       "      <td>FSRPTH07</td>\n",
       "      <td>0.0272</td>\n",
       "      <td>0.5536</td>\n",
       "    </tr>\n",
       "    <tr>\n",
       "      <th>9</th>\n",
       "      <td>SNAPSPTH08</td>\n",
       "      <td>0.0268</td>\n",
       "      <td>0.5804</td>\n",
       "    </tr>\n",
       "    <tr>\n",
       "      <th>48</th>\n",
       "      <td>PCT_NHWHITE10</td>\n",
       "      <td>0.0199</td>\n",
       "      <td>0.6003</td>\n",
       "    </tr>\n",
       "    <tr>\n",
       "      <th>56</th>\n",
       "      <td>MEDHHINC10</td>\n",
       "      <td>0.0189</td>\n",
       "      <td>0.6192</td>\n",
       "    </tr>\n",
       "    <tr>\n",
       "      <th>35</th>\n",
       "      <td>PCT_LOCLFARM07</td>\n",
       "      <td>0.0188</td>\n",
       "      <td>0.6380</td>\n",
       "    </tr>\n",
       "    <tr>\n",
       "      <th>13</th>\n",
       "      <td>PC_FFRSALES07</td>\n",
       "      <td>0.0174</td>\n",
       "      <td>0.6554</td>\n",
       "    </tr>\n",
       "    <tr>\n",
       "      <th>52</th>\n",
       "      <td>PCT_NHNA10</td>\n",
       "      <td>0.0171</td>\n",
       "      <td>0.6725</td>\n",
       "    </tr>\n",
       "    <tr>\n",
       "      <th>50</th>\n",
       "      <td>PCT_HISP10</td>\n",
       "      <td>0.0163</td>\n",
       "      <td>0.6888</td>\n",
       "    </tr>\n",
       "    <tr>\n",
       "      <th>4</th>\n",
       "      <td>PCT_LACCESS_HHNV10</td>\n",
       "      <td>0.0162</td>\n",
       "      <td>0.7050</td>\n",
       "    </tr>\n",
       "    <tr>\n",
       "      <th>55</th>\n",
       "      <td>PCT_18YOUNGER10</td>\n",
       "      <td>0.0151</td>\n",
       "      <td>0.7201</td>\n",
       "    </tr>\n",
       "    <tr>\n",
       "      <th>7</th>\n",
       "      <td>CONVSPTH07</td>\n",
       "      <td>0.0145</td>\n",
       "      <td>0.7346</td>\n",
       "    </tr>\n",
       "    <tr>\n",
       "      <th>11</th>\n",
       "      <td>FFRPTH07</td>\n",
       "      <td>0.0138</td>\n",
       "      <td>0.7484</td>\n",
       "    </tr>\n",
       "    <tr>\n",
       "      <th>26</th>\n",
       "      <td>PCT_SFSP09</td>\n",
       "      <td>0.0133</td>\n",
       "      <td>0.7617</td>\n",
       "    </tr>\n",
       "    <tr>\n",
       "      <th>25</th>\n",
       "      <td>PCT_SBP09</td>\n",
       "      <td>0.0133</td>\n",
       "      <td>0.7750</td>\n",
       "    </tr>\n",
       "    <tr>\n",
       "      <th>46</th>\n",
       "      <td>RECFACPTH07</td>\n",
       "      <td>0.0127</td>\n",
       "      <td>0.7877</td>\n",
       "    </tr>\n",
       "    <tr>\n",
       "      <th>57</th>\n",
       "      <td>POVRATE10</td>\n",
       "      <td>0.0121</td>\n",
       "      <td>0.7998</td>\n",
       "    </tr>\n",
       "  </tbody>\n",
       "</table>\n",
       "</div>"
      ],
      "text/plain": [
       "              Features  Importance Score  Running Sum\n",
       "15          PCT_SNAP09            0.1292       0.1292\n",
       "23    PCT_FREE_LUNCH10            0.0985       0.2277\n",
       "47             NATAMEN            0.0880       0.3157\n",
       "49       PCT_NHBLACK10            0.0696       0.3853\n",
       "14       PC_FSRSALES07            0.0652       0.4505\n",
       "51       PCT_NHASIAN10            0.0460       0.4965\n",
       "22          PCT_NSLP09            0.0299       0.5264\n",
       "12            FSRPTH07            0.0272       0.5536\n",
       "9           SNAPSPTH08            0.0268       0.5804\n",
       "48       PCT_NHWHITE10            0.0199       0.6003\n",
       "56          MEDHHINC10            0.0189       0.6192\n",
       "35      PCT_LOCLFARM07            0.0188       0.6380\n",
       "13       PC_FFRSALES07            0.0174       0.6554\n",
       "52          PCT_NHNA10            0.0171       0.6725\n",
       "50          PCT_HISP10            0.0163       0.6888\n",
       "4   PCT_LACCESS_HHNV10            0.0162       0.7050\n",
       "55     PCT_18YOUNGER10            0.0151       0.7201\n",
       "7           CONVSPTH07            0.0145       0.7346\n",
       "11            FFRPTH07            0.0138       0.7484\n",
       "26          PCT_SFSP09            0.0133       0.7617\n",
       "25           PCT_SBP09            0.0133       0.7750\n",
       "46         RECFACPTH07            0.0127       0.7877\n",
       "57           POVRATE10            0.0121       0.7998"
      ]
     },
     "execution_count": 52,
     "metadata": {},
     "output_type": "execute_result"
    }
   ],
   "source": [
    "# Take top 80% of features from Random Forest model by Importance Score\n",
    "\n",
    "features_df['Running Sum']= features_df['Importance Score'].cumsum()\n",
    "\n",
    "top_80pct_rf = features_df[features_df['Running Sum']<=0.8]\n",
    "top_80pct_rf"
   ]
  },
  {
   "cell_type": "code",
   "execution_count": 53,
   "metadata": {},
   "outputs": [
    {
     "name": "stdout",
     "output_type": "stream",
     "text": [
      "Top 80 percent of features represent 23 features\n"
     ]
    }
   ],
   "source": [
    "print (\"Top 80 percent of features represent %d features\" %(len(top_80pct_rf)))"
   ]
  },
  {
   "cell_type": "code",
   "execution_count": 54,
   "metadata": {},
   "outputs": [
    {
     "data": {
      "text/plain": [
       "array(['PCT_SNAP09', 'PCT_FREE_LUNCH10', 'NATAMEN', 'PCT_NHBLACK10',\n",
       "       'PC_FSRSALES07', 'PCT_NHASIAN10', 'PCT_NSLP09', 'FSRPTH07',\n",
       "       'SNAPSPTH08', 'PCT_NHWHITE10', 'MEDHHINC10', 'PCT_LOCLFARM07',\n",
       "       'PC_FFRSALES07', 'PCT_NHNA10', 'PCT_HISP10', 'PCT_LACCESS_HHNV10',\n",
       "       'PCT_18YOUNGER10', 'CONVSPTH07', 'FFRPTH07', 'PCT_SFSP09',\n",
       "       'PCT_SBP09', 'RECFACPTH07', 'POVRATE10'], dtype=object)"
      ]
     },
     "execution_count": 54,
     "metadata": {},
     "output_type": "execute_result"
    }
   ],
   "source": [
    "feature_cols = top_80pct_rf.Features.values\n",
    "feature_cols"
   ]
  },
  {
   "cell_type": "code",
   "execution_count": 55,
   "metadata": {},
   "outputs": [],
   "source": [
    "# set a list of features for top 80% of features for Linear Regression model \n",
    "feature_cols = top_80pct_rf.Features.values\n",
    "\n",
    "X_train = data[feature_cols]\n",
    "X_test = data_test[feature_cols]"
   ]
  },
  {
   "cell_type": "code",
   "execution_count": 56,
   "metadata": {},
   "outputs": [],
   "source": [
    "from sklearn.preprocessing import StandardScaler\n",
    "stdsc = StandardScaler()\n",
    "\n",
    "# transform training and test features\n",
    "X_train_std = stdsc.fit_transform(X_train)\n",
    "X_test_std = stdsc.transform(X_test)"
   ]
  },
  {
   "cell_type": "code",
   "execution_count": 57,
   "metadata": {},
   "outputs": [],
   "source": [
    "lr = LinearRegression()"
   ]
  },
  {
   "cell_type": "code",
   "execution_count": 58,
   "metadata": {},
   "outputs": [
    {
     "data": {
      "text/plain": [
       "LinearRegression()"
      ]
     },
     "execution_count": 58,
     "metadata": {},
     "output_type": "execute_result"
    }
   ],
   "source": [
    "lr.fit(X_train_std, y_train)"
   ]
  },
  {
   "cell_type": "code",
   "execution_count": 59,
   "metadata": {},
   "outputs": [
    {
     "data": {
      "text/html": [
       "<div>\n",
       "<style scoped>\n",
       "    .dataframe tbody tr th:only-of-type {\n",
       "        vertical-align: middle;\n",
       "    }\n",
       "\n",
       "    .dataframe tbody tr th {\n",
       "        vertical-align: top;\n",
       "    }\n",
       "\n",
       "    .dataframe thead th {\n",
       "        text-align: right;\n",
       "    }\n",
       "</style>\n",
       "<table border=\"1\" class=\"dataframe\">\n",
       "  <thead>\n",
       "    <tr style=\"text-align: right;\">\n",
       "      <th></th>\n",
       "      <th>features</th>\n",
       "      <th>coefs</th>\n",
       "    </tr>\n",
       "  </thead>\n",
       "  <tbody>\n",
       "    <tr>\n",
       "      <th>9</th>\n",
       "      <td>PCT_NHWHITE10</td>\n",
       "      <td>-5.311834</td>\n",
       "    </tr>\n",
       "    <tr>\n",
       "      <th>14</th>\n",
       "      <td>PCT_HISP10</td>\n",
       "      <td>-3.964666</td>\n",
       "    </tr>\n",
       "    <tr>\n",
       "      <th>3</th>\n",
       "      <td>PCT_NHBLACK10</td>\n",
       "      <td>-2.974288</td>\n",
       "    </tr>\n",
       "    <tr>\n",
       "      <th>13</th>\n",
       "      <td>PCT_NHNA10</td>\n",
       "      <td>-1.311271</td>\n",
       "    </tr>\n",
       "    <tr>\n",
       "      <th>7</th>\n",
       "      <td>FSRPTH07</td>\n",
       "      <td>-1.290828</td>\n",
       "    </tr>\n",
       "    <tr>\n",
       "      <th>5</th>\n",
       "      <td>PCT_NHASIAN10</td>\n",
       "      <td>-1.037938</td>\n",
       "    </tr>\n",
       "    <tr>\n",
       "      <th>2</th>\n",
       "      <td>NATAMEN</td>\n",
       "      <td>-0.736371</td>\n",
       "    </tr>\n",
       "    <tr>\n",
       "      <th>10</th>\n",
       "      <td>MEDHHINC10</td>\n",
       "      <td>-0.724758</td>\n",
       "    </tr>\n",
       "    <tr>\n",
       "      <th>20</th>\n",
       "      <td>PCT_SBP09</td>\n",
       "      <td>-0.594931</td>\n",
       "    </tr>\n",
       "    <tr>\n",
       "      <th>4</th>\n",
       "      <td>PC_FSRSALES07</td>\n",
       "      <td>-0.554699</td>\n",
       "    </tr>\n",
       "    <tr>\n",
       "      <th>11</th>\n",
       "      <td>PCT_LOCLFARM07</td>\n",
       "      <td>-0.424340</td>\n",
       "    </tr>\n",
       "    <tr>\n",
       "      <th>22</th>\n",
       "      <td>POVRATE10</td>\n",
       "      <td>-0.305800</td>\n",
       "    </tr>\n",
       "    <tr>\n",
       "      <th>18</th>\n",
       "      <td>FFRPTH07</td>\n",
       "      <td>-0.205273</td>\n",
       "    </tr>\n",
       "    <tr>\n",
       "      <th>21</th>\n",
       "      <td>RECFACPTH07</td>\n",
       "      <td>-0.121808</td>\n",
       "    </tr>\n",
       "    <tr>\n",
       "      <th>19</th>\n",
       "      <td>PCT_SFSP09</td>\n",
       "      <td>-0.087465</td>\n",
       "    </tr>\n",
       "    <tr>\n",
       "      <th>12</th>\n",
       "      <td>PC_FFRSALES07</td>\n",
       "      <td>-0.085580</td>\n",
       "    </tr>\n",
       "    <tr>\n",
       "      <th>15</th>\n",
       "      <td>PCT_LACCESS_HHNV10</td>\n",
       "      <td>0.172528</td>\n",
       "    </tr>\n",
       "    <tr>\n",
       "      <th>8</th>\n",
       "      <td>SNAPSPTH08</td>\n",
       "      <td>0.213118</td>\n",
       "    </tr>\n",
       "    <tr>\n",
       "      <th>6</th>\n",
       "      <td>PCT_NSLP09</td>\n",
       "      <td>0.318530</td>\n",
       "    </tr>\n",
       "    <tr>\n",
       "      <th>16</th>\n",
       "      <td>PCT_18YOUNGER10</td>\n",
       "      <td>0.484343</td>\n",
       "    </tr>\n",
       "    <tr>\n",
       "      <th>1</th>\n",
       "      <td>PCT_FREE_LUNCH10</td>\n",
       "      <td>0.517675</td>\n",
       "    </tr>\n",
       "    <tr>\n",
       "      <th>17</th>\n",
       "      <td>CONVSPTH07</td>\n",
       "      <td>0.757170</td>\n",
       "    </tr>\n",
       "    <tr>\n",
       "      <th>0</th>\n",
       "      <td>PCT_SNAP09</td>\n",
       "      <td>0.914294</td>\n",
       "    </tr>\n",
       "  </tbody>\n",
       "</table>\n",
       "</div>"
      ],
      "text/plain": [
       "              features     coefs\n",
       "9        PCT_NHWHITE10 -5.311834\n",
       "14          PCT_HISP10 -3.964666\n",
       "3        PCT_NHBLACK10 -2.974288\n",
       "13          PCT_NHNA10 -1.311271\n",
       "7             FSRPTH07 -1.290828\n",
       "5        PCT_NHASIAN10 -1.037938\n",
       "2              NATAMEN -0.736371\n",
       "10          MEDHHINC10 -0.724758\n",
       "20           PCT_SBP09 -0.594931\n",
       "4        PC_FSRSALES07 -0.554699\n",
       "11      PCT_LOCLFARM07 -0.424340\n",
       "22           POVRATE10 -0.305800\n",
       "18            FFRPTH07 -0.205273\n",
       "21         RECFACPTH07 -0.121808\n",
       "19          PCT_SFSP09 -0.087465\n",
       "12       PC_FFRSALES07 -0.085580\n",
       "15  PCT_LACCESS_HHNV10  0.172528\n",
       "8           SNAPSPTH08  0.213118\n",
       "6           PCT_NSLP09  0.318530\n",
       "16     PCT_18YOUNGER10  0.484343\n",
       "1     PCT_FREE_LUNCH10  0.517675\n",
       "17          CONVSPTH07  0.757170\n",
       "0           PCT_SNAP09  0.914294"
      ]
     },
     "execution_count": 59,
     "metadata": {},
     "output_type": "execute_result"
    }
   ],
   "source": [
    "pd.DataFrame(zip(X_train.columns, lr.coef_), columns=['features', 'coefs']).sort_values('coefs')"
   ]
  },
  {
   "cell_type": "code",
   "execution_count": 60,
   "metadata": {},
   "outputs": [
    {
     "name": "stdout",
     "output_type": "stream",
     "text": [
      "Linear Regression MSE score on a train set: 6.532550\n"
     ]
    }
   ],
   "source": [
    "MSE_lr = -np.mean(cross_val_score(lr, X_train_std, y_train, scoring='neg_mean_squared_error', cv=cv))\n",
    "print (\"Linear Regression MSE score on a train set: %f\" %(MSE_lr))"
   ]
  },
  {
   "cell_type": "code",
   "execution_count": 61,
   "metadata": {},
   "outputs": [
    {
     "name": "stdout",
     "output_type": "stream",
     "text": [
      "R squared = 0.570756\n"
     ]
    }
   ],
   "source": [
    "r2 = lr.score(X_test_std,y_test)\n",
    "print (\"R squared = %f\" %(r2))"
   ]
  },
  {
   "cell_type": "code",
   "execution_count": 62,
   "metadata": {},
   "outputs": [
    {
     "name": "stdout",
     "output_type": "stream",
     "text": [
      "Linear Regression MSE score on a test set: 9.120051\n"
     ]
    }
   ],
   "source": [
    "MSE_lr = -np.mean(cross_val_score(lr, X_test_std, y_test, scoring='neg_mean_squared_error', cv=cv))\n",
    "print (\"Linear Regression MSE score on a test set: %f\" %(MSE_lr))"
   ]
  },
  {
   "cell_type": "code",
   "execution_count": 63,
   "metadata": {},
   "outputs": [],
   "source": [
    "Performance.loc[-1] = ['Linear Regression', len(X_test.columns), MSE_lr]\n",
    "Performance.index = Performance.index + 1 "
   ]
  },
  {
   "cell_type": "code",
   "execution_count": 64,
   "metadata": {},
   "outputs": [
    {
     "data": {
      "text/plain": [
       "Text(0.5, 1.0, 'Obesity Rates, %')"
      ]
     },
     "execution_count": 64,
     "metadata": {},
     "output_type": "execute_result"
    },
    {
     "data": {
      "image/png": "[encoded data removed]",
      "text/plain": [
       "<Figure size 432x288 with 1 Axes>"
      ]
     },
     "metadata": {
      "needs_background": "light"
     },
     "output_type": "display_data"
    }
   ],
   "source": [
    "fit = np.polyfit(y_test,lr.predict(X_test_std),1)\n",
    "fit_fn = np.poly1d(fit) \n",
    "# fit_fn is now a function which takes in x and returns an estimate for y\n",
    "\n",
    "plt.plot(y_test,lr.predict(X_test_std), 'rd', y_test, fit_fn(y_test), '--k')\n",
    "plt.xlabel('Actual obesity rate, %')\n",
    "plt.ylabel('Predicted obesity rate, %')\n",
    "plt.title('Obesity Rates, %')"
   ]
  },
  {
   "cell_type": "markdown",
   "metadata": {},
   "source": [
    "# Linear Regression with Outliers Removed"
   ]
  },
  {
   "cell_type": "code",
   "execution_count": 65,
   "metadata": {},
   "outputs": [],
   "source": [
    "residuals = pd.DataFrame(X_train)\n",
    "residuals['Predicted Response'] = lr.predict(X_train_std)\n",
    "residuals['Actual Response'] = y_train\n",
    "residuals['Residual'] = lr.predict(X_train_std) - y_train"
   ]
  },
  {
   "cell_type": "code",
   "execution_count": 66,
   "metadata": {},
   "outputs": [
    {
     "data": {
      "text/html": [
       "<div>\n",
       "<style scoped>\n",
       "    .dataframe tbody tr th:only-of-type {\n",
       "        vertical-align: middle;\n",
       "    }\n",
       "\n",
       "    .dataframe tbody tr th {\n",
       "        vertical-align: top;\n",
       "    }\n",
       "\n",
       "    .dataframe thead th {\n",
       "        text-align: right;\n",
       "    }\n",
       "</style>\n",
       "<table border=\"1\" class=\"dataframe\">\n",
       "  <thead>\n",
       "    <tr style=\"text-align: right;\">\n",
       "      <th></th>\n",
       "      <th>PCT_SNAP09</th>\n",
       "      <th>PCT_FREE_LUNCH10</th>\n",
       "      <th>NATAMEN</th>\n",
       "      <th>PCT_NHBLACK10</th>\n",
       "      <th>PC_FSRSALES07</th>\n",
       "      <th>PCT_NHASIAN10</th>\n",
       "      <th>PCT_NSLP09</th>\n",
       "      <th>FSRPTH07</th>\n",
       "      <th>SNAPSPTH08</th>\n",
       "      <th>PCT_NHWHITE10</th>\n",
       "      <th>...</th>\n",
       "      <th>PCT_18YOUNGER10</th>\n",
       "      <th>CONVSPTH07</th>\n",
       "      <th>FFRPTH07</th>\n",
       "      <th>PCT_SFSP09</th>\n",
       "      <th>PCT_SBP09</th>\n",
       "      <th>RECFACPTH07</th>\n",
       "      <th>POVRATE10</th>\n",
       "      <th>Predicted Response</th>\n",
       "      <th>Actual Response</th>\n",
       "      <th>Residual</th>\n",
       "    </tr>\n",
       "    <tr>\n",
       "      <th>FIPS</th>\n",
       "      <th></th>\n",
       "      <th></th>\n",
       "      <th></th>\n",
       "      <th></th>\n",
       "      <th></th>\n",
       "      <th></th>\n",
       "      <th></th>\n",
       "      <th></th>\n",
       "      <th></th>\n",
       "      <th></th>\n",
       "      <th></th>\n",
       "      <th></th>\n",
       "      <th></th>\n",
       "      <th></th>\n",
       "      <th></th>\n",
       "      <th></th>\n",
       "      <th></th>\n",
       "      <th></th>\n",
       "      <th></th>\n",
       "      <th></th>\n",
       "      <th></th>\n",
       "    </tr>\n",
       "  </thead>\n",
       "  <tbody>\n",
       "    <tr>\n",
       "      <th>53015</th>\n",
       "      <td>11.422535</td>\n",
       "      <td>42.431590</td>\n",
       "      <td>5.0</td>\n",
       "      <td>0.558539</td>\n",
       "      <td>713.269544</td>\n",
       "      <td>1.437360</td>\n",
       "      <td>7.990853</td>\n",
       "      <td>0.646400</td>\n",
       "      <td>0.662320</td>\n",
       "      <td>85.758227</td>\n",
       "      <td>...</td>\n",
       "      <td>24.139244</td>\n",
       "      <td>0.805513</td>\n",
       "      <td>0.686178</td>\n",
       "      <td>0.622056</td>\n",
       "      <td>2.522735</td>\n",
       "      <td>0.069612</td>\n",
       "      <td>20.6</td>\n",
       "      <td>27.749701</td>\n",
       "      <td>36.7</td>\n",
       "      <td>-8.950299</td>\n",
       "    </tr>\n",
       "    <tr>\n",
       "      <th>53049</th>\n",
       "      <td>11.422535</td>\n",
       "      <td>41.253181</td>\n",
       "      <td>6.0</td>\n",
       "      <td>0.320268</td>\n",
       "      <td>713.269544</td>\n",
       "      <td>2.026769</td>\n",
       "      <td>7.990853</td>\n",
       "      <td>1.351477</td>\n",
       "      <td>0.913007</td>\n",
       "      <td>84.603250</td>\n",
       "      <td>...</td>\n",
       "      <td>17.915870</td>\n",
       "      <td>1.631093</td>\n",
       "      <td>1.211669</td>\n",
       "      <td>0.622056</td>\n",
       "      <td>2.522735</td>\n",
       "      <td>0.186411</td>\n",
       "      <td>17.9</td>\n",
       "      <td>26.611628</td>\n",
       "      <td>35.0</td>\n",
       "      <td>-8.388372</td>\n",
       "    </tr>\n",
       "    <tr>\n",
       "      <th>12125</th>\n",
       "      <td>10.531693</td>\n",
       "      <td>51.293292</td>\n",
       "      <td>4.0</td>\n",
       "      <td>21.828130</td>\n",
       "      <td>919.513104</td>\n",
       "      <td>0.205986</td>\n",
       "      <td>8.417276</td>\n",
       "      <td>0.203707</td>\n",
       "      <td>0.725365</td>\n",
       "      <td>71.599614</td>\n",
       "      <td>...</td>\n",
       "      <td>19.375603</td>\n",
       "      <td>0.271610</td>\n",
       "      <td>0.135805</td>\n",
       "      <td>0.689536</td>\n",
       "      <td>3.294967</td>\n",
       "      <td>0.000000</td>\n",
       "      <td>24.3</td>\n",
       "      <td>29.768513</td>\n",
       "      <td>38.0</td>\n",
       "      <td>-8.231487</td>\n",
       "    </tr>\n",
       "    <tr>\n",
       "      <th>24047</th>\n",
       "      <td>7.969081</td>\n",
       "      <td>35.408270</td>\n",
       "      <td>4.0</td>\n",
       "      <td>13.551910</td>\n",
       "      <td>728.913472</td>\n",
       "      <td>1.105842</td>\n",
       "      <td>7.590923</td>\n",
       "      <td>3.067796</td>\n",
       "      <td>0.449131</td>\n",
       "      <td>80.326117</td>\n",
       "      <td>...</td>\n",
       "      <td>18.313445</td>\n",
       "      <td>3.453810</td>\n",
       "      <td>1.889437</td>\n",
       "      <td>0.881467</td>\n",
       "      <td>2.707564</td>\n",
       "      <td>0.223482</td>\n",
       "      <td>10.6</td>\n",
       "      <td>24.090775</td>\n",
       "      <td>32.2</td>\n",
       "      <td>-8.109225</td>\n",
       "    </tr>\n",
       "    <tr>\n",
       "      <th>36119</th>\n",
       "      <td>11.886230</td>\n",
       "      <td>25.819735</td>\n",
       "      <td>4.0</td>\n",
       "      <td>13.337190</td>\n",
       "      <td>734.805659</td>\n",
       "      <td>5.386398</td>\n",
       "      <td>9.275093</td>\n",
       "      <td>0.955034</td>\n",
       "      <td>0.463765</td>\n",
       "      <td>57.375992</td>\n",
       "      <td>...</td>\n",
       "      <td>24.022429</td>\n",
       "      <td>1.030042</td>\n",
       "      <td>0.643380</td>\n",
       "      <td>2.234327</td>\n",
       "      <td>2.932285</td>\n",
       "      <td>0.197557</td>\n",
       "      <td>9.0</td>\n",
       "      <td>24.871071</td>\n",
       "      <td>17.2</td>\n",
       "      <td>7.671071</td>\n",
       "    </tr>\n",
       "    <tr>\n",
       "      <th>8037</th>\n",
       "      <td>6.350985</td>\n",
       "      <td>31.455399</td>\n",
       "      <td>5.0</td>\n",
       "      <td>0.465544</td>\n",
       "      <td>900.316210</td>\n",
       "      <td>0.990478</td>\n",
       "      <td>7.778858</td>\n",
       "      <td>2.392818</td>\n",
       "      <td>0.153790</td>\n",
       "      <td>67.254823</td>\n",
       "      <td>...</td>\n",
       "      <td>24.522482</td>\n",
       "      <td>2.412593</td>\n",
       "      <td>0.929442</td>\n",
       "      <td>0.254819</td>\n",
       "      <td>2.132226</td>\n",
       "      <td>0.158203</td>\n",
       "      <td>8.5</td>\n",
       "      <td>21.213847</td>\n",
       "      <td>13.2</td>\n",
       "      <td>8.013847</td>\n",
       "    </tr>\n",
       "    <tr>\n",
       "      <th>30031</th>\n",
       "      <td>9.482466</td>\n",
       "      <td>18.698098</td>\n",
       "      <td>5.0</td>\n",
       "      <td>0.309452</td>\n",
       "      <td>745.824351</td>\n",
       "      <td>1.129445</td>\n",
       "      <td>8.887485</td>\n",
       "      <td>1.225659</td>\n",
       "      <td>0.271864</td>\n",
       "      <td>93.332812</td>\n",
       "      <td>...</td>\n",
       "      <td>20.927686</td>\n",
       "      <td>1.225659</td>\n",
       "      <td>0.813288</td>\n",
       "      <td>0.688315</td>\n",
       "      <td>2.625055</td>\n",
       "      <td>0.137457</td>\n",
       "      <td>12.9</td>\n",
       "      <td>25.551088</td>\n",
       "      <td>17.5</td>\n",
       "      <td>8.051088</td>\n",
       "    </tr>\n",
       "    <tr>\n",
       "      <th>8021</th>\n",
       "      <td>6.350985</td>\n",
       "      <td>54.928704</td>\n",
       "      <td>6.0</td>\n",
       "      <td>0.145349</td>\n",
       "      <td>900.316210</td>\n",
       "      <td>0.218023</td>\n",
       "      <td>7.778858</td>\n",
       "      <td>0.374719</td>\n",
       "      <td>0.626566</td>\n",
       "      <td>41.799903</td>\n",
       "      <td>...</td>\n",
       "      <td>28.294574</td>\n",
       "      <td>0.374719</td>\n",
       "      <td>0.249813</td>\n",
       "      <td>0.254819</td>\n",
       "      <td>2.132226</td>\n",
       "      <td>0.000000</td>\n",
       "      <td>21.3</td>\n",
       "      <td>27.148071</td>\n",
       "      <td>17.7</td>\n",
       "      <td>9.448071</td>\n",
       "    </tr>\n",
       "    <tr>\n",
       "      <th>35049</th>\n",
       "      <td>14.483614</td>\n",
       "      <td>58.835500</td>\n",
       "      <td>5.0</td>\n",
       "      <td>0.656863</td>\n",
       "      <td>611.676120</td>\n",
       "      <td>1.088299</td>\n",
       "      <td>11.037727</td>\n",
       "      <td>1.143901</td>\n",
       "      <td>0.329064</td>\n",
       "      <td>43.900257</td>\n",
       "      <td>...</td>\n",
       "      <td>20.972463</td>\n",
       "      <td>1.143901</td>\n",
       "      <td>0.558001</td>\n",
       "      <td>2.156721</td>\n",
       "      <td>6.464342</td>\n",
       "      <td>0.118575</td>\n",
       "      <td>16.5</td>\n",
       "      <td>25.606071</td>\n",
       "      <td>13.8</td>\n",
       "      <td>11.806071</td>\n",
       "    </tr>\n",
       "  </tbody>\n",
       "</table>\n",
       "<p>9 rows × 26 columns</p>\n",
       "</div>"
      ],
      "text/plain": [
       "       PCT_SNAP09  PCT_FREE_LUNCH10  NATAMEN  PCT_NHBLACK10  PC_FSRSALES07  \\\n",
       "FIPS                                                                         \n",
       "53015   11.422535         42.431590      5.0       0.558539     713.269544   \n",
       "53049   11.422535         41.253181      6.0       0.320268     713.269544   \n",
       "12125   10.531693         51.293292      4.0      21.828130     919.513104   \n",
       "24047    7.969081         35.408270      4.0      13.551910     728.913472   \n",
       "36119   11.886230         25.819735      4.0      13.337190     734.805659   \n",
       "8037     6.350985         31.455399      5.0       0.465544     900.316210   \n",
       "30031    9.482466         18.698098      5.0       0.309452     745.824351   \n",
       "8021     6.350985         54.928704      6.0       0.145349     900.316210   \n",
       "35049   14.483614         58.835500      5.0       0.656863     611.676120   \n",
       "\n",
       "       PCT_NHASIAN10  PCT_NSLP09  FSRPTH07  SNAPSPTH08  PCT_NHWHITE10  ...  \\\n",
       "FIPS                                                                   ...   \n",
       "53015       1.437360    7.990853  0.646400    0.662320      85.758227  ...   \n",
       "53049       2.026769    7.990853  1.351477    0.913007      84.603250  ...   \n",
       "12125       0.205986    8.417276  0.203707    0.725365      71.599614  ...   \n",
       "24047       1.105842    7.590923  3.067796    0.449131      80.326117  ...   \n",
       "36119       5.386398    9.275093  0.955034    0.463765      57.375992  ...   \n",
       "8037        0.990478    7.778858  2.392818    0.153790      67.254823  ...   \n",
       "30031       1.129445    8.887485  1.225659    0.271864      93.332812  ...   \n",
       "8021        0.218023    7.778858  0.374719    0.626566      41.799903  ...   \n",
       "35049       1.088299   11.037727  1.143901    0.329064      43.900257  ...   \n",
       "\n",
       "       PCT_18YOUNGER10  CONVSPTH07  FFRPTH07  PCT_SFSP09  PCT_SBP09  \\\n",
       "FIPS                                                                  \n",
       "53015        24.139244    0.805513  0.686178    0.622056   2.522735   \n",
       "53049        17.915870    1.631093  1.211669    0.622056   2.522735   \n",
       "12125        19.375603    0.271610  0.135805    0.689536   3.294967   \n",
       "24047        18.313445    3.453810  1.889437    0.881467   2.707564   \n",
       "36119        24.022429    1.030042  0.643380    2.234327   2.932285   \n",
       "8037         24.522482    2.412593  0.929442    0.254819   2.132226   \n",
       "30031        20.927686    1.225659  0.813288    0.688315   2.625055   \n",
       "8021         28.294574    0.374719  0.249813    0.254819   2.132226   \n",
       "35049        20.972463    1.143901  0.558001    2.156721   6.464342   \n",
       "\n",
       "       RECFACPTH07  POVRATE10  Predicted Response  Actual Response   Residual  \n",
       "FIPS                                                                           \n",
       "53015     0.069612       20.6           27.749701             36.7  -8.950299  \n",
       "53049     0.186411       17.9           26.611628             35.0  -8.388372  \n",
       "12125     0.000000       24.3           29.768513             38.0  -8.231487  \n",
       "24047     0.223482       10.6           24.090775             32.2  -8.109225  \n",
       "36119     0.197557        9.0           24.871071             17.2   7.671071  \n",
       "8037      0.158203        8.5           21.213847             13.2   8.013847  \n",
       "30031     0.137457       12.9           25.551088             17.5   8.051088  \n",
       "8021      0.000000       21.3           27.148071             17.7   9.448071  \n",
       "35049     0.118575       16.5           25.606071             13.8  11.806071  \n",
       "\n",
       "[9 rows x 26 columns]"
      ]
     },
     "execution_count": 66,
     "metadata": {},
     "output_type": "execute_result"
    }
   ],
   "source": [
    "residuals[(residuals['Residual']>7.5) | (residuals['Residual']<-8)].sort_values('Residual')"
   ]
  },
  {
   "cell_type": "code",
   "execution_count": 67,
   "metadata": {},
   "outputs": [
    {
     "data": {
      "text/plain": [
       "(-15.0, 15.0)"
      ]
     },
     "execution_count": 67,
     "metadata": {},
     "output_type": "execute_result"
    },
    {
     "data": {
      "image/png": "[encoded data removed]",
      "text/plain": [
       "<Figure size 576x432 with 1 Axes>"
      ]
     },
     "metadata": {
      "needs_background": "light"
     },
     "output_type": "display_data"
    }
   ],
   "source": [
    "# create a resdidual plot to check for errors in the data\n",
    "plt.figure(figsize=(8,6))\n",
    "plt.scatter(lr.predict(X_train_std), lr.predict(X_train_std)-y_train, c='b', s=50, alpha=0.5, label='training')\n",
    "plt.scatter(lr.predict(X_test_std), lr.predict(X_test_std)-y_test, c='g',s=50, label='test')\n",
    "plt.legend(loc='upper left',prop={'size':16})\n",
    "plt.xlabel('Predicted Response')\n",
    "plt.ylabel('Residuals')\n",
    "plt.title('Residual Plot')\n",
    "plt.hlines(y = 0, xmin = 0, xmax = 50)\n",
    "plt.xlim(0,50)\n",
    "plt.ylim(-15,15)"
   ]
  },
  {
   "cell_type": "code",
   "execution_count": 68,
   "metadata": {},
   "outputs": [],
   "source": [
    "# Remove Response value outliers outside of the three STDs from the mean\n",
    "\n",
    "feature_cols = top_80pct_rf.Features.values\n",
    "X = data\n",
    "X_test = data_test[feature_cols]\n",
    "\n",
    "\n",
    "response_mean = y_train.mean()\n",
    "response_std = y_train.std()\n",
    "\n",
    "X = X[(X.PCT_OBESE_ADULTS10 >  (response_mean-3*response_std)) &\n",
    "      (X.PCT_OBESE_ADULTS10 <  (response_mean+3*response_std))]\n",
    "\n",
    "y_train = X['PCT_OBESE_ADULTS10']\n",
    "X_train = X[feature_cols]"
   ]
  },
  {
   "cell_type": "code",
   "execution_count": 69,
   "metadata": {},
   "outputs": [
    {
     "data": {
      "text/plain": [
       "2230"
      ]
     },
     "execution_count": 69,
     "metadata": {},
     "output_type": "execute_result"
    }
   ],
   "source": [
    "len(X_train)"
   ]
  },
  {
   "cell_type": "code",
   "execution_count": 70,
   "metadata": {},
   "outputs": [],
   "source": [
    "# transform training and test features\n",
    "\n",
    "X_train_std = stdsc.fit_transform(X_train)\n",
    "X_test_std = stdsc.transform(X_test)"
   ]
  },
  {
   "cell_type": "code",
   "execution_count": 71,
   "metadata": {},
   "outputs": [],
   "source": [
    "lr = LinearRegression()"
   ]
  },
  {
   "cell_type": "code",
   "execution_count": 72,
   "metadata": {},
   "outputs": [
    {
     "data": {
      "text/plain": [
       "LinearRegression()"
      ]
     },
     "execution_count": 72,
     "metadata": {},
     "output_type": "execute_result"
    }
   ],
   "source": [
    "lr.fit(X_train_std, y_train)"
   ]
  },
  {
   "cell_type": "code",
   "execution_count": 73,
   "metadata": {},
   "outputs": [
    {
     "data": {
      "text/plain": [
       "array([ 0.91686374,  0.53714296, -0.66749568, -3.03200497, -0.51338281,\n",
       "       -1.1065531 ,  0.29916532, -1.07264938,  0.18843324, -5.36805483,\n",
       "       -0.60064487, -0.4550996 , -0.08134462, -1.32361971, -3.99156163,\n",
       "        0.17416416,  0.43878705,  0.63504199, -0.18566402, -0.07907932,\n",
       "       -0.60207509, -0.08438334, -0.25819849])"
      ]
     },
     "execution_count": 73,
     "metadata": {},
     "output_type": "execute_result"
    }
   ],
   "source": [
    "lr.coef_"
   ]
  },
  {
   "cell_type": "code",
   "execution_count": 74,
   "metadata": {},
   "outputs": [
    {
     "name": "stdout",
     "output_type": "stream",
     "text": [
      "Linear Regression MSE score on a train set: 6.169952\n"
     ]
    }
   ],
   "source": [
    "MSE_lr = -np.mean(cross_val_score(lr, X_train_std, y_train, scoring='neg_mean_squared_error', cv=cv))\n",
    "print (\"Linear Regression MSE score on a train set: %f\" %(MSE_lr))"
   ]
  },
  {
   "cell_type": "code",
   "execution_count": 75,
   "metadata": {},
   "outputs": [],
   "source": [
    "Performance.loc[-1] = ['Linear Regression_no outliers', len(X_test.columns), MSE_lr]\n",
    "Performance.index = Performance.index + 1 "
   ]
  },
  {
   "cell_type": "code",
   "execution_count": 76,
   "metadata": {},
   "outputs": [
    {
     "data": {
      "text/plain": [
       "Text(0.5, 1.0, 'Obesity Rates, %')"
      ]
     },
     "execution_count": 76,
     "metadata": {},
     "output_type": "execute_result"
    },
    {
     "data": {
      "image/png": "[encoded data removed]",
      "text/plain": [
       "<Figure size 432x288 with 1 Axes>"
      ]
     },
     "metadata": {
      "needs_background": "light"
     },
     "output_type": "display_data"
    }
   ],
   "source": [
    "fit = np.polyfit(y_test,lr.predict(X_test_std),1)\n",
    "fit_fn = np.poly1d(fit) \n",
    "# fit_fn is now a function which takes in x and returns an estimate for y\n",
    "\n",
    "plt.plot(y_test,lr.predict(X_test_std), 'rd', y_test, fit_fn(y_test), '--k')\n",
    "plt.xlabel('Actual obesity rate, %')\n",
    "plt.ylabel('Predicted obesity rate, %')\n",
    "plt.title('Obesity Rates, %')"
   ]
  },
  {
   "cell_type": "markdown",
   "metadata": {},
   "source": [
    "# MSE with outliers removed produced the best result"
   ]
  },
  {
   "cell_type": "code",
   "execution_count": 77,
   "metadata": {},
   "outputs": [
    {
     "name": "stdout",
     "output_type": "stream",
     "text": [
      "30.57740790057705\n",
      "4.147913515067676\n"
     ]
    }
   ],
   "source": [
    "# rmove reponse variables outliers from data\n",
    "response_mean = data['PCT_OBESE_ADULTS10'].mean()\n",
    "response_std = data['PCT_OBESE_ADULTS10'].std()\n",
    "print (response_mean)\n",
    "print (response_std)"
   ]
  },
  {
   "cell_type": "code",
   "execution_count": 78,
   "metadata": {},
   "outputs": [],
   "source": [
    "# rmove reponse variables outliers from data\n",
    "data = data[(data.PCT_OBESE_ADULTS10 >  (response_mean-3*response_std)) &\n",
    "      (data.PCT_OBESE_ADULTS10 <  (response_mean+3*response_std))]"
   ]
  },
  {
   "cell_type": "code",
   "execution_count": 79,
   "metadata": {},
   "outputs": [],
   "source": [
    "# Get coefficients for collinear features"
   ]
  },
  {
   "cell_type": "code",
   "execution_count": 80,
   "metadata": {},
   "outputs": [
    {
     "data": {
      "text/html": [
       "<div>\n",
       "<style scoped>\n",
       "    .dataframe tbody tr th:only-of-type {\n",
       "        vertical-align: middle;\n",
       "    }\n",
       "\n",
       "    .dataframe tbody tr th {\n",
       "        vertical-align: top;\n",
       "    }\n",
       "\n",
       "    .dataframe thead th {\n",
       "        text-align: right;\n",
       "    }\n",
       "</style>\n",
       "<table border=\"1\" class=\"dataframe\">\n",
       "  <thead>\n",
       "    <tr style=\"text-align: right;\">\n",
       "      <th></th>\n",
       "      <th>Feature</th>\n",
       "      <th>PCT_SBP09</th>\n",
       "    </tr>\n",
       "  </thead>\n",
       "  <tbody>\n",
       "    <tr>\n",
       "      <th>15</th>\n",
       "      <td>PCT_SNAP09</td>\n",
       "      <td>0.012875</td>\n",
       "    </tr>\n",
       "    <tr>\n",
       "      <th>22</th>\n",
       "      <td>PCT_NSLP09</td>\n",
       "      <td>0.020085</td>\n",
       "    </tr>\n",
       "    <tr>\n",
       "      <th>25</th>\n",
       "      <td>PCT_SBP09</td>\n",
       "      <td>0.023164</td>\n",
       "    </tr>\n",
       "    <tr>\n",
       "      <th>29</th>\n",
       "      <td>FOODINSEC_07_09</td>\n",
       "      <td>0.017457</td>\n",
       "    </tr>\n",
       "    <tr>\n",
       "      <th>30</th>\n",
       "      <td>VLFOODSEC_07_09</td>\n",
       "      <td>0.016663</td>\n",
       "    </tr>\n",
       "    <tr>\n",
       "      <th>32</th>\n",
       "      <td>MILK_PRICE10</td>\n",
       "      <td>0.016374</td>\n",
       "    </tr>\n",
       "    <tr>\n",
       "      <th>33</th>\n",
       "      <td>SODA_PRICE10</td>\n",
       "      <td>0.010165</td>\n",
       "    </tr>\n",
       "    <tr>\n",
       "      <th>34</th>\n",
       "      <td>MILK_SODA_PRICE10</td>\n",
       "      <td>0.017982</td>\n",
       "    </tr>\n",
       "    <tr>\n",
       "      <th>48</th>\n",
       "      <td>PCT_NHWHITE10</td>\n",
       "      <td>0.685627</td>\n",
       "    </tr>\n",
       "    <tr>\n",
       "      <th>49</th>\n",
       "      <td>PCT_NHBLACK10</td>\n",
       "      <td>0.504695</td>\n",
       "    </tr>\n",
       "    <tr>\n",
       "      <th>50</th>\n",
       "      <td>PCT_HISP10</td>\n",
       "      <td>0.465546</td>\n",
       "    </tr>\n",
       "    <tr>\n",
       "      <th>51</th>\n",
       "      <td>PCT_NHASIAN10</td>\n",
       "      <td>0.078198</td>\n",
       "    </tr>\n",
       "    <tr>\n",
       "      <th>52</th>\n",
       "      <td>PCT_NHNA10</td>\n",
       "      <td>0.221595</td>\n",
       "    </tr>\n",
       "  </tbody>\n",
       "</table>\n",
       "</div>"
      ],
      "text/plain": [
       "              Feature  PCT_SBP09\n",
       "15         PCT_SNAP09   0.012875\n",
       "22         PCT_NSLP09   0.020085\n",
       "25          PCT_SBP09   0.023164\n",
       "29    FOODINSEC_07_09   0.017457\n",
       "30    VLFOODSEC_07_09   0.016663\n",
       "32       MILK_PRICE10   0.016374\n",
       "33       SODA_PRICE10   0.010165\n",
       "34  MILK_SODA_PRICE10   0.017982\n",
       "48      PCT_NHWHITE10   0.685627\n",
       "49      PCT_NHBLACK10   0.504695\n",
       "50         PCT_HISP10   0.465546\n",
       "51      PCT_NHASIAN10   0.078198\n",
       "52         PCT_NHNA10   0.221595"
      ]
     },
     "execution_count": 80,
     "metadata": {},
     "output_type": "execute_result"
    }
   ],
   "source": [
    "d['collinear1']"
   ]
  },
  {
   "cell_type": "code",
   "execution_count": 81,
   "metadata": {},
   "outputs": [],
   "source": [
    "# update response variables to put back outliers\n",
    "# y_train = data['PCT_OBESE_ADULTS10']\n",
    "# y_test = data_test['PCT_OBESE_ADULTS10']"
   ]
  },
  {
   "cell_type": "code",
   "execution_count": 82,
   "metadata": {},
   "outputs": [
    {
     "name": "stdout",
     "output_type": "stream",
     "text": [
      "Best feature from collinear set 1\n",
      "      Feature        MSE\n",
      "0  PCT_SNAP09  12.007324\n",
      "------------------\n",
      "Best feature from collinear set 2\n",
      "      Feature        MSE\n",
      "0  PCT_SNAP09  12.007324\n",
      "------------------\n",
      "Best feature from collinear set 3\n",
      "      Feature        MSE\n",
      "0  PCT_SNAP09  11.994605\n",
      "------------------\n"
     ]
    }
   ],
   "source": [
    "# loop through every colinera feature  (from multicillinearity test - eigen vectors)\n",
    "\n",
    "columns = ['Feature','MSE']\n",
    "scores = pd.DataFrame([])\n",
    "\n",
    "for i in range(1,len(vectors.columns)):\n",
    "    table = d['collinear{0}'.format(i)]\n",
    "    features = table.Feature.values\n",
    "    \n",
    "    for f in features:\n",
    "        feature_col = [f]\n",
    "    \n",
    "        X_train=data[feature_col]\n",
    "    \n",
    "        lr = LinearRegression()\n",
    "        lr.fit(X_train, y_train)\n",
    "    \n",
    "        MSE  = -np.mean(cross_val_score(lr, X_train, y_train, scoring='neg_mean_squared_error', cv=cv))\n",
    "        score = pd.DataFrame({'Feature':f,'MSE':MSE},index=[0])\n",
    "        scores = scores.append(score)\n",
    "    print (\"Best feature from collinear set %d\" %(i))\n",
    "    print (scores.sort_values('MSE').head(1))\n",
    "    print (\"------------------\")"
   ]
  },
  {
   "cell_type": "code",
   "execution_count": 83,
   "metadata": {},
   "outputs": [
    {
     "data": {
      "text/html": [
       "<div>\n",
       "<style scoped>\n",
       "    .dataframe tbody tr th:only-of-type {\n",
       "        vertical-align: middle;\n",
       "    }\n",
       "\n",
       "    .dataframe tbody tr th {\n",
       "        vertical-align: top;\n",
       "    }\n",
       "\n",
       "    .dataframe thead th {\n",
       "        text-align: right;\n",
       "    }\n",
       "</style>\n",
       "<table border=\"1\" class=\"dataframe\">\n",
       "  <thead>\n",
       "    <tr style=\"text-align: right;\">\n",
       "      <th></th>\n",
       "      <th>CHILDPOVRATE10</th>\n",
       "      <th>PCT_FREE_LUNCH10</th>\n",
       "    </tr>\n",
       "  </thead>\n",
       "  <tbody>\n",
       "    <tr>\n",
       "      <th>CHILDPOVRATE10</th>\n",
       "      <td>1.000000</td>\n",
       "      <td>0.821298</td>\n",
       "    </tr>\n",
       "    <tr>\n",
       "      <th>PCT_FREE_LUNCH10</th>\n",
       "      <td>0.821298</td>\n",
       "      <td>1.000000</td>\n",
       "    </tr>\n",
       "  </tbody>\n",
       "</table>\n",
       "</div>"
      ],
      "text/plain": [
       "                  CHILDPOVRATE10  PCT_FREE_LUNCH10\n",
       "CHILDPOVRATE10          1.000000          0.821298\n",
       "PCT_FREE_LUNCH10        0.821298          1.000000"
      ]
     },
     "execution_count": 83,
     "metadata": {},
     "output_type": "execute_result"
    }
   ],
   "source": [
    "# check correlation between the best features out of collinear feature sets:\n",
    "best_of_col = data[['CHILDPOVRATE10','PCT_FREE_LUNCH10']]\n",
    "best_of_col.corr()"
   ]
  },
  {
   "cell_type": "markdown",
   "metadata": {},
   "source": [
    "# Test Linear Regression with all non-collinear Features and best feature out of collinear feature set"
   ]
  },
  {
   "cell_type": "code",
   "execution_count": 84,
   "metadata": {},
   "outputs": [],
   "source": [
    "dfs = [d['collinear1'].Feature,d['collinear2'].Feature,d['collinear3'].Feature]\n",
    "#append dataframes into one\n",
    "from functools import reduce\n",
    "\n",
    "collinear_feat = list(reduce(lambda left,right: left.append(right), dfs))"
   ]
  },
  {
   "cell_type": "code",
   "execution_count": 85,
   "metadata": {},
   "outputs": [],
   "source": [
    "all_feat = list(data.columns[:-1])"
   ]
  },
  {
   "cell_type": "code",
   "execution_count": 86,
   "metadata": {},
   "outputs": [],
   "source": [
    "non_collinear_feat = set(all_feat) - set(collinear_feat)"
   ]
  },
  {
   "cell_type": "code",
   "execution_count": 87,
   "metadata": {},
   "outputs": [],
   "source": [
    "non_col_features = list(non_collinear_feat)"
   ]
  },
  {
   "cell_type": "code",
   "execution_count": 88,
   "metadata": {},
   "outputs": [],
   "source": [
    "non_col_features.insert(0,\"PCT_FREE_LUNCH10\")"
   ]
  },
  {
   "cell_type": "code",
   "execution_count": 89,
   "metadata": {},
   "outputs": [],
   "source": [
    "X_train = data[non_col_features]\n",
    "\n",
    "X_test = data_test[non_col_features]"
   ]
  },
  {
   "cell_type": "code",
   "execution_count": 90,
   "metadata": {},
   "outputs": [],
   "source": [
    "X_train_std = stdsc.fit_transform(X_train)\n",
    "X_test_std = stdsc.transform(X_test)"
   ]
  },
  {
   "cell_type": "code",
   "execution_count": 91,
   "metadata": {},
   "outputs": [
    {
     "data": {
      "text/plain": [
       "LinearRegression()"
      ]
     },
     "execution_count": 91,
     "metadata": {},
     "output_type": "execute_result"
    }
   ],
   "source": [
    "lr = LinearRegression()\n",
    "lr.fit(X_train_std, y_train)"
   ]
  },
  {
   "cell_type": "code",
   "execution_count": 92,
   "metadata": {},
   "outputs": [
    {
     "data": {
      "text/plain": [
       "10.65113941498713"
      ]
     },
     "execution_count": 92,
     "metadata": {},
     "output_type": "execute_result"
    }
   ],
   "source": [
    "MSE_lr_non_col = mean_squared_error(y_test, lr.predict(X_test_std))\n",
    "MSE_lr_non_col"
   ]
  },
  {
   "cell_type": "markdown",
   "metadata": {},
   "source": [
    "# Lasso and Ridge"
   ]
  },
  {
   "cell_type": "markdown",
   "metadata": {},
   "source": [
    "### Lasso with Gridsearch"
   ]
  },
  {
   "cell_type": "code",
   "execution_count": 93,
   "metadata": {},
   "outputs": [],
   "source": [
    "from sklearn.linear_model import Lasso, Ridge\n",
    "from sklearn.model_selection import GridSearchCV"
   ]
  },
  {
   "cell_type": "code",
   "execution_count": 94,
   "metadata": {},
   "outputs": [],
   "source": [
    "feature_cols = list(data.columns.values)[:-1]\n",
    "\n",
    "X_train = data[feature_cols]\n",
    "X_test = data_test[feature_cols]"
   ]
  },
  {
   "cell_type": "code",
   "execution_count": 95,
   "metadata": {},
   "outputs": [],
   "source": [
    "X_train_std = stdsc.fit_transform(X_train)\n",
    "X_test_std = stdsc.transform(X_test)"
   ]
  },
  {
   "cell_type": "code",
   "execution_count": 96,
   "metadata": {},
   "outputs": [
    {
     "name": "stderr",
     "output_type": "stream",
     "text": [
      "C:\\Anaconda\\lib\\site-packages\\sklearn\\linear_model\\_coordinate_descent.py:529: ConvergenceWarning: Objective did not converge. You might want to increase the number of iterations. Duality gap: 4575.262445368954, tolerance: 2.7548498004484308\n",
      "  model = cd_fast.enet_coordinate_descent(\n",
      "C:\\Anaconda\\lib\\site-packages\\sklearn\\linear_model\\_coordinate_descent.py:529: ConvergenceWarning: Objective did not converge. You might want to increase the number of iterations. Duality gap: 4357.449438937601, tolerance: 2.7160928139013456\n",
      "  model = cd_fast.enet_coordinate_descent(\n",
      "C:\\Anaconda\\lib\\site-packages\\sklearn\\linear_model\\_coordinate_descent.py:529: ConvergenceWarning: Objective did not converge. You might want to increase the number of iterations. Duality gap: 4367.192874309799, tolerance: 2.5838846165919285\n",
      "  model = cd_fast.enet_coordinate_descent(\n",
      "C:\\Anaconda\\lib\\site-packages\\sklearn\\linear_model\\_coordinate_descent.py:529: ConvergenceWarning: Objective did not converge. You might want to increase the number of iterations. Duality gap: 4419.279141353245, tolerance: 2.7029386765695067\n",
      "  model = cd_fast.enet_coordinate_descent(\n",
      "C:\\Anaconda\\lib\\site-packages\\sklearn\\linear_model\\_coordinate_descent.py:529: ConvergenceWarning: Objective did not converge. You might want to increase the number of iterations. Duality gap: 4410.8466537472505, tolerance: 2.7302695016816148\n",
      "  model = cd_fast.enet_coordinate_descent(\n",
      "C:\\Anaconda\\lib\\site-packages\\sklearn\\linear_model\\_coordinate_descent.py:529: ConvergenceWarning: Objective did not converge. You might want to increase the number of iterations. Duality gap: 5579.583887047891, tolerance: 3.372301478026906\n",
      "  model = cd_fast.enet_coordinate_descent(\n"
     ]
    },
    {
     "data": {
      "text/plain": [
       "GridSearchCV(cv=KFold(n_splits=5, random_state=None, shuffle=True),\n",
       "             estimator=Lasso(),\n",
       "             param_grid={'alpha': array([1.00000e-04, 1.00200e-01, 2.00300e-01, 3.00400e-01, 4.00500e-01,\n",
       "       5.00600e-01, 6.00700e-01, 7.00800e-01, 8.00900e-01, 9.01000e-01,\n",
       "       1.00110e+00, 1.10120e+00, 1.20130e+00, 1.30140e+00, 1.40150e+00,\n",
       "       1.50160e+00, 1.60170e+00, 1.70180e+00, 1.80190e+00, 1.90200e+00,...\n",
       "       9.70971e+01, 9.71972e+01, 9.72973e+01, 9.73974e+01, 9.74975e+01,\n",
       "       9.75976e+01, 9.76977e+01, 9.77978e+01, 9.78979e+01, 9.79980e+01,\n",
       "       9.80981e+01, 9.81982e+01, 9.82983e+01, 9.83984e+01, 9.84985e+01,\n",
       "       9.85986e+01, 9.86987e+01, 9.87988e+01, 9.88989e+01, 9.89990e+01,\n",
       "       9.90991e+01, 9.91992e+01, 9.92993e+01, 9.93994e+01, 9.94995e+01,\n",
       "       9.95996e+01, 9.96997e+01, 9.97998e+01, 9.98999e+01, 1.00000e+02])})"
      ]
     },
     "execution_count": 96,
     "metadata": {},
     "output_type": "execute_result"
    }
   ],
   "source": [
    "parameters = {'alpha' : np.linspace(0.0001,100,1000)}\n",
    "lasso = Lasso()\n",
    "clf = GridSearchCV(lasso, parameters, cv=cv)\n",
    "clf.fit(X_train_std,y_train)"
   ]
  },
  {
   "cell_type": "code",
   "execution_count": 97,
   "metadata": {},
   "outputs": [
    {
     "data": {
      "text/plain": [
       "{'alpha': 0.0001}"
      ]
     },
     "execution_count": 97,
     "metadata": {},
     "output_type": "execute_result"
    }
   ],
   "source": [
    "# get the best performing combo\n",
    "clf.best_params_"
   ]
  },
  {
   "cell_type": "markdown",
   "metadata": {},
   "source": [
    "# Lasso with best alpha parameter"
   ]
  },
  {
   "cell_type": "code",
   "execution_count": 98,
   "metadata": {},
   "outputs": [],
   "source": [
    "lasso = Lasso(alpha=0.0001)"
   ]
  },
  {
   "cell_type": "code",
   "execution_count": 99,
   "metadata": {},
   "outputs": [
    {
     "name": "stderr",
     "output_type": "stream",
     "text": [
      "C:\\Anaconda\\lib\\site-packages\\sklearn\\linear_model\\_coordinate_descent.py:529: ConvergenceWarning: Objective did not converge. You might want to increase the number of iterations. Duality gap: 5579.583887047891, tolerance: 3.372301478026906\n",
      "  model = cd_fast.enet_coordinate_descent(\n"
     ]
    },
    {
     "data": {
      "text/plain": [
       "Lasso(alpha=0.0001)"
      ]
     },
     "execution_count": 99,
     "metadata": {},
     "output_type": "execute_result"
    }
   ],
   "source": [
    "lasso.fit(X_train_std, y_train)"
   ]
  },
  {
   "cell_type": "code",
   "execution_count": 100,
   "metadata": {},
   "outputs": [
    {
     "name": "stderr",
     "output_type": "stream",
     "text": [
      "C:\\Anaconda\\lib\\site-packages\\sklearn\\linear_model\\_coordinate_descent.py:529: ConvergenceWarning: Objective did not converge. You might want to increase the number of iterations. Duality gap: 1351.7866126455465, tolerance: 1.2251985358851676\n",
      "  model = cd_fast.enet_coordinate_descent(\n",
      "C:\\Anaconda\\lib\\site-packages\\sklearn\\linear_model\\_coordinate_descent.py:529: ConvergenceWarning: Objective did not converge. You might want to increase the number of iterations. Duality gap: 80.34834740562428, tolerance: 1.2223739744816586\n",
      "  model = cd_fast.enet_coordinate_descent(\n",
      "C:\\Anaconda\\lib\\site-packages\\sklearn\\linear_model\\_coordinate_descent.py:529: ConvergenceWarning: Objective did not converge. You might want to increase the number of iterations. Duality gap: 1423.9365970826589, tolerance: 1.204833792663477\n",
      "  model = cd_fast.enet_coordinate_descent(\n",
      "C:\\Anaconda\\lib\\site-packages\\sklearn\\linear_model\\_coordinate_descent.py:529: ConvergenceWarning: Objective did not converge. You might want to increase the number of iterations. Duality gap: 1565.0244257327981, tolerance: 1.2116361148325359\n",
      "  model = cd_fast.enet_coordinate_descent(\n",
      "C:\\Anaconda\\lib\\site-packages\\sklearn\\linear_model\\_coordinate_descent.py:529: ConvergenceWarning: Objective did not converge. You might want to increase the number of iterations. Duality gap: 1526.5883614441368, tolerance: 1.1557575222929937\n",
      "  model = cd_fast.enet_coordinate_descent(\n"
     ]
    },
    {
     "data": {
      "text/plain": [
       "2.185776992722154"
      ]
     },
     "execution_count": 100,
     "metadata": {},
     "output_type": "execute_result"
    }
   ],
   "source": [
    "MSE_las = -np.mean(cross_val_score(lasso, X_test_std, y_test, scoring='neg_mean_absolute_error'))\n",
    "MSE_las"
   ]
  },
  {
   "cell_type": "code",
   "execution_count": 101,
   "metadata": {},
   "outputs": [],
   "source": [
    "Performance.loc[-1] = ['Lasso (alpha=0.0001)', len(X_test.columns), MSE_las]\n",
    "Performance.index = Performance.index + 1 "
   ]
  },
  {
   "cell_type": "code",
   "execution_count": 102,
   "metadata": {},
   "outputs": [],
   "source": [
    "# get coefficients \n",
    "feature_coefs = pd.DataFrame({'Features':X_train.columns,'Coef':lasso.coef_})"
   ]
  },
  {
   "cell_type": "code",
   "execution_count": 103,
   "metadata": {},
   "outputs": [
    {
     "data": {
      "text/html": [
       "<div>\n",
       "<style scoped>\n",
       "    .dataframe tbody tr th:only-of-type {\n",
       "        vertical-align: middle;\n",
       "    }\n",
       "\n",
       "    .dataframe tbody tr th {\n",
       "        vertical-align: top;\n",
       "    }\n",
       "\n",
       "    .dataframe thead th {\n",
       "        text-align: right;\n",
       "    }\n",
       "</style>\n",
       "<table border=\"1\" class=\"dataframe\">\n",
       "  <thead>\n",
       "    <tr style=\"text-align: right;\">\n",
       "      <th></th>\n",
       "      <th>Features</th>\n",
       "      <th>Coef</th>\n",
       "    </tr>\n",
       "  </thead>\n",
       "  <tbody>\n",
       "    <tr>\n",
       "      <th>48</th>\n",
       "      <td>PCT_NHWHITE10</td>\n",
       "      <td>-5.089401</td>\n",
       "    </tr>\n",
       "    <tr>\n",
       "      <th>50</th>\n",
       "      <td>PCT_HISP10</td>\n",
       "      <td>-3.878897</td>\n",
       "    </tr>\n",
       "    <tr>\n",
       "      <th>49</th>\n",
       "      <td>PCT_NHBLACK10</td>\n",
       "      <td>-2.759006</td>\n",
       "    </tr>\n",
       "    <tr>\n",
       "      <th>32</th>\n",
       "      <td>MILK_PRICE10</td>\n",
       "      <td>-1.767292</td>\n",
       "    </tr>\n",
       "    <tr>\n",
       "      <th>27</th>\n",
       "      <td>PCT_WIC09</td>\n",
       "      <td>-1.181131</td>\n",
       "    </tr>\n",
       "    <tr>\n",
       "      <th>...</th>\n",
       "      <td>...</td>\n",
       "      <td>...</td>\n",
       "    </tr>\n",
       "    <tr>\n",
       "      <th>55</th>\n",
       "      <td>PCT_18YOUNGER10</td>\n",
       "      <td>0.624046</td>\n",
       "    </tr>\n",
       "    <tr>\n",
       "      <th>15</th>\n",
       "      <td>PCT_SNAP09</td>\n",
       "      <td>0.810399</td>\n",
       "    </tr>\n",
       "    <tr>\n",
       "      <th>29</th>\n",
       "      <td>FOODINSEC_07_09</td>\n",
       "      <td>0.842839</td>\n",
       "    </tr>\n",
       "    <tr>\n",
       "      <th>33</th>\n",
       "      <td>SODA_PRICE10</td>\n",
       "      <td>1.124104</td>\n",
       "    </tr>\n",
       "    <tr>\n",
       "      <th>34</th>\n",
       "      <td>MILK_SODA_PRICE10</td>\n",
       "      <td>2.165299</td>\n",
       "    </tr>\n",
       "  </tbody>\n",
       "</table>\n",
       "<p>63 rows × 2 columns</p>\n",
       "</div>"
      ],
      "text/plain": [
       "             Features      Coef\n",
       "48      PCT_NHWHITE10 -5.089401\n",
       "50         PCT_HISP10 -3.878897\n",
       "49      PCT_NHBLACK10 -2.759006\n",
       "32       MILK_PRICE10 -1.767292\n",
       "27          PCT_WIC09 -1.181131\n",
       "..                ...       ...\n",
       "55    PCT_18YOUNGER10  0.624046\n",
       "15         PCT_SNAP09  0.810399\n",
       "29    FOODINSEC_07_09  0.842839\n",
       "33       SODA_PRICE10  1.124104\n",
       "34  MILK_SODA_PRICE10  2.165299\n",
       "\n",
       "[63 rows x 2 columns]"
      ]
     },
     "execution_count": 103,
     "metadata": {},
     "output_type": "execute_result"
    }
   ],
   "source": [
    "feature_coefs.sort_values('Coef')"
   ]
  },
  {
   "cell_type": "code",
   "execution_count": 104,
   "metadata": {},
   "outputs": [
    {
     "data": {
      "text/plain": [
       "48            PCT_NHWHITE10\n",
       "50               PCT_HISP10\n",
       "49            PCT_NHBLACK10\n",
       "34        MILK_SODA_PRICE10\n",
       "32             MILK_PRICE10\n",
       "27                PCT_WIC09\n",
       "52               PCT_NHNA10\n",
       "33             SODA_PRICE10\n",
       "51            PCT_NHASIAN10\n",
       "31    FOODINSEC_CHILD_01_07\n",
       "29          FOODINSEC_07_09\n",
       "15               PCT_SNAP09\n",
       "12                 FSRPTH07\n",
       "56               MEDHHINC10\n",
       "55          PCT_18YOUNGER10\n",
       "37              VEG_FARMS07\n",
       "38         FRESHVEG_FARMS07\n",
       "47                  NATAMEN\n",
       "23         PCT_FREE_LUNCH10\n",
       "22               PCT_NSLP09\n",
       "Name: Features, dtype: object"
      ]
     },
     "execution_count": 104,
     "metadata": {},
     "output_type": "execute_result"
    }
   ],
   "source": [
    "feature_coefs['sort'] = feature_coefs.Coef.abs()\n",
    "top_20_lasso = feature_coefs.sort_values('sort',ascending=False)['Features'].head(20)\n",
    "feature_coefs.drop(['sort'],axis = 1, inplace=True)\n",
    "top_20_lasso"
   ]
  },
  {
   "cell_type": "code",
   "execution_count": 105,
   "metadata": {},
   "outputs": [
    {
     "data": {
      "text/plain": [
       "Text(0.5, 1.0, 'Obesity Rates, %')"
      ]
     },
     "execution_count": 105,
     "metadata": {},
     "output_type": "execute_result"
    },
    {
     "data": {
      "image/png": "[encoded data removed]",
      "text/plain": [
       "<Figure size 432x288 with 1 Axes>"
      ]
     },
     "metadata": {
      "needs_background": "light"
     },
     "output_type": "display_data"
    }
   ],
   "source": [
    "fit = np.polyfit(y_test,lasso.predict(X_test_std),1)\n",
    "fit_fn = np.poly1d(fit) \n",
    "\n",
    "plt.plot(y_test,lasso.predict(X_test_std), 'rd', y_test, fit_fn(y_test), '--k')\n",
    "plt.xlabel('Actual obesity rate, %')\n",
    "plt.ylabel('Predicted obesity rate, %')\n",
    "plt.title('Obesity Rates, %')"
   ]
  },
  {
   "cell_type": "code",
   "execution_count": 106,
   "metadata": {},
   "outputs": [],
   "source": [
    "feature_coefs['Coef'] = feature_coefs['Coef'].abs()\n",
    "feature_coefs.sort_values(by=['Coef'],ascending=False,inplace=True)\n",
    "\n",
    "feature_test = feature_coefs.Features.values"
   ]
  },
  {
   "cell_type": "code",
   "execution_count": 107,
   "metadata": {},
   "outputs": [
    {
     "data": {
      "text/html": [
       "<div>\n",
       "<style scoped>\n",
       "    .dataframe tbody tr th:only-of-type {\n",
       "        vertical-align: middle;\n",
       "    }\n",
       "\n",
       "    .dataframe tbody tr th {\n",
       "        vertical-align: top;\n",
       "    }\n",
       "\n",
       "    .dataframe thead th {\n",
       "        text-align: right;\n",
       "    }\n",
       "</style>\n",
       "<table border=\"1\" class=\"dataframe\">\n",
       "  <thead>\n",
       "    <tr style=\"text-align: right;\">\n",
       "      <th></th>\n",
       "      <th>Model</th>\n",
       "      <th>n_features</th>\n",
       "      <th>MSE</th>\n",
       "    </tr>\n",
       "  </thead>\n",
       "  <tbody>\n",
       "    <tr>\n",
       "      <th>5</th>\n",
       "      <td>Random Forest</td>\n",
       "      <td>63</td>\n",
       "      <td>5.587452</td>\n",
       "    </tr>\n",
       "    <tr>\n",
       "      <th>3</th>\n",
       "      <td>Linear Regression _all_features</td>\n",
       "      <td>63</td>\n",
       "      <td>11.291271</td>\n",
       "    </tr>\n",
       "    <tr>\n",
       "      <th>2</th>\n",
       "      <td>Linear Regression</td>\n",
       "      <td>23</td>\n",
       "      <td>9.120051</td>\n",
       "    </tr>\n",
       "    <tr>\n",
       "      <th>1</th>\n",
       "      <td>Linear Regression_no outliers</td>\n",
       "      <td>23</td>\n",
       "      <td>6.169952</td>\n",
       "    </tr>\n",
       "    <tr>\n",
       "      <th>0</th>\n",
       "      <td>Lasso (alpha=0.0001)</td>\n",
       "      <td>63</td>\n",
       "      <td>2.185777</td>\n",
       "    </tr>\n",
       "  </tbody>\n",
       "</table>\n",
       "</div>"
      ],
      "text/plain": [
       "                             Model  n_features        MSE\n",
       "5                    Random Forest          63   5.587452\n",
       "3  Linear Regression _all_features          63  11.291271\n",
       "2                Linear Regression          23   9.120051\n",
       "1    Linear Regression_no outliers          23   6.169952\n",
       "0             Lasso (alpha=0.0001)          63   2.185777"
      ]
     },
     "execution_count": 107,
     "metadata": {},
     "output_type": "execute_result"
    }
   ],
   "source": [
    "Performance"
   ]
  },
  {
   "cell_type": "markdown",
   "metadata": {},
   "source": [
    "# Test variables in each category agains the response variable"
   ]
  },
  {
   "cell_type": "code",
   "execution_count": 108,
   "metadata": {},
   "outputs": [
    {
     "name": "stderr",
     "output_type": "stream",
     "text": [
      "C:\\Anaconda\\lib\\site-packages\\sklearn\\linear_model\\_coordinate_descent.py:529: ConvergenceWarning: Objective did not converge. You might want to increase the number of iterations. Duality gap: 5364.989388945498, tolerance: 3.372301478026906\n",
      "  model = cd_fast.enet_coordinate_descent(\n",
      "C:\\Anaconda\\lib\\site-packages\\sklearn\\linear_model\\_coordinate_descent.py:529: ConvergenceWarning: Objective did not converge. You might want to increase the number of iterations. Duality gap: 6060.54015514659, tolerance: 3.372301478026906\n",
      "  model = cd_fast.enet_coordinate_descent(\n",
      "C:\\Anaconda\\lib\\site-packages\\sklearn\\linear_model\\_coordinate_descent.py:529: ConvergenceWarning: Objective did not converge. You might want to increase the number of iterations. Duality gap: 2325.7378390992994, tolerance: 1.2418902041467306\n",
      "  model = cd_fast.enet_coordinate_descent(\n",
      "C:\\Anaconda\\lib\\site-packages\\sklearn\\linear_model\\_coordinate_descent.py:529: ConvergenceWarning: Objective did not converge. You might want to increase the number of iterations. Duality gap: 2312.3482153042323, tolerance: 1.1068574481658693\n",
      "  model = cd_fast.enet_coordinate_descent(\n",
      "C:\\Anaconda\\lib\\site-packages\\sklearn\\linear_model\\_coordinate_descent.py:529: ConvergenceWarning: Objective did not converge. You might want to increase the number of iterations. Duality gap: 1793.2238887930407, tolerance: 1.2254850462519937\n",
      "  model = cd_fast.enet_coordinate_descent(\n",
      "C:\\Anaconda\\lib\\site-packages\\sklearn\\linear_model\\_coordinate_descent.py:529: ConvergenceWarning: Objective did not converge. You might want to increase the number of iterations. Duality gap: 3084.242496758223, tolerance: 1.2446711706539075\n",
      "  model = cd_fast.enet_coordinate_descent(\n",
      "C:\\Anaconda\\lib\\site-packages\\sklearn\\linear_model\\_coordinate_descent.py:529: ConvergenceWarning: Objective did not converge. You might want to increase the number of iterations. Duality gap: 2489.0450998212987, tolerance: 1.2018543232484078\n",
      "  model = cd_fast.enet_coordinate_descent(\n"
     ]
    }
   ],
   "source": [
    "# create lists with variable names for each category\n",
    "access = list(data.columns.values)[0:5]\n",
    "store_avail = list(data.columns.values)[5:11]\n",
    "restaurant_avail = list(data.columns.values)[11:15]\n",
    "food_assist = list(data.columns.values)[15:29]\n",
    "food_insecureity = list(data.columns.values)[29:32]\n",
    "food_price_tax = list(data.columns.values)[32:35]\n",
    "local_foods = list(data.columns.values)[35:46]\n",
    "health_physical = list(data.columns.values)[46:48]\n",
    "socioec = list(data.columns.values)[48:63]\n",
    "\n",
    "categories = [access,store_avail,restaurant_avail,food_assist,food_insecureity,\n",
    "              food_price_tax,local_foods,health_physical,socioec]\n",
    "\n",
    "\n",
    "lasso = Lasso(alpha=0.0001)\n",
    "feature_cols = []\n",
    "MSE_scores=[]\n",
    "\n",
    "for i in categories:\n",
    "    feature_cols = i\n",
    "    \n",
    "    X_train = data[feature_cols]\n",
    "    X_test = data_test[feature_cols]\n",
    "\n",
    "    X_train_std = stdsc.fit_transform(X_train)\n",
    "    X_test_std = stdsc.transform(X_test)\n",
    "    \n",
    "    lasso.fit(X_train_std, y_train)\n",
    "    \n",
    "    score = -np.mean(cross_val_score(lasso, X_test_std, y_test, scoring='neg_mean_squared_error', cv=cv))\n",
    "    MSE_scores.append(score)"
   ]
  },
  {
   "cell_type": "code",
   "execution_count": 109,
   "metadata": {},
   "outputs": [
    {
     "data": {
      "text/html": [
       "<div>\n",
       "<style scoped>\n",
       "    .dataframe tbody tr th:only-of-type {\n",
       "        vertical-align: middle;\n",
       "    }\n",
       "\n",
       "    .dataframe tbody tr th {\n",
       "        vertical-align: top;\n",
       "    }\n",
       "\n",
       "    .dataframe thead th {\n",
       "        text-align: right;\n",
       "    }\n",
       "</style>\n",
       "<table border=\"1\" class=\"dataframe\">\n",
       "  <thead>\n",
       "    <tr style=\"text-align: right;\">\n",
       "      <th></th>\n",
       "      <th>category</th>\n",
       "      <th>MSE</th>\n",
       "    </tr>\n",
       "  </thead>\n",
       "  <tbody>\n",
       "    <tr>\n",
       "      <th>3</th>\n",
       "      <td>food_assist</td>\n",
       "      <td>10.899344</td>\n",
       "    </tr>\n",
       "    <tr>\n",
       "      <th>8</th>\n",
       "      <td>socioec</td>\n",
       "      <td>11.291724</td>\n",
       "    </tr>\n",
       "    <tr>\n",
       "      <th>2</th>\n",
       "      <td>restaurant_avail</td>\n",
       "      <td>13.236739</td>\n",
       "    </tr>\n",
       "    <tr>\n",
       "      <th>1</th>\n",
       "      <td>store_avail</td>\n",
       "      <td>14.592162</td>\n",
       "    </tr>\n",
       "    <tr>\n",
       "      <th>7</th>\n",
       "      <td>health_physical</td>\n",
       "      <td>15.671545</td>\n",
       "    </tr>\n",
       "    <tr>\n",
       "      <th>6</th>\n",
       "      <td>local_foods</td>\n",
       "      <td>17.051784</td>\n",
       "    </tr>\n",
       "    <tr>\n",
       "      <th>5</th>\n",
       "      <td>food_price_tax</td>\n",
       "      <td>17.607320</td>\n",
       "    </tr>\n",
       "    <tr>\n",
       "      <th>4</th>\n",
       "      <td>food_insecureity</td>\n",
       "      <td>17.870157</td>\n",
       "    </tr>\n",
       "    <tr>\n",
       "      <th>0</th>\n",
       "      <td>access</td>\n",
       "      <td>21.114333</td>\n",
       "    </tr>\n",
       "  </tbody>\n",
       "</table>\n",
       "</div>"
      ],
      "text/plain": [
       "           category        MSE\n",
       "3       food_assist  10.899344\n",
       "8           socioec  11.291724\n",
       "2  restaurant_avail  13.236739\n",
       "1       store_avail  14.592162\n",
       "7   health_physical  15.671545\n",
       "6       local_foods  17.051784\n",
       "5    food_price_tax  17.607320\n",
       "4  food_insecureity  17.870157\n",
       "0            access  21.114333"
      ]
     },
     "execution_count": 109,
     "metadata": {},
     "output_type": "execute_result"
    }
   ],
   "source": [
    "categories = ['access','store_avail','restaurant_avail','food_assist','food_insecureity',\n",
    "             'food_price_tax','local_foods','health_physical','socioec']\n",
    "MSE_by_categoty = pd.DataFrame({'category':categories,'MSE':MSE_scores})\n",
    "MSE_by_categoty.sort_values('MSE',ascending = True,inplace = True)\n",
    "MSE_by_categoty"
   ]
  },
  {
   "cell_type": "code",
   "execution_count": 110,
   "metadata": {},
   "outputs": [],
   "source": [
    "categories = MSE_by_categoty['category'].values"
   ]
  },
  {
   "cell_type": "code",
   "execution_count": 111,
   "metadata": {},
   "outputs": [
    {
     "data": {
      "text/plain": [
       "array(['food_assist', 'socioec', 'restaurant_avail', 'store_avail',\n",
       "       'health_physical', 'local_foods', 'food_price_tax',\n",
       "       'food_insecureity', 'access'], dtype=object)"
      ]
     },
     "execution_count": 111,
     "metadata": {},
     "output_type": "execute_result"
    }
   ],
   "source": [
    "categories"
   ]
  },
  {
   "cell_type": "code",
   "execution_count": 112,
   "metadata": {},
   "outputs": [
    {
     "data": {
      "text/plain": [
       "''"
      ]
     },
     "execution_count": 112,
     "metadata": {},
     "output_type": "execute_result"
    },
    {
     "data": {
      "image/png": "[encoded data removed]",
      "text/plain": [
       "<Figure size 576x432 with 1 Axes>"
      ]
     },
     "metadata": {
      "needs_background": "light"
     },
     "output_type": "display_data"
    }
   ],
   "source": [
    "plt.figure(figsize = (8,6))\n",
    "\n",
    "plt.barh(np.arange(len(MSE_by_categoty['category'])), MSE_by_categoty['MSE'], color='orange')\n",
    "plt.xlabel('MSE',size=14)\n",
    "plt.yticks(np.arange(len(categories)),categories,size=14)\n",
    "plt.title('Variables Within Each Category',size=20)\n",
    ";"
   ]
  },
  {
   "cell_type": "markdown",
   "metadata": {},
   "source": [
    "# Try Lasso with non-collinear features\n"
   ]
  },
  {
   "cell_type": "code",
   "execution_count": 113,
   "metadata": {},
   "outputs": [],
   "source": [
    "X_train = data[non_col_features] \n",
    "X_test = data_test[non_col_features] "
   ]
  },
  {
   "cell_type": "code",
   "execution_count": 114,
   "metadata": {},
   "outputs": [],
   "source": [
    "X_train_std = stdsc.fit_transform(X_train)\n",
    "X_test_std = stdsc.transform(X_test)"
   ]
  },
  {
   "cell_type": "code",
   "execution_count": 115,
   "metadata": {},
   "outputs": [],
   "source": [
    "lasso = Lasso(alpha=0.0001)"
   ]
  },
  {
   "cell_type": "code",
   "execution_count": 116,
   "metadata": {},
   "outputs": [
    {
     "name": "stderr",
     "output_type": "stream",
     "text": [
      "C:\\Anaconda\\lib\\site-packages\\sklearn\\linear_model\\_coordinate_descent.py:529: ConvergenceWarning: Objective did not converge. You might want to increase the number of iterations. Duality gap: 560.1291807377274, tolerance: 3.372301478026906\n",
      "  model = cd_fast.enet_coordinate_descent(\n"
     ]
    },
    {
     "data": {
      "text/plain": [
       "Lasso(alpha=0.0001)"
      ]
     },
     "execution_count": 116,
     "metadata": {},
     "output_type": "execute_result"
    }
   ],
   "source": [
    "lasso.fit(X_train_std, y_train)"
   ]
  },
  {
   "cell_type": "code",
   "execution_count": 117,
   "metadata": {},
   "outputs": [],
   "source": [
    "# get coefficients \n",
    "feature_coefs = pd.DataFrame({'Features':X_train.columns,'Coef':lasso.coef_})"
   ]
  },
  {
   "cell_type": "code",
   "execution_count": 118,
   "metadata": {},
   "outputs": [
    {
     "data": {
      "text/plain": [
       "34"
      ]
     },
     "execution_count": 118,
     "metadata": {},
     "output_type": "execute_result"
    }
   ],
   "source": [
    "len(X_train.columns)"
   ]
  },
  {
   "cell_type": "code",
   "execution_count": 119,
   "metadata": {},
   "outputs": [
    {
     "data": {
      "text/html": [
       "<div>\n",
       "<style scoped>\n",
       "    .dataframe tbody tr th:only-of-type {\n",
       "        vertical-align: middle;\n",
       "    }\n",
       "\n",
       "    .dataframe tbody tr th {\n",
       "        vertical-align: top;\n",
       "    }\n",
       "\n",
       "    .dataframe thead th {\n",
       "        text-align: right;\n",
       "    }\n",
       "</style>\n",
       "<table border=\"1\" class=\"dataframe\">\n",
       "  <thead>\n",
       "    <tr style=\"text-align: right;\">\n",
       "      <th></th>\n",
       "      <th>Features</th>\n",
       "      <th>Coef</th>\n",
       "    </tr>\n",
       "  </thead>\n",
       "  <tbody>\n",
       "    <tr>\n",
       "      <th>12</th>\n",
       "      <td>NATAMEN</td>\n",
       "      <td>-1.346604</td>\n",
       "    </tr>\n",
       "    <tr>\n",
       "      <th>4</th>\n",
       "      <td>MEDHHINC10</td>\n",
       "      <td>-0.504755</td>\n",
       "    </tr>\n",
       "    <tr>\n",
       "      <th>11</th>\n",
       "      <td>PCT_LOCLFARM07</td>\n",
       "      <td>-0.498859</td>\n",
       "    </tr>\n",
       "    <tr>\n",
       "      <th>33</th>\n",
       "      <td>WICSPTH08</td>\n",
       "      <td>-0.291741</td>\n",
       "    </tr>\n",
       "    <tr>\n",
       "      <th>23</th>\n",
       "      <td>GHVEG_FARMS07</td>\n",
       "      <td>-0.262585</td>\n",
       "    </tr>\n",
       "    <tr>\n",
       "      <th>25</th>\n",
       "      <td>FARM_TO_SCHOOL</td>\n",
       "      <td>-0.231879</td>\n",
       "    </tr>\n",
       "    <tr>\n",
       "      <th>18</th>\n",
       "      <td>GROCPTH07</td>\n",
       "      <td>-0.192967</td>\n",
       "    </tr>\n",
       "    <tr>\n",
       "      <th>9</th>\n",
       "      <td>AGRITRSM_OPS07</td>\n",
       "      <td>-0.192231</td>\n",
       "    </tr>\n",
       "    <tr>\n",
       "      <th>16</th>\n",
       "      <td>RECFACPTH07</td>\n",
       "      <td>-0.172452</td>\n",
       "    </tr>\n",
       "    <tr>\n",
       "      <th>14</th>\n",
       "      <td>FFRPTH07</td>\n",
       "      <td>-0.171649</td>\n",
       "    </tr>\n",
       "    <tr>\n",
       "      <th>7</th>\n",
       "      <td>CSA07</td>\n",
       "      <td>-0.168326</td>\n",
       "    </tr>\n",
       "    <tr>\n",
       "      <th>30</th>\n",
       "      <td>PCT_SFSP09</td>\n",
       "      <td>-0.162324</td>\n",
       "    </tr>\n",
       "    <tr>\n",
       "      <th>19</th>\n",
       "      <td>PCT_FREE_LUNCH10</td>\n",
       "      <td>-0.161728</td>\n",
       "    </tr>\n",
       "    <tr>\n",
       "      <th>5</th>\n",
       "      <td>SLHOUSE07</td>\n",
       "      <td>-0.155318</td>\n",
       "    </tr>\n",
       "    <tr>\n",
       "      <th>32</th>\n",
       "      <td>SNAP_BBCE10</td>\n",
       "      <td>-0.125704</td>\n",
       "    </tr>\n",
       "    <tr>\n",
       "      <th>20</th>\n",
       "      <td>SNAP_FACEWAIVER10</td>\n",
       "      <td>-0.108368</td>\n",
       "    </tr>\n",
       "    <tr>\n",
       "      <th>22</th>\n",
       "      <td>SPECSPTH07</td>\n",
       "      <td>-0.098557</td>\n",
       "    </tr>\n",
       "    <tr>\n",
       "      <th>3</th>\n",
       "      <td>PCT_REDUCED_LUNCH10</td>\n",
       "      <td>-0.048289</td>\n",
       "    </tr>\n",
       "    <tr>\n",
       "      <th>10</th>\n",
       "      <td>VEG_FARMS07</td>\n",
       "      <td>-0.039086</td>\n",
       "    </tr>\n",
       "    <tr>\n",
       "      <th>31</th>\n",
       "      <td>PERCHLDPOV10</td>\n",
       "      <td>-0.029346</td>\n",
       "    </tr>\n",
       "    <tr>\n",
       "      <th>17</th>\n",
       "      <td>PCT_NHPI10</td>\n",
       "      <td>-0.010754</td>\n",
       "    </tr>\n",
       "    <tr>\n",
       "      <th>13</th>\n",
       "      <td>SNAP_OAPP10</td>\n",
       "      <td>0.018605</td>\n",
       "    </tr>\n",
       "    <tr>\n",
       "      <th>21</th>\n",
       "      <td>FMRKTPTH09</td>\n",
       "      <td>0.039438</td>\n",
       "    </tr>\n",
       "    <tr>\n",
       "      <th>27</th>\n",
       "      <td>POPLOSS00</td>\n",
       "      <td>0.044755</td>\n",
       "    </tr>\n",
       "    <tr>\n",
       "      <th>15</th>\n",
       "      <td>ORCHARD_FARMS07</td>\n",
       "      <td>0.046990</td>\n",
       "    </tr>\n",
       "    <tr>\n",
       "      <th>28</th>\n",
       "      <td>SNAP_VEHEXCL10</td>\n",
       "      <td>0.156905</td>\n",
       "    </tr>\n",
       "    <tr>\n",
       "      <th>6</th>\n",
       "      <td>PERPOV10</td>\n",
       "      <td>0.178035</td>\n",
       "    </tr>\n",
       "    <tr>\n",
       "      <th>8</th>\n",
       "      <td>FRESHVEG_FARMS07</td>\n",
       "      <td>0.185857</td>\n",
       "    </tr>\n",
       "    <tr>\n",
       "      <th>2</th>\n",
       "      <td>SUPERCPTH07</td>\n",
       "      <td>0.189224</td>\n",
       "    </tr>\n",
       "    <tr>\n",
       "      <th>1</th>\n",
       "      <td>BERRY_FARMS07</td>\n",
       "      <td>0.225524</td>\n",
       "    </tr>\n",
       "    <tr>\n",
       "      <th>26</th>\n",
       "      <td>METRO13</td>\n",
       "      <td>0.244685</td>\n",
       "    </tr>\n",
       "    <tr>\n",
       "      <th>29</th>\n",
       "      <td>SNAPSPTH08</td>\n",
       "      <td>0.313437</td>\n",
       "    </tr>\n",
       "    <tr>\n",
       "      <th>24</th>\n",
       "      <td>PCT_LACCESS_HHNV10</td>\n",
       "      <td>0.362132</td>\n",
       "    </tr>\n",
       "    <tr>\n",
       "      <th>0</th>\n",
       "      <td>PCT_FREE_LUNCH10</td>\n",
       "      <td>1.371390</td>\n",
       "    </tr>\n",
       "  </tbody>\n",
       "</table>\n",
       "</div>"
      ],
      "text/plain": [
       "               Features      Coef\n",
       "12              NATAMEN -1.346604\n",
       "4            MEDHHINC10 -0.504755\n",
       "11       PCT_LOCLFARM07 -0.498859\n",
       "33            WICSPTH08 -0.291741\n",
       "23        GHVEG_FARMS07 -0.262585\n",
       "25       FARM_TO_SCHOOL -0.231879\n",
       "18            GROCPTH07 -0.192967\n",
       "9        AGRITRSM_OPS07 -0.192231\n",
       "16          RECFACPTH07 -0.172452\n",
       "14             FFRPTH07 -0.171649\n",
       "7                 CSA07 -0.168326\n",
       "30           PCT_SFSP09 -0.162324\n",
       "19     PCT_FREE_LUNCH10 -0.161728\n",
       "5             SLHOUSE07 -0.155318\n",
       "32          SNAP_BBCE10 -0.125704\n",
       "20    SNAP_FACEWAIVER10 -0.108368\n",
       "22           SPECSPTH07 -0.098557\n",
       "3   PCT_REDUCED_LUNCH10 -0.048289\n",
       "10          VEG_FARMS07 -0.039086\n",
       "31         PERCHLDPOV10 -0.029346\n",
       "17           PCT_NHPI10 -0.010754\n",
       "13          SNAP_OAPP10  0.018605\n",
       "21           FMRKTPTH09  0.039438\n",
       "27            POPLOSS00  0.044755\n",
       "15      ORCHARD_FARMS07  0.046990\n",
       "28       SNAP_VEHEXCL10  0.156905\n",
       "6              PERPOV10  0.178035\n",
       "8      FRESHVEG_FARMS07  0.185857\n",
       "2           SUPERCPTH07  0.189224\n",
       "1         BERRY_FARMS07  0.225524\n",
       "26              METRO13  0.244685\n",
       "29           SNAPSPTH08  0.313437\n",
       "24   PCT_LACCESS_HHNV10  0.362132\n",
       "0      PCT_FREE_LUNCH10  1.371390"
      ]
     },
     "execution_count": 119,
     "metadata": {},
     "output_type": "execute_result"
    }
   ],
   "source": [
    "feature_coefs.sort_values('Coef')"
   ]
  },
  {
   "cell_type": "code",
   "execution_count": 120,
   "metadata": {},
   "outputs": [
    {
     "name": "stderr",
     "output_type": "stream",
     "text": [
      "C:\\Anaconda\\lib\\site-packages\\sklearn\\linear_model\\_coordinate_descent.py:529: ConvergenceWarning: Objective did not converge. You might want to increase the number of iterations. Duality gap: 90.67331546593778, tolerance: 1.2251985358851676\n",
      "  model = cd_fast.enet_coordinate_descent(\n",
      "C:\\Anaconda\\lib\\site-packages\\sklearn\\linear_model\\_coordinate_descent.py:529: ConvergenceWarning: Objective did not converge. You might want to increase the number of iterations. Duality gap: 77.61577345591922, tolerance: 1.2223739744816586\n",
      "  model = cd_fast.enet_coordinate_descent(\n",
      "C:\\Anaconda\\lib\\site-packages\\sklearn\\linear_model\\_coordinate_descent.py:529: ConvergenceWarning: Objective did not converge. You might want to increase the number of iterations. Duality gap: 738.9672425814215, tolerance: 1.204833792663477\n",
      "  model = cd_fast.enet_coordinate_descent(\n",
      "C:\\Anaconda\\lib\\site-packages\\sklearn\\linear_model\\_coordinate_descent.py:529: ConvergenceWarning: Objective did not converge. You might want to increase the number of iterations. Duality gap: 127.73199714604652, tolerance: 1.2116361148325359\n",
      "  model = cd_fast.enet_coordinate_descent(\n",
      "C:\\Anaconda\\lib\\site-packages\\sklearn\\linear_model\\_coordinate_descent.py:529: ConvergenceWarning: Objective did not converge. You might want to increase the number of iterations. Duality gap: 168.9481425501408, tolerance: 1.1557575222929937\n",
      "  model = cd_fast.enet_coordinate_descent(\n"
     ]
    },
    {
     "data": {
      "text/plain": [
       "2.606125124079501"
      ]
     },
     "execution_count": 120,
     "metadata": {},
     "output_type": "execute_result"
    }
   ],
   "source": [
    "MSE_las_non_col = -np.mean(cross_val_score(lasso, X_test_std, y_test, scoring='neg_mean_absolute_error'))\n",
    "MSE_las_non_col"
   ]
  },
  {
   "cell_type": "code",
   "execution_count": 121,
   "metadata": {},
   "outputs": [],
   "source": [
    "Performance.loc[-1] = ['Lasso_non collinear_features', len(X_test.columns), MSE_las_non_col]\n",
    "Performance.index = Performance.index + 1 "
   ]
  },
  {
   "cell_type": "code",
   "execution_count": 122,
   "metadata": {},
   "outputs": [
    {
     "data": {
      "text/html": [
       "<div>\n",
       "<style scoped>\n",
       "    .dataframe tbody tr th:only-of-type {\n",
       "        vertical-align: middle;\n",
       "    }\n",
       "\n",
       "    .dataframe tbody tr th {\n",
       "        vertical-align: top;\n",
       "    }\n",
       "\n",
       "    .dataframe thead th {\n",
       "        text-align: right;\n",
       "    }\n",
       "</style>\n",
       "<table border=\"1\" class=\"dataframe\">\n",
       "  <thead>\n",
       "    <tr style=\"text-align: right;\">\n",
       "      <th></th>\n",
       "      <th>Model</th>\n",
       "      <th>n_features</th>\n",
       "      <th>MSE</th>\n",
       "    </tr>\n",
       "  </thead>\n",
       "  <tbody>\n",
       "    <tr>\n",
       "      <th>1</th>\n",
       "      <td>Lasso (alpha=0.0001)</td>\n",
       "      <td>63</td>\n",
       "      <td>2.185777</td>\n",
       "    </tr>\n",
       "    <tr>\n",
       "      <th>0</th>\n",
       "      <td>Lasso_non collinear_features</td>\n",
       "      <td>34</td>\n",
       "      <td>2.606125</td>\n",
       "    </tr>\n",
       "    <tr>\n",
       "      <th>6</th>\n",
       "      <td>Random Forest</td>\n",
       "      <td>63</td>\n",
       "      <td>5.587452</td>\n",
       "    </tr>\n",
       "    <tr>\n",
       "      <th>2</th>\n",
       "      <td>Linear Regression_no outliers</td>\n",
       "      <td>23</td>\n",
       "      <td>6.169952</td>\n",
       "    </tr>\n",
       "    <tr>\n",
       "      <th>3</th>\n",
       "      <td>Linear Regression</td>\n",
       "      <td>23</td>\n",
       "      <td>9.120051</td>\n",
       "    </tr>\n",
       "    <tr>\n",
       "      <th>4</th>\n",
       "      <td>Linear Regression _all_features</td>\n",
       "      <td>63</td>\n",
       "      <td>11.291271</td>\n",
       "    </tr>\n",
       "  </tbody>\n",
       "</table>\n",
       "</div>"
      ],
      "text/plain": [
       "                             Model  n_features        MSE\n",
       "1             Lasso (alpha=0.0001)          63   2.185777\n",
       "0     Lasso_non collinear_features          34   2.606125\n",
       "6                    Random Forest          63   5.587452\n",
       "2    Linear Regression_no outliers          23   6.169952\n",
       "3                Linear Regression          23   9.120051\n",
       "4  Linear Regression _all_features          63  11.291271"
      ]
     },
     "execution_count": 122,
     "metadata": {},
     "output_type": "execute_result"
    }
   ],
   "source": [
    "Performance.sort_values('MSE')"
   ]
  },
  {
   "cell_type": "markdown",
   "metadata": {},
   "source": [
    "# Ridge"
   ]
  },
  {
   "cell_type": "code",
   "execution_count": 123,
   "metadata": {},
   "outputs": [],
   "source": [
    "X_train = data.iloc[:,:-1]\n",
    "X_test = data_test.iloc[:,:-1]"
   ]
  },
  {
   "cell_type": "code",
   "execution_count": 124,
   "metadata": {},
   "outputs": [],
   "source": [
    "X_train_std = stdsc.fit_transform(X_train)\n",
    "X_test_std = stdsc.transform(X_test)"
   ]
  },
  {
   "cell_type": "code",
   "execution_count": 125,
   "metadata": {},
   "outputs": [
    {
     "data": {
      "text/plain": [
       "GridSearchCV(cv=KFold(n_splits=5, random_state=None, shuffle=True),\n",
       "             estimator=Ridge(),\n",
       "             param_grid={'alpha': array([1.00000e-04, 1.00200e-01, 2.00300e-01, 3.00400e-01, 4.00500e-01,\n",
       "       5.00600e-01, 6.00700e-01, 7.00800e-01, 8.00900e-01, 9.01000e-01,\n",
       "       1.00110e+00, 1.10120e+00, 1.20130e+00, 1.30140e+00, 1.40150e+00,\n",
       "       1.50160e+00, 1.60170e+00, 1.70180e+00, 1.80190e+00, 1.90200e+00,...\n",
       "       9.70971e+01, 9.71972e+01, 9.72973e+01, 9.73974e+01, 9.74975e+01,\n",
       "       9.75976e+01, 9.76977e+01, 9.77978e+01, 9.78979e+01, 9.79980e+01,\n",
       "       9.80981e+01, 9.81982e+01, 9.82983e+01, 9.83984e+01, 9.84985e+01,\n",
       "       9.85986e+01, 9.86987e+01, 9.87988e+01, 9.88989e+01, 9.89990e+01,\n",
       "       9.90991e+01, 9.91992e+01, 9.92993e+01, 9.93994e+01, 9.94995e+01,\n",
       "       9.95996e+01, 9.96997e+01, 9.97998e+01, 9.98999e+01, 1.00000e+02])})"
      ]
     },
     "execution_count": 125,
     "metadata": {},
     "output_type": "execute_result"
    }
   ],
   "source": [
    "parameters = {'alpha' : np.linspace(0.0001,100,1000)}\n",
    "ridge = Ridge()\n",
    "clf = GridSearchCV(ridge, parameters, cv=cv)\n",
    "clf.fit(X_train_std,y_train)"
   ]
  },
  {
   "cell_type": "code",
   "execution_count": 126,
   "metadata": {},
   "outputs": [
    {
     "data": {
      "text/plain": [
       "{'alpha': 0.1002}"
      ]
     },
     "execution_count": 126,
     "metadata": {},
     "output_type": "execute_result"
    }
   ],
   "source": [
    "# get the best performing combo\n",
    "clf.best_params_"
   ]
  },
  {
   "cell_type": "code",
   "execution_count": 127,
   "metadata": {},
   "outputs": [],
   "source": [
    "ridge=Ridge(alpha=0.1002)"
   ]
  },
  {
   "cell_type": "code",
   "execution_count": 128,
   "metadata": {},
   "outputs": [
    {
     "data": {
      "text/plain": [
       "Ridge(alpha=0.1002)"
      ]
     },
     "execution_count": 128,
     "metadata": {},
     "output_type": "execute_result"
    }
   ],
   "source": [
    "ridge.fit(X_train_std, y_train)"
   ]
  },
  {
   "cell_type": "code",
   "execution_count": 129,
   "metadata": {},
   "outputs": [
    {
     "data": {
      "text/plain": [
       "2.1866104094730394"
      ]
     },
     "execution_count": 129,
     "metadata": {},
     "output_type": "execute_result"
    }
   ],
   "source": [
    "MSE_ridge = -np.mean(cross_val_score(ridge, X_test_std, y_test, scoring='neg_mean_absolute_error'))\n",
    "MSE_ridge"
   ]
  },
  {
   "cell_type": "code",
   "execution_count": 130,
   "metadata": {},
   "outputs": [],
   "source": [
    "Performance.loc[-1] = ['Ridge (alpha=0.1002)', len(X_test.columns), MSE_ridge]\n",
    "Performance.index = Performance.index + 1"
   ]
  },
  {
   "cell_type": "code",
   "execution_count": 131,
   "metadata": {},
   "outputs": [
    {
     "data": {
      "text/plain": [
       "Text(0.5, 1.0, 'Obesity Rates, %')"
      ]
     },
     "execution_count": 131,
     "metadata": {},
     "output_type": "execute_result"
    },
    {
     "data": {
      "image/png": "[encoded data removed]",
      "text/plain": [
       "<Figure size 432x288 with 1 Axes>"
      ]
     },
     "metadata": {
      "needs_background": "light"
     },
     "output_type": "display_data"
    }
   ],
   "source": [
    "fit = np.polyfit(y_test,ridge.predict(X_test_std),1)\n",
    "fit_fn = np.poly1d(fit) \n",
    "\n",
    "plt.plot(y_test,ridge.predict(X_test_std), 'rd', y_test, fit_fn(y_test), '--k')\n",
    "plt.xlabel('Actual obesity rate, %')\n",
    "plt.ylabel('Predicted obesity rate, %')\n",
    "plt.title('Obesity Rates, %')"
   ]
  },
  {
   "cell_type": "markdown",
   "metadata": {},
   "source": [
    "# PCA"
   ]
  },
  {
   "cell_type": "code",
   "execution_count": 132,
   "metadata": {},
   "outputs": [],
   "source": [
    "from sklearn.decomposition import PCA\n",
    "from sklearn.preprocessing import scale"
   ]
  },
  {
   "cell_type": "code",
   "execution_count": 133,
   "metadata": {},
   "outputs": [],
   "source": [
    "X_train = data.iloc[:,:-1]\n",
    "X_test = data_test.iloc[:,:-1]"
   ]
  },
  {
   "cell_type": "code",
   "execution_count": 134,
   "metadata": {},
   "outputs": [],
   "source": [
    "pca = PCA()"
   ]
  },
  {
   "cell_type": "code",
   "execution_count": 135,
   "metadata": {},
   "outputs": [
    {
     "data": {
      "text/plain": [
       "array([[-2.25177265e+00,  2.88249836e-01, -1.58422847e+00, ...,\n",
       "        -5.99860805e-02, -2.33223537e-02, -1.41033819e-02],\n",
       "       [-3.62219754e+00, -2.71678391e+00, -6.85826123e-01, ...,\n",
       "        -1.55285829e-01,  1.73218892e-02,  1.08670581e-02],\n",
       "       [ 2.82431705e+00,  2.00725029e+00, -3.69954613e-01, ...,\n",
       "         1.82676412e-03,  3.34571760e-03, -8.82811647e-03],\n",
       "       ...,\n",
       "       [-1.04480548e+00,  7.89982904e-01, -2.67493177e+00, ...,\n",
       "        -3.16957498e-02, -3.50078833e-03,  3.12249831e-03],\n",
       "       [-2.56225445e-01, -1.40652382e-01, -1.33639169e+00, ...,\n",
       "        -2.84724242e-02, -1.05731863e-03,  1.59834815e-02],\n",
       "       [ 1.99414734e+00,  9.00313979e-01,  3.30686139e-01, ...,\n",
       "        -4.97809631e-02,  2.13136448e-02, -4.99970658e-03]])"
      ]
     },
     "execution_count": 135,
     "metadata": {},
     "output_type": "execute_result"
    }
   ],
   "source": [
    "pca.fit_transform(scale(X_train))"
   ]
  },
  {
   "cell_type": "code",
   "execution_count": 136,
   "metadata": {},
   "outputs": [
    {
     "name": "stdout",
     "output_type": "stream",
     "text": [
      "Explained Variance: [1.51405579e-01 1.09917791e-01 7.76958474e-02 5.82435818e-02\n",
      " 4.26815005e-02 3.95106928e-02 3.36884011e-02 3.11113104e-02\n",
      " 3.00305284e-02 2.62582561e-02 2.22774691e-02 2.05175764e-02\n",
      " 1.82054306e-02 1.80064548e-02 1.72577584e-02 1.64185731e-02\n",
      " 1.53159054e-02 1.48004371e-02 1.37948493e-02 1.34636768e-02\n",
      " 1.27380902e-02 1.24670309e-02 1.21821960e-02 1.20517376e-02\n",
      " 1.12351770e-02 1.06533302e-02 1.02785644e-02 9.83040954e-03\n",
      " 9.59416523e-03 9.05374439e-03 8.72674189e-03 8.49428938e-03\n",
      " 8.13297818e-03 7.71439786e-03 7.41879017e-03 7.14384434e-03\n",
      " 6.48638083e-03 6.17700067e-03 5.73903242e-03 5.55195094e-03\n",
      " 5.39677476e-03 5.18104547e-03 4.84321528e-03 4.44047542e-03\n",
      " 4.31382943e-03 4.10172100e-03 3.67354013e-03 3.41443404e-03\n",
      " 2.52564197e-03 1.80418004e-03 1.56325128e-03 1.36721292e-03\n",
      " 1.14014285e-03 9.31734641e-04 8.58589754e-04 6.46201252e-04\n",
      " 4.14233848e-04 3.91926104e-04 3.04146916e-04 2.61809724e-04\n",
      " 1.20503497e-04 2.49022731e-05 9.01574334e-06]\n"
     ]
    }
   ],
   "source": [
    "print((\"Explained Variance: %s\") % (pca.explained_variance_ratio_))"
   ]
  },
  {
   "cell_type": "code",
   "execution_count": 137,
   "metadata": {},
   "outputs": [
    {
     "name": "stdout",
     "output_type": "stream",
     "text": [
      "Explained Variance: (% cumulative)\n"
     ]
    },
    {
     "data": {
      "text/plain": [
       "array([15.14, 26.13, 33.9 , 39.72, 43.99, 47.94, 51.31, 54.42, 57.42,\n",
       "       60.05, 62.28, 64.33, 66.15, 67.95, 69.68, 71.32, 72.85, 74.33,\n",
       "       75.71, 77.06, 78.33, 79.58, 80.8 , 82.01, 83.13, 84.2 , 85.23,\n",
       "       86.21, 87.17, 88.08, 88.95, 89.8 , 90.61, 91.38, 92.12, 92.83,\n",
       "       93.48, 94.1 , 94.67, 95.23, 95.77, 96.29, 96.77, 97.21, 97.64,\n",
       "       98.05, 98.42, 98.76, 99.01, 99.19, 99.35, 99.49, 99.6 , 99.69,\n",
       "       99.78, 99.84, 99.88, 99.92, 99.95, 99.98, 99.99, 99.99, 99.99])"
      ]
     },
     "execution_count": 137,
     "metadata": {},
     "output_type": "execute_result"
    }
   ],
   "source": [
    "print (\"Explained Variance: (% cumulative)\")\n",
    "np.cumsum(np.round(pca.explained_variance_ratio_, decimals=4)*100)"
   ]
  },
  {
   "cell_type": "code",
   "execution_count": 138,
   "metadata": {},
   "outputs": [
    {
     "data": {
      "text/plain": [
       "<matplotlib.collections.LineCollection at 0x2486fecfc10>"
      ]
     },
     "execution_count": 138,
     "metadata": {},
     "output_type": "execute_result"
    },
    {
     "data": {
      "image/png": "[encoded data removed]",
      "text/plain": [
       "<Figure size 432x288 with 1 Axes>"
      ]
     },
     "metadata": {
      "needs_background": "light"
     },
     "output_type": "display_data"
    }
   ],
   "source": [
    "plt.plot(range(63), pca.explained_variance_ratio_)\n",
    "plt.xlabel('Number of principal components')\n",
    "plt.ylabel('Variance')\n",
    "plt.title('Explained Variance Ratio',size=16)\n",
    "plt.vlines(x=10, ymin=0, ymax=0.16,colors='yellow')"
   ]
  },
  {
   "cell_type": "code",
   "execution_count": 139,
   "metadata": {},
   "outputs": [],
   "source": [
    "# test lasso with PCA - Mason's advice\n",
    "\n",
    "X_train = data.iloc[:,:-1]\n",
    "X_test = data_test.iloc[:,:-1]\n",
    "\n",
    "X_train_std = stdsc.fit_transform(X_train)\n",
    "X_test_std = stdsc.transform(X_test)"
   ]
  },
  {
   "cell_type": "code",
   "execution_count": 140,
   "metadata": {},
   "outputs": [],
   "source": [
    "# to transform X_train and X_test\n",
    "pca = PCA(n_components=10)\n",
    "X_train_transformed = pca.fit_transform(X_train_std)\n",
    "X_test_transformed = pca.transform(X_test_std)"
   ]
  },
  {
   "cell_type": "code",
   "execution_count": 141,
   "metadata": {},
   "outputs": [],
   "source": [
    "# now you can fit the lasso and test performance\n",
    "lasso = Lasso(alpha = 0.0001)"
   ]
  },
  {
   "cell_type": "code",
   "execution_count": 142,
   "metadata": {},
   "outputs": [
    {
     "data": {
      "text/plain": [
       "Lasso(alpha=0.0001)"
      ]
     },
     "execution_count": 142,
     "metadata": {},
     "output_type": "execute_result"
    }
   ],
   "source": [
    "lasso.fit(X_train_transformed, y_train)"
   ]
  },
  {
   "cell_type": "code",
   "execution_count": 143,
   "metadata": {},
   "outputs": [
    {
     "data": {
      "text/plain": [
       "7.241702002547652"
      ]
     },
     "execution_count": 143,
     "metadata": {},
     "output_type": "execute_result"
    }
   ],
   "source": [
    "MSE_pca_lasso_train = -np.mean(cross_val_score(lasso, X_train_transformed, y_train, scoring='neg_mean_squared_error', cv=cv))\n",
    "MSE_pca_lasso_train"
   ]
  },
  {
   "cell_type": "code",
   "execution_count": 144,
   "metadata": {},
   "outputs": [
    {
     "data": {
      "text/plain": [
       "10.07467499611622"
      ]
     },
     "execution_count": 144,
     "metadata": {},
     "output_type": "execute_result"
    }
   ],
   "source": [
    "MSE_pca_lasso = -np.mean(cross_val_score(lasso, X_test_transformed, y_test, scoring='neg_mean_squared_error', cv=cv))\n",
    "MSE_pca_lasso"
   ]
  },
  {
   "cell_type": "code",
   "execution_count": 145,
   "metadata": {},
   "outputs": [],
   "source": [
    "Performance.loc[-1] = ['Principal Component Lasso', len(X_test_transformed), MSE_pca_lasso]\n",
    "Performance.index = Performance.index + 1 "
   ]
  },
  {
   "cell_type": "code",
   "execution_count": 146,
   "metadata": {},
   "outputs": [
    {
     "data": {
      "text/plain": [
       "Text(0.5, 1.0, 'Obesity Rates, %')"
      ]
     },
     "execution_count": 146,
     "metadata": {},
     "output_type": "execute_result"
    },
    {
     "data": {
      "image/png": "[encoded data removed]",
      "text/plain": [
       "<Figure size 432x288 with 1 Axes>"
      ]
     },
     "metadata": {
      "needs_background": "light"
     },
     "output_type": "display_data"
    }
   ],
   "source": [
    "fit = np.polyfit(y_test,lasso.predict(X_test_transformed),1)\n",
    "fit_fn = np.poly1d(fit) \n",
    "\n",
    "plt.plot(y_test,lasso.predict(X_test_transformed), 'rd', y_test, fit_fn(y_test), '--k')\n",
    "plt.xlabel('Actual obesity rate, %')\n",
    "plt.ylabel('Predicted obesity rate, %')\n",
    "plt.title('Obesity Rates, %')"
   ]
  },
  {
   "cell_type": "markdown",
   "metadata": {},
   "source": [
    "# Feature selection tests"
   ]
  },
  {
   "cell_type": "markdown",
   "metadata": {},
   "source": [
    "# Recursive Feature Elimination for Linear Regression"
   ]
  },
  {
   "cell_type": "code",
   "execution_count": 147,
   "metadata": {},
   "outputs": [
    {
     "name": "stderr",
     "output_type": "stream",
     "text": [
      "C:\\Anaconda\\lib\\site-packages\\sklearn\\utils\\validation.py:67: FutureWarning: Pass n_features_to_select=1 as keyword args. From version 0.25 passing these as positional arguments will result in an error\n",
      "  warnings.warn(\"Pass {} as keyword args. From version 0.25 \"\n",
      "C:\\Anaconda\\lib\\site-packages\\sklearn\\utils\\validation.py:67: FutureWarning: Pass n_features_to_select=2 as keyword args. From version 0.25 passing these as positional arguments will result in an error\n",
      "  warnings.warn(\"Pass {} as keyword args. From version 0.25 \"\n",
      "C:\\Anaconda\\lib\\site-packages\\sklearn\\utils\\validation.py:67: FutureWarning: Pass n_features_to_select=3 as keyword args. From version 0.25 passing these as positional arguments will result in an error\n",
      "  warnings.warn(\"Pass {} as keyword args. From version 0.25 \"\n",
      "C:\\Anaconda\\lib\\site-packages\\sklearn\\utils\\validation.py:67: FutureWarning: Pass n_features_to_select=4 as keyword args. From version 0.25 passing these as positional arguments will result in an error\n",
      "  warnings.warn(\"Pass {} as keyword args. From version 0.25 \"\n",
      "C:\\Anaconda\\lib\\site-packages\\sklearn\\utils\\validation.py:67: FutureWarning: Pass n_features_to_select=5 as keyword args. From version 0.25 passing these as positional arguments will result in an error\n",
      "  warnings.warn(\"Pass {} as keyword args. From version 0.25 \"\n",
      "C:\\Anaconda\\lib\\site-packages\\sklearn\\utils\\validation.py:67: FutureWarning: Pass n_features_to_select=6 as keyword args. From version 0.25 passing these as positional arguments will result in an error\n",
      "  warnings.warn(\"Pass {} as keyword args. From version 0.25 \"\n",
      "C:\\Anaconda\\lib\\site-packages\\sklearn\\utils\\validation.py:67: FutureWarning: Pass n_features_to_select=7 as keyword args. From version 0.25 passing these as positional arguments will result in an error\n",
      "  warnings.warn(\"Pass {} as keyword args. From version 0.25 \"\n",
      "C:\\Anaconda\\lib\\site-packages\\sklearn\\utils\\validation.py:67: FutureWarning: Pass n_features_to_select=8 as keyword args. From version 0.25 passing these as positional arguments will result in an error\n",
      "  warnings.warn(\"Pass {} as keyword args. From version 0.25 \"\n",
      "C:\\Anaconda\\lib\\site-packages\\sklearn\\utils\\validation.py:67: FutureWarning: Pass n_features_to_select=9 as keyword args. From version 0.25 passing these as positional arguments will result in an error\n",
      "  warnings.warn(\"Pass {} as keyword args. From version 0.25 \"\n",
      "C:\\Anaconda\\lib\\site-packages\\sklearn\\utils\\validation.py:67: FutureWarning: Pass n_features_to_select=10 as keyword args. From version 0.25 passing these as positional arguments will result in an error\n",
      "  warnings.warn(\"Pass {} as keyword args. From version 0.25 \"\n",
      "C:\\Anaconda\\lib\\site-packages\\sklearn\\utils\\validation.py:67: FutureWarning: Pass n_features_to_select=11 as keyword args. From version 0.25 passing these as positional arguments will result in an error\n",
      "  warnings.warn(\"Pass {} as keyword args. From version 0.25 \"\n",
      "C:\\Anaconda\\lib\\site-packages\\sklearn\\utils\\validation.py:67: FutureWarning: Pass n_features_to_select=12 as keyword args. From version 0.25 passing these as positional arguments will result in an error\n",
      "  warnings.warn(\"Pass {} as keyword args. From version 0.25 \"\n",
      "C:\\Anaconda\\lib\\site-packages\\sklearn\\utils\\validation.py:67: FutureWarning: Pass n_features_to_select=13 as keyword args. From version 0.25 passing these as positional arguments will result in an error\n",
      "  warnings.warn(\"Pass {} as keyword args. From version 0.25 \"\n",
      "C:\\Anaconda\\lib\\site-packages\\sklearn\\utils\\validation.py:67: FutureWarning: Pass n_features_to_select=14 as keyword args. From version 0.25 passing these as positional arguments will result in an error\n",
      "  warnings.warn(\"Pass {} as keyword args. From version 0.25 \"\n",
      "C:\\Anaconda\\lib\\site-packages\\sklearn\\utils\\validation.py:67: FutureWarning: Pass n_features_to_select=15 as keyword args. From version 0.25 passing these as positional arguments will result in an error\n",
      "  warnings.warn(\"Pass {} as keyword args. From version 0.25 \"\n",
      "C:\\Anaconda\\lib\\site-packages\\sklearn\\utils\\validation.py:67: FutureWarning: Pass n_features_to_select=16 as keyword args. From version 0.25 passing these as positional arguments will result in an error\n",
      "  warnings.warn(\"Pass {} as keyword args. From version 0.25 \"\n",
      "C:\\Anaconda\\lib\\site-packages\\sklearn\\utils\\validation.py:67: FutureWarning: Pass n_features_to_select=17 as keyword args. From version 0.25 passing these as positional arguments will result in an error\n",
      "  warnings.warn(\"Pass {} as keyword args. From version 0.25 \"\n",
      "C:\\Anaconda\\lib\\site-packages\\sklearn\\utils\\validation.py:67: FutureWarning: Pass n_features_to_select=18 as keyword args. From version 0.25 passing these as positional arguments will result in an error\n",
      "  warnings.warn(\"Pass {} as keyword args. From version 0.25 \"\n",
      "C:\\Anaconda\\lib\\site-packages\\sklearn\\utils\\validation.py:67: FutureWarning: Pass n_features_to_select=19 as keyword args. From version 0.25 passing these as positional arguments will result in an error\n",
      "  warnings.warn(\"Pass {} as keyword args. From version 0.25 \"\n",
      "C:\\Anaconda\\lib\\site-packages\\sklearn\\utils\\validation.py:67: FutureWarning: Pass n_features_to_select=20 as keyword args. From version 0.25 passing these as positional arguments will result in an error\n",
      "  warnings.warn(\"Pass {} as keyword args. From version 0.25 \"\n",
      "C:\\Anaconda\\lib\\site-packages\\sklearn\\utils\\validation.py:67: FutureWarning: Pass n_features_to_select=21 as keyword args. From version 0.25 passing these as positional arguments will result in an error\n",
      "  warnings.warn(\"Pass {} as keyword args. From version 0.25 \"\n",
      "C:\\Anaconda\\lib\\site-packages\\sklearn\\utils\\validation.py:67: FutureWarning: Pass n_features_to_select=22 as keyword args. From version 0.25 passing these as positional arguments will result in an error\n",
      "  warnings.warn(\"Pass {} as keyword args. From version 0.25 \"\n",
      "C:\\Anaconda\\lib\\site-packages\\sklearn\\utils\\validation.py:67: FutureWarning: Pass n_features_to_select=23 as keyword args. From version 0.25 passing these as positional arguments will result in an error\n",
      "  warnings.warn(\"Pass {} as keyword args. From version 0.25 \"\n",
      "C:\\Anaconda\\lib\\site-packages\\sklearn\\utils\\validation.py:67: FutureWarning: Pass n_features_to_select=24 as keyword args. From version 0.25 passing these as positional arguments will result in an error\n",
      "  warnings.warn(\"Pass {} as keyword args. From version 0.25 \"\n",
      "C:\\Anaconda\\lib\\site-packages\\sklearn\\utils\\validation.py:67: FutureWarning: Pass n_features_to_select=25 as keyword args. From version 0.25 passing these as positional arguments will result in an error\n",
      "  warnings.warn(\"Pass {} as keyword args. From version 0.25 \"\n",
      "C:\\Anaconda\\lib\\site-packages\\sklearn\\utils\\validation.py:67: FutureWarning: Pass n_features_to_select=26 as keyword args. From version 0.25 passing these as positional arguments will result in an error\n",
      "  warnings.warn(\"Pass {} as keyword args. From version 0.25 \"\n",
      "C:\\Anaconda\\lib\\site-packages\\sklearn\\utils\\validation.py:67: FutureWarning: Pass n_features_to_select=27 as keyword args. From version 0.25 passing these as positional arguments will result in an error\n",
      "  warnings.warn(\"Pass {} as keyword args. From version 0.25 \"\n",
      "C:\\Anaconda\\lib\\site-packages\\sklearn\\utils\\validation.py:67: FutureWarning: Pass n_features_to_select=28 as keyword args. From version 0.25 passing these as positional arguments will result in an error\n",
      "  warnings.warn(\"Pass {} as keyword args. From version 0.25 \"\n",
      "C:\\Anaconda\\lib\\site-packages\\sklearn\\utils\\validation.py:67: FutureWarning: Pass n_features_to_select=29 as keyword args. From version 0.25 passing these as positional arguments will result in an error\n",
      "  warnings.warn(\"Pass {} as keyword args. From version 0.25 \"\n",
      "C:\\Anaconda\\lib\\site-packages\\sklearn\\utils\\validation.py:67: FutureWarning: Pass n_features_to_select=30 as keyword args. From version 0.25 passing these as positional arguments will result in an error\n",
      "  warnings.warn(\"Pass {} as keyword args. From version 0.25 \"\n",
      "C:\\Anaconda\\lib\\site-packages\\sklearn\\utils\\validation.py:67: FutureWarning: Pass n_features_to_select=31 as keyword args. From version 0.25 passing these as positional arguments will result in an error\n",
      "  warnings.warn(\"Pass {} as keyword args. From version 0.25 \"\n"
     ]
    },
    {
     "name": "stderr",
     "output_type": "stream",
     "text": [
      "C:\\Anaconda\\lib\\site-packages\\sklearn\\utils\\validation.py:67: FutureWarning: Pass n_features_to_select=32 as keyword args. From version 0.25 passing these as positional arguments will result in an error\n",
      "  warnings.warn(\"Pass {} as keyword args. From version 0.25 \"\n",
      "C:\\Anaconda\\lib\\site-packages\\sklearn\\utils\\validation.py:67: FutureWarning: Pass n_features_to_select=33 as keyword args. From version 0.25 passing these as positional arguments will result in an error\n",
      "  warnings.warn(\"Pass {} as keyword args. From version 0.25 \"\n",
      "C:\\Anaconda\\lib\\site-packages\\sklearn\\utils\\validation.py:67: FutureWarning: Pass n_features_to_select=34 as keyword args. From version 0.25 passing these as positional arguments will result in an error\n",
      "  warnings.warn(\"Pass {} as keyword args. From version 0.25 \"\n",
      "C:\\Anaconda\\lib\\site-packages\\sklearn\\utils\\validation.py:67: FutureWarning: Pass n_features_to_select=35 as keyword args. From version 0.25 passing these as positional arguments will result in an error\n",
      "  warnings.warn(\"Pass {} as keyword args. From version 0.25 \"\n",
      "C:\\Anaconda\\lib\\site-packages\\sklearn\\utils\\validation.py:67: FutureWarning: Pass n_features_to_select=36 as keyword args. From version 0.25 passing these as positional arguments will result in an error\n",
      "  warnings.warn(\"Pass {} as keyword args. From version 0.25 \"\n",
      "C:\\Anaconda\\lib\\site-packages\\sklearn\\utils\\validation.py:67: FutureWarning: Pass n_features_to_select=37 as keyword args. From version 0.25 passing these as positional arguments will result in an error\n",
      "  warnings.warn(\"Pass {} as keyword args. From version 0.25 \"\n",
      "C:\\Anaconda\\lib\\site-packages\\sklearn\\utils\\validation.py:67: FutureWarning: Pass n_features_to_select=38 as keyword args. From version 0.25 passing these as positional arguments will result in an error\n",
      "  warnings.warn(\"Pass {} as keyword args. From version 0.25 \"\n",
      "C:\\Anaconda\\lib\\site-packages\\sklearn\\utils\\validation.py:67: FutureWarning: Pass n_features_to_select=39 as keyword args. From version 0.25 passing these as positional arguments will result in an error\n",
      "  warnings.warn(\"Pass {} as keyword args. From version 0.25 \"\n",
      "C:\\Anaconda\\lib\\site-packages\\sklearn\\utils\\validation.py:67: FutureWarning: Pass n_features_to_select=40 as keyword args. From version 0.25 passing these as positional arguments will result in an error\n",
      "  warnings.warn(\"Pass {} as keyword args. From version 0.25 \"\n",
      "C:\\Anaconda\\lib\\site-packages\\sklearn\\utils\\validation.py:67: FutureWarning: Pass n_features_to_select=41 as keyword args. From version 0.25 passing these as positional arguments will result in an error\n",
      "  warnings.warn(\"Pass {} as keyword args. From version 0.25 \"\n",
      "C:\\Anaconda\\lib\\site-packages\\sklearn\\utils\\validation.py:67: FutureWarning: Pass n_features_to_select=42 as keyword args. From version 0.25 passing these as positional arguments will result in an error\n",
      "  warnings.warn(\"Pass {} as keyword args. From version 0.25 \"\n",
      "C:\\Anaconda\\lib\\site-packages\\sklearn\\utils\\validation.py:67: FutureWarning: Pass n_features_to_select=43 as keyword args. From version 0.25 passing these as positional arguments will result in an error\n",
      "  warnings.warn(\"Pass {} as keyword args. From version 0.25 \"\n",
      "C:\\Anaconda\\lib\\site-packages\\sklearn\\utils\\validation.py:67: FutureWarning: Pass n_features_to_select=44 as keyword args. From version 0.25 passing these as positional arguments will result in an error\n",
      "  warnings.warn(\"Pass {} as keyword args. From version 0.25 \"\n",
      "C:\\Anaconda\\lib\\site-packages\\sklearn\\utils\\validation.py:67: FutureWarning: Pass n_features_to_select=45 as keyword args. From version 0.25 passing these as positional arguments will result in an error\n",
      "  warnings.warn(\"Pass {} as keyword args. From version 0.25 \"\n",
      "C:\\Anaconda\\lib\\site-packages\\sklearn\\utils\\validation.py:67: FutureWarning: Pass n_features_to_select=46 as keyword args. From version 0.25 passing these as positional arguments will result in an error\n",
      "  warnings.warn(\"Pass {} as keyword args. From version 0.25 \"\n",
      "C:\\Anaconda\\lib\\site-packages\\sklearn\\utils\\validation.py:67: FutureWarning: Pass n_features_to_select=47 as keyword args. From version 0.25 passing these as positional arguments will result in an error\n",
      "  warnings.warn(\"Pass {} as keyword args. From version 0.25 \"\n",
      "C:\\Anaconda\\lib\\site-packages\\sklearn\\utils\\validation.py:67: FutureWarning: Pass n_features_to_select=48 as keyword args. From version 0.25 passing these as positional arguments will result in an error\n",
      "  warnings.warn(\"Pass {} as keyword args. From version 0.25 \"\n",
      "C:\\Anaconda\\lib\\site-packages\\sklearn\\utils\\validation.py:67: FutureWarning: Pass n_features_to_select=49 as keyword args. From version 0.25 passing these as positional arguments will result in an error\n",
      "  warnings.warn(\"Pass {} as keyword args. From version 0.25 \"\n",
      "C:\\Anaconda\\lib\\site-packages\\sklearn\\utils\\validation.py:67: FutureWarning: Pass n_features_to_select=50 as keyword args. From version 0.25 passing these as positional arguments will result in an error\n",
      "  warnings.warn(\"Pass {} as keyword args. From version 0.25 \"\n",
      "C:\\Anaconda\\lib\\site-packages\\sklearn\\utils\\validation.py:67: FutureWarning: Pass n_features_to_select=51 as keyword args. From version 0.25 passing these as positional arguments will result in an error\n",
      "  warnings.warn(\"Pass {} as keyword args. From version 0.25 \"\n",
      "C:\\Anaconda\\lib\\site-packages\\sklearn\\utils\\validation.py:67: FutureWarning: Pass n_features_to_select=52 as keyword args. From version 0.25 passing these as positional arguments will result in an error\n",
      "  warnings.warn(\"Pass {} as keyword args. From version 0.25 \"\n",
      "C:\\Anaconda\\lib\\site-packages\\sklearn\\utils\\validation.py:67: FutureWarning: Pass n_features_to_select=53 as keyword args. From version 0.25 passing these as positional arguments will result in an error\n",
      "  warnings.warn(\"Pass {} as keyword args. From version 0.25 \"\n",
      "C:\\Anaconda\\lib\\site-packages\\sklearn\\utils\\validation.py:67: FutureWarning: Pass n_features_to_select=54 as keyword args. From version 0.25 passing these as positional arguments will result in an error\n",
      "  warnings.warn(\"Pass {} as keyword args. From version 0.25 \"\n",
      "C:\\Anaconda\\lib\\site-packages\\sklearn\\utils\\validation.py:67: FutureWarning: Pass n_features_to_select=55 as keyword args. From version 0.25 passing these as positional arguments will result in an error\n",
      "  warnings.warn(\"Pass {} as keyword args. From version 0.25 \"\n",
      "C:\\Anaconda\\lib\\site-packages\\sklearn\\utils\\validation.py:67: FutureWarning: Pass n_features_to_select=56 as keyword args. From version 0.25 passing these as positional arguments will result in an error\n",
      "  warnings.warn(\"Pass {} as keyword args. From version 0.25 \"\n",
      "C:\\Anaconda\\lib\\site-packages\\sklearn\\utils\\validation.py:67: FutureWarning: Pass n_features_to_select=57 as keyword args. From version 0.25 passing these as positional arguments will result in an error\n",
      "  warnings.warn(\"Pass {} as keyword args. From version 0.25 \"\n",
      "C:\\Anaconda\\lib\\site-packages\\sklearn\\utils\\validation.py:67: FutureWarning: Pass n_features_to_select=58 as keyword args. From version 0.25 passing these as positional arguments will result in an error\n",
      "  warnings.warn(\"Pass {} as keyword args. From version 0.25 \"\n",
      "C:\\Anaconda\\lib\\site-packages\\sklearn\\utils\\validation.py:67: FutureWarning: Pass n_features_to_select=59 as keyword args. From version 0.25 passing these as positional arguments will result in an error\n",
      "  warnings.warn(\"Pass {} as keyword args. From version 0.25 \"\n",
      "C:\\Anaconda\\lib\\site-packages\\sklearn\\utils\\validation.py:67: FutureWarning: Pass n_features_to_select=60 as keyword args. From version 0.25 passing these as positional arguments will result in an error\n",
      "  warnings.warn(\"Pass {} as keyword args. From version 0.25 \"\n",
      "C:\\Anaconda\\lib\\site-packages\\sklearn\\utils\\validation.py:67: FutureWarning: Pass n_features_to_select=61 as keyword args. From version 0.25 passing these as positional arguments will result in an error\n",
      "  warnings.warn(\"Pass {} as keyword args. From version 0.25 \"\n",
      "C:\\Anaconda\\lib\\site-packages\\sklearn\\utils\\validation.py:67: FutureWarning: Pass n_features_to_select=62 as keyword args. From version 0.25 passing these as positional arguments will result in an error\n",
      "  warnings.warn(\"Pass {} as keyword args. From version 0.25 \"\n",
      "C:\\Anaconda\\lib\\site-packages\\sklearn\\utils\\validation.py:67: FutureWarning: Pass n_features_to_select=63 as keyword args. From version 0.25 passing these as positional arguments will result in an error\n",
      "  warnings.warn(\"Pass {} as keyword args. From version 0.25 \"\n"
     ]
    }
   ],
   "source": [
    "from sklearn.feature_selection import RFE\n",
    "# load data\n",
    "\n",
    "X_train = data.iloc[:,:-1]\n",
    "X_test = data_test.iloc[:,:-1]\n",
    "\n",
    "X_train_std = stdsc.fit_transform(X_train)\n",
    "X_test_std = stdsc.transform(X_test)\n",
    "\n",
    "# feature extraction\n",
    "scores = []\n",
    "model = LinearRegression()\n",
    "for i in range(1,64):\n",
    "    rfe = RFE(model, i)\n",
    "    fit = rfe.fit(X_train_std, y_train)\n",
    "    score = -np.mean(cross_val_score(rfe, X_train_std, y_train, scoring='neg_mean_squared_error', cv=cv))\n",
    "    scores.append(score)"
   ]
  },
  {
   "cell_type": "code",
   "execution_count": 148,
   "metadata": {},
   "outputs": [],
   "source": [
    "scores = pd.DataFrame(scores, index=range(1,64),columns=[\"MSE\"])\n",
    "scores.index.name = 'N of Features'"
   ]
  },
  {
   "cell_type": "code",
   "execution_count": 149,
   "metadata": {},
   "outputs": [
    {
     "data": {
      "text/plain": [
       "Text(0.5, 1.0, 'N of Features vs. MSE')"
      ]
     },
     "execution_count": 149,
     "metadata": {},
     "output_type": "execute_result"
    },
    {
     "data": {
      "image/png": "[encoded data removed]",
      "text/plain": [
       "<Figure size 432x288 with 1 Axes>"
      ]
     },
     "metadata": {
      "needs_background": "light"
     },
     "output_type": "display_data"
    }
   ],
   "source": [
    "plt.plot(scores.index, scores.MSE)\n",
    "plt.xlabel('N of Features')\n",
    "plt.ylabel('MSE')\n",
    "plt.title('N of Features vs. MSE',size=14)"
   ]
  },
  {
   "cell_type": "code",
   "execution_count": 150,
   "metadata": {},
   "outputs": [],
   "source": [
    "feature_ranks = rfe.ranking_"
   ]
  },
  {
   "cell_type": "code",
   "execution_count": 151,
   "metadata": {},
   "outputs": [
    {
     "data": {
      "text/html": [
       "<div>\n",
       "<style scoped>\n",
       "    .dataframe tbody tr th:only-of-type {\n",
       "        vertical-align: middle;\n",
       "    }\n",
       "\n",
       "    .dataframe tbody tr th {\n",
       "        vertical-align: top;\n",
       "    }\n",
       "\n",
       "    .dataframe thead th {\n",
       "        text-align: right;\n",
       "    }\n",
       "</style>\n",
       "<table border=\"1\" class=\"dataframe\">\n",
       "  <thead>\n",
       "    <tr style=\"text-align: right;\">\n",
       "      <th></th>\n",
       "      <th>Feature</th>\n",
       "      <th>Rank</th>\n",
       "    </tr>\n",
       "  </thead>\n",
       "  <tbody>\n",
       "    <tr>\n",
       "      <th>0</th>\n",
       "      <td>PCT_LACCESS_POP10</td>\n",
       "      <td>1</td>\n",
       "    </tr>\n",
       "    <tr>\n",
       "      <th>33</th>\n",
       "      <td>SODA_PRICE10</td>\n",
       "      <td>1</td>\n",
       "    </tr>\n",
       "    <tr>\n",
       "      <th>34</th>\n",
       "      <td>MILK_SODA_PRICE10</td>\n",
       "      <td>1</td>\n",
       "    </tr>\n",
       "    <tr>\n",
       "      <th>35</th>\n",
       "      <td>PCT_LOCLFARM07</td>\n",
       "      <td>1</td>\n",
       "    </tr>\n",
       "    <tr>\n",
       "      <th>36</th>\n",
       "      <td>FMRKTPTH09</td>\n",
       "      <td>1</td>\n",
       "    </tr>\n",
       "    <tr>\n",
       "      <th>...</th>\n",
       "      <td>...</td>\n",
       "      <td>...</td>\n",
       "    </tr>\n",
       "    <tr>\n",
       "      <th>26</th>\n",
       "      <td>PCT_SFSP09</td>\n",
       "      <td>1</td>\n",
       "    </tr>\n",
       "    <tr>\n",
       "      <th>27</th>\n",
       "      <td>PCT_WIC09</td>\n",
       "      <td>1</td>\n",
       "    </tr>\n",
       "    <tr>\n",
       "      <th>28</th>\n",
       "      <td>PCT_CACFP09</td>\n",
       "      <td>1</td>\n",
       "    </tr>\n",
       "    <tr>\n",
       "      <th>15</th>\n",
       "      <td>PCT_SNAP09</td>\n",
       "      <td>1</td>\n",
       "    </tr>\n",
       "    <tr>\n",
       "      <th>62</th>\n",
       "      <td>POPLOSS00</td>\n",
       "      <td>1</td>\n",
       "    </tr>\n",
       "  </tbody>\n",
       "</table>\n",
       "<p>63 rows × 2 columns</p>\n",
       "</div>"
      ],
      "text/plain": [
       "              Feature  Rank\n",
       "0   PCT_LACCESS_POP10     1\n",
       "33       SODA_PRICE10     1\n",
       "34  MILK_SODA_PRICE10     1\n",
       "35     PCT_LOCLFARM07     1\n",
       "36         FMRKTPTH09     1\n",
       "..                ...   ...\n",
       "26         PCT_SFSP09     1\n",
       "27          PCT_WIC09     1\n",
       "28        PCT_CACFP09     1\n",
       "15         PCT_SNAP09     1\n",
       "62          POPLOSS00     1\n",
       "\n",
       "[63 rows x 2 columns]"
      ]
     },
     "execution_count": 151,
     "metadata": {},
     "output_type": "execute_result"
    }
   ],
   "source": [
    "ranked_features = pd.DataFrame({'Feature':X_train.columns,'Rank':feature_ranks})\n",
    "ranked_features.sort_values('Rank',ascending=True,inplace=True)\n",
    "ranked_features"
   ]
  },
  {
   "cell_type": "code",
   "execution_count": 152,
   "metadata": {},
   "outputs": [
    {
     "data": {
      "text/plain": [
       "Feature    PCT_LACCESS_POP10SODA_PRICE10MILK_SODA_PRICE10...\n",
       "Rank                                                      63\n",
       "dtype: object"
      ]
     },
     "execution_count": 152,
     "metadata": {},
     "output_type": "execute_result"
    }
   ],
   "source": [
    "ranked_features[ranked_features.Rank<=1].sum()"
   ]
  },
  {
   "cell_type": "code",
   "execution_count": 153,
   "metadata": {},
   "outputs": [],
   "source": [
    "top_features = ranked_features[ranked_features.Rank<=1]['Feature'].values"
   ]
  },
  {
   "cell_type": "code",
   "execution_count": 154,
   "metadata": {},
   "outputs": [
    {
     "data": {
      "text/plain": [
       "0     PCT_LACCESS_POP10\n",
       "33         SODA_PRICE10\n",
       "34    MILK_SODA_PRICE10\n",
       "35       PCT_LOCLFARM07\n",
       "36           FMRKTPTH09\n",
       "            ...        \n",
       "26           PCT_SFSP09\n",
       "27            PCT_WIC09\n",
       "28          PCT_CACFP09\n",
       "15           PCT_SNAP09\n",
       "62            POPLOSS00\n",
       "Name: Feature, Length: 63, dtype: object"
      ]
     },
     "execution_count": 154,
     "metadata": {},
     "output_type": "execute_result"
    }
   ],
   "source": [
    "ranked_features[ranked_features.Rank<=1]['Feature']"
   ]
  },
  {
   "cell_type": "code",
   "execution_count": 155,
   "metadata": {},
   "outputs": [],
   "source": [
    "# test lasso with top features\n",
    "X_train = data[top_features]\n",
    "X_test = data_test[top_features]"
   ]
  },
  {
   "cell_type": "code",
   "execution_count": 156,
   "metadata": {},
   "outputs": [
    {
     "data": {
      "text/plain": [
       "GridSearchCV(cv=KFold(n_splits=5, random_state=None, shuffle=True),\n",
       "             estimator=Ridge(),\n",
       "             param_grid={'alpha': array([1.00000e-04, 1.00200e-01, 2.00300e-01, 3.00400e-01, 4.00500e-01,\n",
       "       5.00600e-01, 6.00700e-01, 7.00800e-01, 8.00900e-01, 9.01000e-01,\n",
       "       1.00110e+00, 1.10120e+00, 1.20130e+00, 1.30140e+00, 1.40150e+00,\n",
       "       1.50160e+00, 1.60170e+00, 1.70180e+00, 1.80190e+00, 1.90200e+00,...\n",
       "       9.70971e+01, 9.71972e+01, 9.72973e+01, 9.73974e+01, 9.74975e+01,\n",
       "       9.75976e+01, 9.76977e+01, 9.77978e+01, 9.78979e+01, 9.79980e+01,\n",
       "       9.80981e+01, 9.81982e+01, 9.82983e+01, 9.83984e+01, 9.84985e+01,\n",
       "       9.85986e+01, 9.86987e+01, 9.87988e+01, 9.88989e+01, 9.89990e+01,\n",
       "       9.90991e+01, 9.91992e+01, 9.92993e+01, 9.93994e+01, 9.94995e+01,\n",
       "       9.95996e+01, 9.96997e+01, 9.97998e+01, 9.98999e+01, 1.00000e+02])})"
      ]
     },
     "execution_count": 156,
     "metadata": {},
     "output_type": "execute_result"
    }
   ],
   "source": [
    "parameters = {'alpha' : np.linspace(0.0001,100,1000)}\n",
    "ridge = Ridge()\n",
    "clf = GridSearchCV(ridge, parameters, cv=cv)\n",
    "clf.fit(X_train_std,y_train)"
   ]
  },
  {
   "cell_type": "code",
   "execution_count": 157,
   "metadata": {},
   "outputs": [
    {
     "data": {
      "text/plain": [
       "{'alpha': 0.5005999999999999}"
      ]
     },
     "execution_count": 157,
     "metadata": {},
     "output_type": "execute_result"
    }
   ],
   "source": [
    "# get the best performing combo\n",
    "clf.best_params_"
   ]
  },
  {
   "cell_type": "code",
   "execution_count": 158,
   "metadata": {},
   "outputs": [],
   "source": [
    "ridge = Ridge(alpha=0.1002)"
   ]
  },
  {
   "cell_type": "code",
   "execution_count": 159,
   "metadata": {},
   "outputs": [
    {
     "data": {
      "text/plain": [
       "Ridge(alpha=0.1002)"
      ]
     },
     "execution_count": 159,
     "metadata": {},
     "output_type": "execute_result"
    }
   ],
   "source": [
    "ridge.fit(X_train_std,y_train)"
   ]
  },
  {
   "cell_type": "code",
   "execution_count": 160,
   "metadata": {},
   "outputs": [
    {
     "data": {
      "text/plain": [
       "2.1866104094730394"
      ]
     },
     "execution_count": 160,
     "metadata": {},
     "output_type": "execute_result"
    }
   ],
   "source": [
    "MSE_ridge_rfe = -np.mean(cross_val_score(ridge, X_test_std, y_test, scoring='neg_mean_absolute_error'))\n",
    "MSE_ridge_rfe"
   ]
  },
  {
   "cell_type": "code",
   "execution_count": 161,
   "metadata": {},
   "outputs": [
    {
     "data": {
      "text/plain": [
       "Text(0.5, 1.0, 'Obesity Rates, %')"
      ]
     },
     "execution_count": 161,
     "metadata": {},
     "output_type": "execute_result"
    },
    {
     "data": {
      "image/png": "[encoded data removed]",
      "text/plain": [
       "<Figure size 432x288 with 1 Axes>"
      ]
     },
     "metadata": {
      "needs_background": "light"
     },
     "output_type": "display_data"
    }
   ],
   "source": [
    "fit = np.polyfit(y_test,ridge.predict(X_test_std),1)\n",
    "fit_fn = np.poly1d(fit) \n",
    "\n",
    "plt.plot(y_test,ridge.predict(X_test_std), 'rd', y_test, fit_fn(y_test), '--k')\n",
    "plt.xlabel('Actual obesity rate, %')\n",
    "plt.ylabel('Predicted obesity rate, %')\n",
    "plt.title('Obesity Rates, %')"
   ]
  },
  {
   "cell_type": "code",
   "execution_count": 162,
   "metadata": {},
   "outputs": [],
   "source": [
    "# re-load data\n",
    "\n",
    "X_train = data.iloc[:,:-1]\n",
    "X_test = data_test.iloc[:,:-1]\n",
    "\n",
    "X_train_std = stdsc.fit_transform(X_train)\n",
    "X_test_std = stdsc.transform(X_test)"
   ]
  },
  {
   "cell_type": "code",
   "execution_count": 163,
   "metadata": {},
   "outputs": [],
   "source": [
    "model = LinearRegression()"
   ]
  },
  {
   "cell_type": "code",
   "execution_count": 164,
   "metadata": {},
   "outputs": [
    {
     "name": "stderr",
     "output_type": "stream",
     "text": [
      "C:\\Anaconda\\lib\\site-packages\\sklearn\\utils\\validation.py:67: FutureWarning: Pass n_features_to_select=20 as keyword args. From version 0.25 passing these as positional arguments will result in an error\n",
      "  warnings.warn(\"Pass {} as keyword args. From version 0.25 \"\n"
     ]
    }
   ],
   "source": [
    "# run the model with number of features = 20\n",
    "rfe = RFE(model,20)\n",
    "fit = rfe.fit(X_train_std, y_train)"
   ]
  },
  {
   "cell_type": "code",
   "execution_count": 165,
   "metadata": {},
   "outputs": [
    {
     "data": {
      "text/plain": [
       "2.213842164733234"
      ]
     },
     "execution_count": 165,
     "metadata": {},
     "output_type": "execute_result"
    }
   ],
   "source": [
    "MSE_rfe = -np.mean(cross_val_score(rfe, X_test_std, y_test, scoring='neg_mean_absolute_error'))\n",
    "MSE_rfe"
   ]
  },
  {
   "cell_type": "code",
   "execution_count": 166,
   "metadata": {},
   "outputs": [],
   "source": [
    "Performance.loc[-1] = ['Recursive feature elemination_lr', len(X_test.columns), MSE_rfe]\n",
    "Performance.index = Performance.index + 1 "
   ]
  },
  {
   "cell_type": "code",
   "execution_count": 167,
   "metadata": {},
   "outputs": [
    {
     "data": {
      "text/html": [
       "<div>\n",
       "<style scoped>\n",
       "    .dataframe tbody tr th:only-of-type {\n",
       "        vertical-align: middle;\n",
       "    }\n",
       "\n",
       "    .dataframe tbody tr th {\n",
       "        vertical-align: top;\n",
       "    }\n",
       "\n",
       "    .dataframe thead th {\n",
       "        text-align: right;\n",
       "    }\n",
       "</style>\n",
       "<table border=\"1\" class=\"dataframe\">\n",
       "  <thead>\n",
       "    <tr style=\"text-align: right;\">\n",
       "      <th></th>\n",
       "      <th>Model</th>\n",
       "      <th>n_features</th>\n",
       "      <th>MSE</th>\n",
       "    </tr>\n",
       "  </thead>\n",
       "  <tbody>\n",
       "    <tr>\n",
       "      <th>4</th>\n",
       "      <td>Lasso (alpha=0.0001)</td>\n",
       "      <td>63</td>\n",
       "      <td>2.185777</td>\n",
       "    </tr>\n",
       "    <tr>\n",
       "      <th>2</th>\n",
       "      <td>Ridge (alpha=0.1002)</td>\n",
       "      <td>63</td>\n",
       "      <td>2.186610</td>\n",
       "    </tr>\n",
       "    <tr>\n",
       "      <th>0</th>\n",
       "      <td>Recursive feature elemination_lr</td>\n",
       "      <td>63</td>\n",
       "      <td>2.213842</td>\n",
       "    </tr>\n",
       "    <tr>\n",
       "      <th>3</th>\n",
       "      <td>Lasso_non collinear_features</td>\n",
       "      <td>34</td>\n",
       "      <td>2.606125</td>\n",
       "    </tr>\n",
       "    <tr>\n",
       "      <th>9</th>\n",
       "      <td>Random Forest</td>\n",
       "      <td>63</td>\n",
       "      <td>5.587452</td>\n",
       "    </tr>\n",
       "    <tr>\n",
       "      <th>5</th>\n",
       "      <td>Linear Regression_no outliers</td>\n",
       "      <td>23</td>\n",
       "      <td>6.169952</td>\n",
       "    </tr>\n",
       "    <tr>\n",
       "      <th>6</th>\n",
       "      <td>Linear Regression</td>\n",
       "      <td>23</td>\n",
       "      <td>9.120051</td>\n",
       "    </tr>\n",
       "    <tr>\n",
       "      <th>1</th>\n",
       "      <td>Principal Component Lasso</td>\n",
       "      <td>784</td>\n",
       "      <td>10.074675</td>\n",
       "    </tr>\n",
       "    <tr>\n",
       "      <th>7</th>\n",
       "      <td>Linear Regression _all_features</td>\n",
       "      <td>63</td>\n",
       "      <td>11.291271</td>\n",
       "    </tr>\n",
       "  </tbody>\n",
       "</table>\n",
       "</div>"
      ],
      "text/plain": [
       "                              Model  n_features        MSE\n",
       "4              Lasso (alpha=0.0001)          63   2.185777\n",
       "2              Ridge (alpha=0.1002)          63   2.186610\n",
       "0  Recursive feature elemination_lr          63   2.213842\n",
       "3      Lasso_non collinear_features          34   2.606125\n",
       "9                     Random Forest          63   5.587452\n",
       "5     Linear Regression_no outliers          23   6.169952\n",
       "6                 Linear Regression          23   9.120051\n",
       "1         Principal Component Lasso         784  10.074675\n",
       "7   Linear Regression _all_features          63  11.291271"
      ]
     },
     "execution_count": 167,
     "metadata": {},
     "output_type": "execute_result"
    }
   ],
   "source": [
    "Performance.sort_values('MSE',ascending=True,inplace=True)\n",
    "Performance"
   ]
  },
  {
   "cell_type": "code",
   "execution_count": null,
   "metadata": {},
   "outputs": [],
   "source": []
  }
 ],
 "metadata": {
  "kernelspec": {
   "display_name": "Python 3",
   "language": "python",
   "name": "python3"
  },
  "language_info": {
   "codemirror_mode": {
    "name": "ipython",
    "version": 3
   },
   "file_extension": ".py",
   "mimetype": "text/x-python",
   "name": "python",
   "nbconvert_exporter": "python",
   "pygments_lexer": "ipython3",
   "version": "3.8.5"
  }
 },
 "nbformat": 4,
 "nbformat_minor": 4
}
